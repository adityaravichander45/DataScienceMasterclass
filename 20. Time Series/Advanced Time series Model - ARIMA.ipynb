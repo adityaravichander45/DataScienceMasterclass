{
 "cells": [
  {
   "cell_type": "code",
   "execution_count": 82,
   "id": "b6c340df",
   "metadata": {},
   "outputs": [],
   "source": [
    "import numpy as np\n",
    "import pandas as pd\n",
    "import matplotlib.pyplot as plt\n",
    "\n",
    "from statsmodels.tsa.seasonal import seasonal_decompose\n",
    "from pmdarima.arima import auto_arima\n",
    "from statsmodels.tsa.arima.model import ARIMA\n",
    "from sklearn.metrics import mean_absolute_percentage_error"
   ]
  },
  {
   "cell_type": "code",
   "execution_count": 2,
   "id": "3f111adc",
   "metadata": {},
   "outputs": [],
   "source": [
    "data = pd.read_excel('TS_Data.xlsx')"
   ]
  },
  {
   "cell_type": "code",
   "execution_count": 3,
   "id": "cef75888",
   "metadata": {},
   "outputs": [],
   "source": [
    "data = data.tail(-1)"
   ]
  },
  {
   "cell_type": "code",
   "execution_count": 4,
   "id": "f7eb4223",
   "metadata": {},
   "outputs": [],
   "source": [
    "data = data[[\"Date\",\"Marketing spends\"]]\n",
    "data.columns = [\"Date\",\"Value\"]"
   ]
  },
  {
   "cell_type": "code",
   "execution_count": 5,
   "id": "88344ab9",
   "metadata": {},
   "outputs": [
    {
     "data": {
      "text/html": [
       "<div>\n",
       "<style scoped>\n",
       "    .dataframe tbody tr th:only-of-type {\n",
       "        vertical-align: middle;\n",
       "    }\n",
       "\n",
       "    .dataframe tbody tr th {\n",
       "        vertical-align: top;\n",
       "    }\n",
       "\n",
       "    .dataframe thead th {\n",
       "        text-align: right;\n",
       "    }\n",
       "</style>\n",
       "<table border=\"1\" class=\"dataframe\">\n",
       "  <thead>\n",
       "    <tr style=\"text-align: right;\">\n",
       "      <th></th>\n",
       "      <th>Date</th>\n",
       "      <th>Value</th>\n",
       "    </tr>\n",
       "  </thead>\n",
       "  <tbody>\n",
       "    <tr>\n",
       "      <th>1</th>\n",
       "      <td>2017-01-01</td>\n",
       "      <td>176732</td>\n",
       "    </tr>\n",
       "    <tr>\n",
       "      <th>2</th>\n",
       "      <td>2017-02-01</td>\n",
       "      <td>180486</td>\n",
       "    </tr>\n",
       "    <tr>\n",
       "      <th>3</th>\n",
       "      <td>2017-03-01</td>\n",
       "      <td>180455</td>\n",
       "    </tr>\n",
       "    <tr>\n",
       "      <th>4</th>\n",
       "      <td>2017-04-01</td>\n",
       "      <td>185070</td>\n",
       "    </tr>\n",
       "    <tr>\n",
       "      <th>5</th>\n",
       "      <td>2017-05-01</td>\n",
       "      <td>195915</td>\n",
       "    </tr>\n",
       "    <tr>\n",
       "      <th>6</th>\n",
       "      <td>2017-06-01</td>\n",
       "      <td>194849</td>\n",
       "    </tr>\n",
       "    <tr>\n",
       "      <th>7</th>\n",
       "      <td>2017-07-01</td>\n",
       "      <td>175999</td>\n",
       "    </tr>\n",
       "    <tr>\n",
       "      <th>8</th>\n",
       "      <td>2017-08-01</td>\n",
       "      <td>167606</td>\n",
       "    </tr>\n",
       "    <tr>\n",
       "      <th>9</th>\n",
       "      <td>2017-09-01</td>\n",
       "      <td>204624</td>\n",
       "    </tr>\n",
       "    <tr>\n",
       "      <th>10</th>\n",
       "      <td>2017-10-01</td>\n",
       "      <td>208619</td>\n",
       "    </tr>\n",
       "    <tr>\n",
       "      <th>11</th>\n",
       "      <td>2017-11-01</td>\n",
       "      <td>211209</td>\n",
       "    </tr>\n",
       "    <tr>\n",
       "      <th>12</th>\n",
       "      <td>2017-12-01</td>\n",
       "      <td>235248</td>\n",
       "    </tr>\n",
       "    <tr>\n",
       "      <th>13</th>\n",
       "      <td>2018-01-01</td>\n",
       "      <td>206572</td>\n",
       "    </tr>\n",
       "    <tr>\n",
       "      <th>14</th>\n",
       "      <td>2018-02-01</td>\n",
       "      <td>181283</td>\n",
       "    </tr>\n",
       "    <tr>\n",
       "      <th>15</th>\n",
       "      <td>2018-03-01</td>\n",
       "      <td>176225</td>\n",
       "    </tr>\n",
       "    <tr>\n",
       "      <th>16</th>\n",
       "      <td>2018-04-01</td>\n",
       "      <td>186280</td>\n",
       "    </tr>\n",
       "    <tr>\n",
       "      <th>17</th>\n",
       "      <td>2018-05-01</td>\n",
       "      <td>195622</td>\n",
       "    </tr>\n",
       "    <tr>\n",
       "      <th>18</th>\n",
       "      <td>2018-06-01</td>\n",
       "      <td>195471</td>\n",
       "    </tr>\n",
       "    <tr>\n",
       "      <th>19</th>\n",
       "      <td>2018-07-01</td>\n",
       "      <td>186797</td>\n",
       "    </tr>\n",
       "    <tr>\n",
       "      <th>20</th>\n",
       "      <td>2018-08-01</td>\n",
       "      <td>184135</td>\n",
       "    </tr>\n",
       "    <tr>\n",
       "      <th>21</th>\n",
       "      <td>2018-09-01</td>\n",
       "      <td>200510</td>\n",
       "    </tr>\n",
       "    <tr>\n",
       "      <th>22</th>\n",
       "      <td>2018-10-01</td>\n",
       "      <td>211006</td>\n",
       "    </tr>\n",
       "    <tr>\n",
       "      <th>23</th>\n",
       "      <td>2018-11-01</td>\n",
       "      <td>238156</td>\n",
       "    </tr>\n",
       "    <tr>\n",
       "      <th>24</th>\n",
       "      <td>2018-12-01</td>\n",
       "      <td>259756</td>\n",
       "    </tr>\n",
       "    <tr>\n",
       "      <th>25</th>\n",
       "      <td>2019-01-01</td>\n",
       "      <td>207572</td>\n",
       "    </tr>\n",
       "    <tr>\n",
       "      <th>26</th>\n",
       "      <td>2019-02-01</td>\n",
       "      <td>182283</td>\n",
       "    </tr>\n",
       "    <tr>\n",
       "      <th>27</th>\n",
       "      <td>2019-03-01</td>\n",
       "      <td>177225</td>\n",
       "    </tr>\n",
       "    <tr>\n",
       "      <th>28</th>\n",
       "      <td>2019-04-01</td>\n",
       "      <td>187280</td>\n",
       "    </tr>\n",
       "    <tr>\n",
       "      <th>29</th>\n",
       "      <td>2019-05-01</td>\n",
       "      <td>196622</td>\n",
       "    </tr>\n",
       "    <tr>\n",
       "      <th>30</th>\n",
       "      <td>2019-06-01</td>\n",
       "      <td>196471</td>\n",
       "    </tr>\n",
       "    <tr>\n",
       "      <th>31</th>\n",
       "      <td>2019-07-01</td>\n",
       "      <td>187797</td>\n",
       "    </tr>\n",
       "    <tr>\n",
       "      <th>32</th>\n",
       "      <td>2019-08-01</td>\n",
       "      <td>185135</td>\n",
       "    </tr>\n",
       "    <tr>\n",
       "      <th>33</th>\n",
       "      <td>2019-09-01</td>\n",
       "      <td>201510</td>\n",
       "    </tr>\n",
       "    <tr>\n",
       "      <th>34</th>\n",
       "      <td>2019-10-01</td>\n",
       "      <td>212006</td>\n",
       "    </tr>\n",
       "    <tr>\n",
       "      <th>35</th>\n",
       "      <td>2019-11-01</td>\n",
       "      <td>239156</td>\n",
       "    </tr>\n",
       "    <tr>\n",
       "      <th>36</th>\n",
       "      <td>2019-12-01</td>\n",
       "      <td>260756</td>\n",
       "    </tr>\n",
       "  </tbody>\n",
       "</table>\n",
       "</div>"
      ],
      "text/plain": [
       "         Date   Value\n",
       "1  2017-01-01  176732\n",
       "2  2017-02-01  180486\n",
       "3  2017-03-01  180455\n",
       "4  2017-04-01  185070\n",
       "5  2017-05-01  195915\n",
       "6  2017-06-01  194849\n",
       "7  2017-07-01  175999\n",
       "8  2017-08-01  167606\n",
       "9  2017-09-01  204624\n",
       "10 2017-10-01  208619\n",
       "11 2017-11-01  211209\n",
       "12 2017-12-01  235248\n",
       "13 2018-01-01  206572\n",
       "14 2018-02-01  181283\n",
       "15 2018-03-01  176225\n",
       "16 2018-04-01  186280\n",
       "17 2018-05-01  195622\n",
       "18 2018-06-01  195471\n",
       "19 2018-07-01  186797\n",
       "20 2018-08-01  184135\n",
       "21 2018-09-01  200510\n",
       "22 2018-10-01  211006\n",
       "23 2018-11-01  238156\n",
       "24 2018-12-01  259756\n",
       "25 2019-01-01  207572\n",
       "26 2019-02-01  182283\n",
       "27 2019-03-01  177225\n",
       "28 2019-04-01  187280\n",
       "29 2019-05-01  196622\n",
       "30 2019-06-01  196471\n",
       "31 2019-07-01  187797\n",
       "32 2019-08-01  185135\n",
       "33 2019-09-01  201510\n",
       "34 2019-10-01  212006\n",
       "35 2019-11-01  239156\n",
       "36 2019-12-01  260756"
      ]
     },
     "execution_count": 5,
     "metadata": {},
     "output_type": "execute_result"
    }
   ],
   "source": [
    "data"
   ]
  },
  {
   "cell_type": "code",
   "execution_count": 6,
   "id": "133bfbe3",
   "metadata": {},
   "outputs": [
    {
     "data": {
      "text/plain": [
       "Date     0\n",
       "Value    0\n",
       "dtype: int64"
      ]
     },
     "execution_count": 6,
     "metadata": {},
     "output_type": "execute_result"
    }
   ],
   "source": [
    "data.isnull().sum()"
   ]
  },
  {
   "cell_type": "code",
   "execution_count": 7,
   "id": "609626b3",
   "metadata": {},
   "outputs": [],
   "source": [
    "data['Date'] = pd.to_datetime(data['Date'])"
   ]
  },
  {
   "cell_type": "code",
   "execution_count": 8,
   "id": "41bbf16c",
   "metadata": {},
   "outputs": [],
   "source": [
    "data.index = data['Date']"
   ]
  },
  {
   "cell_type": "code",
   "execution_count": 9,
   "id": "f9346421",
   "metadata": {},
   "outputs": [],
   "source": [
    "data = data.drop(columns=['Date'])"
   ]
  },
  {
   "cell_type": "code",
   "execution_count": 10,
   "id": "bb2e1a93",
   "metadata": {},
   "outputs": [
    {
     "data": {
      "text/html": [
       "<div>\n",
       "<style scoped>\n",
       "    .dataframe tbody tr th:only-of-type {\n",
       "        vertical-align: middle;\n",
       "    }\n",
       "\n",
       "    .dataframe tbody tr th {\n",
       "        vertical-align: top;\n",
       "    }\n",
       "\n",
       "    .dataframe thead th {\n",
       "        text-align: right;\n",
       "    }\n",
       "</style>\n",
       "<table border=\"1\" class=\"dataframe\">\n",
       "  <thead>\n",
       "    <tr style=\"text-align: right;\">\n",
       "      <th></th>\n",
       "      <th>Value</th>\n",
       "    </tr>\n",
       "    <tr>\n",
       "      <th>Date</th>\n",
       "      <th></th>\n",
       "    </tr>\n",
       "  </thead>\n",
       "  <tbody>\n",
       "    <tr>\n",
       "      <th>2017-01-01</th>\n",
       "      <td>176732</td>\n",
       "    </tr>\n",
       "    <tr>\n",
       "      <th>2017-02-01</th>\n",
       "      <td>180486</td>\n",
       "    </tr>\n",
       "    <tr>\n",
       "      <th>2017-03-01</th>\n",
       "      <td>180455</td>\n",
       "    </tr>\n",
       "    <tr>\n",
       "      <th>2017-04-01</th>\n",
       "      <td>185070</td>\n",
       "    </tr>\n",
       "    <tr>\n",
       "      <th>2017-05-01</th>\n",
       "      <td>195915</td>\n",
       "    </tr>\n",
       "    <tr>\n",
       "      <th>2017-06-01</th>\n",
       "      <td>194849</td>\n",
       "    </tr>\n",
       "    <tr>\n",
       "      <th>2017-07-01</th>\n",
       "      <td>175999</td>\n",
       "    </tr>\n",
       "    <tr>\n",
       "      <th>2017-08-01</th>\n",
       "      <td>167606</td>\n",
       "    </tr>\n",
       "    <tr>\n",
       "      <th>2017-09-01</th>\n",
       "      <td>204624</td>\n",
       "    </tr>\n",
       "    <tr>\n",
       "      <th>2017-10-01</th>\n",
       "      <td>208619</td>\n",
       "    </tr>\n",
       "    <tr>\n",
       "      <th>2017-11-01</th>\n",
       "      <td>211209</td>\n",
       "    </tr>\n",
       "    <tr>\n",
       "      <th>2017-12-01</th>\n",
       "      <td>235248</td>\n",
       "    </tr>\n",
       "    <tr>\n",
       "      <th>2018-01-01</th>\n",
       "      <td>206572</td>\n",
       "    </tr>\n",
       "    <tr>\n",
       "      <th>2018-02-01</th>\n",
       "      <td>181283</td>\n",
       "    </tr>\n",
       "    <tr>\n",
       "      <th>2018-03-01</th>\n",
       "      <td>176225</td>\n",
       "    </tr>\n",
       "    <tr>\n",
       "      <th>2018-04-01</th>\n",
       "      <td>186280</td>\n",
       "    </tr>\n",
       "    <tr>\n",
       "      <th>2018-05-01</th>\n",
       "      <td>195622</td>\n",
       "    </tr>\n",
       "    <tr>\n",
       "      <th>2018-06-01</th>\n",
       "      <td>195471</td>\n",
       "    </tr>\n",
       "    <tr>\n",
       "      <th>2018-07-01</th>\n",
       "      <td>186797</td>\n",
       "    </tr>\n",
       "    <tr>\n",
       "      <th>2018-08-01</th>\n",
       "      <td>184135</td>\n",
       "    </tr>\n",
       "    <tr>\n",
       "      <th>2018-09-01</th>\n",
       "      <td>200510</td>\n",
       "    </tr>\n",
       "    <tr>\n",
       "      <th>2018-10-01</th>\n",
       "      <td>211006</td>\n",
       "    </tr>\n",
       "    <tr>\n",
       "      <th>2018-11-01</th>\n",
       "      <td>238156</td>\n",
       "    </tr>\n",
       "    <tr>\n",
       "      <th>2018-12-01</th>\n",
       "      <td>259756</td>\n",
       "    </tr>\n",
       "    <tr>\n",
       "      <th>2019-01-01</th>\n",
       "      <td>207572</td>\n",
       "    </tr>\n",
       "    <tr>\n",
       "      <th>2019-02-01</th>\n",
       "      <td>182283</td>\n",
       "    </tr>\n",
       "    <tr>\n",
       "      <th>2019-03-01</th>\n",
       "      <td>177225</td>\n",
       "    </tr>\n",
       "    <tr>\n",
       "      <th>2019-04-01</th>\n",
       "      <td>187280</td>\n",
       "    </tr>\n",
       "    <tr>\n",
       "      <th>2019-05-01</th>\n",
       "      <td>196622</td>\n",
       "    </tr>\n",
       "    <tr>\n",
       "      <th>2019-06-01</th>\n",
       "      <td>196471</td>\n",
       "    </tr>\n",
       "    <tr>\n",
       "      <th>2019-07-01</th>\n",
       "      <td>187797</td>\n",
       "    </tr>\n",
       "    <tr>\n",
       "      <th>2019-08-01</th>\n",
       "      <td>185135</td>\n",
       "    </tr>\n",
       "    <tr>\n",
       "      <th>2019-09-01</th>\n",
       "      <td>201510</td>\n",
       "    </tr>\n",
       "    <tr>\n",
       "      <th>2019-10-01</th>\n",
       "      <td>212006</td>\n",
       "    </tr>\n",
       "    <tr>\n",
       "      <th>2019-11-01</th>\n",
       "      <td>239156</td>\n",
       "    </tr>\n",
       "    <tr>\n",
       "      <th>2019-12-01</th>\n",
       "      <td>260756</td>\n",
       "    </tr>\n",
       "  </tbody>\n",
       "</table>\n",
       "</div>"
      ],
      "text/plain": [
       "             Value\n",
       "Date              \n",
       "2017-01-01  176732\n",
       "2017-02-01  180486\n",
       "2017-03-01  180455\n",
       "2017-04-01  185070\n",
       "2017-05-01  195915\n",
       "2017-06-01  194849\n",
       "2017-07-01  175999\n",
       "2017-08-01  167606\n",
       "2017-09-01  204624\n",
       "2017-10-01  208619\n",
       "2017-11-01  211209\n",
       "2017-12-01  235248\n",
       "2018-01-01  206572\n",
       "2018-02-01  181283\n",
       "2018-03-01  176225\n",
       "2018-04-01  186280\n",
       "2018-05-01  195622\n",
       "2018-06-01  195471\n",
       "2018-07-01  186797\n",
       "2018-08-01  184135\n",
       "2018-09-01  200510\n",
       "2018-10-01  211006\n",
       "2018-11-01  238156\n",
       "2018-12-01  259756\n",
       "2019-01-01  207572\n",
       "2019-02-01  182283\n",
       "2019-03-01  177225\n",
       "2019-04-01  187280\n",
       "2019-05-01  196622\n",
       "2019-06-01  196471\n",
       "2019-07-01  187797\n",
       "2019-08-01  185135\n",
       "2019-09-01  201510\n",
       "2019-10-01  212006\n",
       "2019-11-01  239156\n",
       "2019-12-01  260756"
      ]
     },
     "execution_count": 10,
     "metadata": {},
     "output_type": "execute_result"
    }
   ],
   "source": [
    "data"
   ]
  },
  {
   "cell_type": "code",
   "execution_count": 11,
   "id": "986ab034",
   "metadata": {},
   "outputs": [],
   "source": [
    "result = seasonal_decompose(data['Value'])"
   ]
  },
  {
   "cell_type": "code",
   "execution_count": 12,
   "id": "ac4414ed",
   "metadata": {},
   "outputs": [
    {
     "data": {
      "image/png": "[encoded data removed]",
      "text/plain": [
       "<Figure size 640x480 with 4 Axes>"
      ]
     },
     "metadata": {},
     "output_type": "display_data"
    }
   ],
   "source": [
    "result.plot()\n",
    "plt.show()"
   ]
  },
  {
   "cell_type": "code",
   "execution_count": 13,
   "id": "c14b4a66",
   "metadata": {},
   "outputs": [],
   "source": [
    "data['dt'] = data.index"
   ]
  },
  {
   "cell_type": "code",
   "execution_count": 14,
   "id": "355afd54",
   "metadata": {},
   "outputs": [
    {
     "data": {
      "text/plain": [
       "pandas.core.series.Series"
      ]
     },
     "execution_count": 14,
     "metadata": {},
     "output_type": "execute_result"
    }
   ],
   "source": [
    "type(data['dt'])"
   ]
  },
  {
   "cell_type": "code",
   "execution_count": 15,
   "id": "941df212",
   "metadata": {},
   "outputs": [],
   "source": [
    "data['dt'] = pd.to_datetime(data['dt'])"
   ]
  },
  {
   "cell_type": "code",
   "execution_count": 16,
   "id": "98a2ebb3",
   "metadata": {},
   "outputs": [],
   "source": [
    "train = data[data['dt'].dt.year<2019]\n",
    "test = data[data['dt'].dt.year>2018]"
   ]
  },
  {
   "cell_type": "code",
   "execution_count": 17,
   "id": "85fbc688",
   "metadata": {},
   "outputs": [
    {
     "name": "stderr",
     "output_type": "stream",
     "text": [
      "/var/folders/cv/kmsppstx0d9281mtbqrrgl6c0000gn/T/ipykernel_26043/4112128423.py:1: SettingWithCopyWarning: \n",
      "A value is trying to be set on a copy of a slice from a DataFrame\n",
      "\n",
      "See the caveats in the documentation: https://pandas.pydata.org/pandas-docs/stable/user_guide/indexing.html#returning-a-view-versus-a-copy\n",
      "  train.drop(columns=['dt'], inplace = True)\n",
      "/var/folders/cv/kmsppstx0d9281mtbqrrgl6c0000gn/T/ipykernel_26043/4112128423.py:2: SettingWithCopyWarning: \n",
      "A value is trying to be set on a copy of a slice from a DataFrame\n",
      "\n",
      "See the caveats in the documentation: https://pandas.pydata.org/pandas-docs/stable/user_guide/indexing.html#returning-a-view-versus-a-copy\n",
      "  test.drop(columns=['dt'], inplace = True)\n"
     ]
    }
   ],
   "source": [
    "train.drop(columns=['dt'], inplace = True)\n",
    "test.drop(columns=['dt'], inplace = True)"
   ]
  },
  {
   "cell_type": "code",
   "execution_count": null,
   "id": "63911422",
   "metadata": {},
   "outputs": [],
   "source": []
  },
  {
   "cell_type": "code",
   "execution_count": 18,
   "id": "4d6ba603",
   "metadata": {},
   "outputs": [],
   "source": [
    "data_smooth = pd.DataFrame(range(1,37), columns=['X'])\n"
   ]
  },
  {
   "cell_type": "code",
   "execution_count": 19,
   "id": "ff845c1b",
   "metadata": {},
   "outputs": [],
   "source": [
    "data['X'] = data_smooth['X'].values"
   ]
  },
  {
   "cell_type": "code",
   "execution_count": 22,
   "id": "860b18c8",
   "metadata": {},
   "outputs": [
    {
     "data": {
      "text/html": [
       "<div>\n",
       "<style scoped>\n",
       "    .dataframe tbody tr th:only-of-type {\n",
       "        vertical-align: middle;\n",
       "    }\n",
       "\n",
       "    .dataframe tbody tr th {\n",
       "        vertical-align: top;\n",
       "    }\n",
       "\n",
       "    .dataframe thead th {\n",
       "        text-align: right;\n",
       "    }\n",
       "</style>\n",
       "<table border=\"1\" class=\"dataframe\">\n",
       "  <thead>\n",
       "    <tr style=\"text-align: right;\">\n",
       "      <th></th>\n",
       "      <th>Value</th>\n",
       "      <th>dt</th>\n",
       "      <th>X</th>\n",
       "    </tr>\n",
       "    <tr>\n",
       "      <th>Date</th>\n",
       "      <th></th>\n",
       "      <th></th>\n",
       "      <th></th>\n",
       "    </tr>\n",
       "  </thead>\n",
       "  <tbody>\n",
       "    <tr>\n",
       "      <th>2017-01-01</th>\n",
       "      <td>176732</td>\n",
       "      <td>2017-01-01</td>\n",
       "      <td>1</td>\n",
       "    </tr>\n",
       "    <tr>\n",
       "      <th>2017-02-01</th>\n",
       "      <td>180486</td>\n",
       "      <td>2017-02-01</td>\n",
       "      <td>2</td>\n",
       "    </tr>\n",
       "    <tr>\n",
       "      <th>2017-03-01</th>\n",
       "      <td>180455</td>\n",
       "      <td>2017-03-01</td>\n",
       "      <td>3</td>\n",
       "    </tr>\n",
       "    <tr>\n",
       "      <th>2017-04-01</th>\n",
       "      <td>185070</td>\n",
       "      <td>2017-04-01</td>\n",
       "      <td>4</td>\n",
       "    </tr>\n",
       "    <tr>\n",
       "      <th>2017-05-01</th>\n",
       "      <td>195915</td>\n",
       "      <td>2017-05-01</td>\n",
       "      <td>5</td>\n",
       "    </tr>\n",
       "    <tr>\n",
       "      <th>2017-06-01</th>\n",
       "      <td>194849</td>\n",
       "      <td>2017-06-01</td>\n",
       "      <td>6</td>\n",
       "    </tr>\n",
       "    <tr>\n",
       "      <th>2017-07-01</th>\n",
       "      <td>175999</td>\n",
       "      <td>2017-07-01</td>\n",
       "      <td>7</td>\n",
       "    </tr>\n",
       "    <tr>\n",
       "      <th>2017-08-01</th>\n",
       "      <td>167606</td>\n",
       "      <td>2017-08-01</td>\n",
       "      <td>8</td>\n",
       "    </tr>\n",
       "    <tr>\n",
       "      <th>2017-09-01</th>\n",
       "      <td>204624</td>\n",
       "      <td>2017-09-01</td>\n",
       "      <td>9</td>\n",
       "    </tr>\n",
       "    <tr>\n",
       "      <th>2017-10-01</th>\n",
       "      <td>208619</td>\n",
       "      <td>2017-10-01</td>\n",
       "      <td>10</td>\n",
       "    </tr>\n",
       "    <tr>\n",
       "      <th>2017-11-01</th>\n",
       "      <td>211209</td>\n",
       "      <td>2017-11-01</td>\n",
       "      <td>11</td>\n",
       "    </tr>\n",
       "    <tr>\n",
       "      <th>2017-12-01</th>\n",
       "      <td>235248</td>\n",
       "      <td>2017-12-01</td>\n",
       "      <td>12</td>\n",
       "    </tr>\n",
       "    <tr>\n",
       "      <th>2018-01-01</th>\n",
       "      <td>206572</td>\n",
       "      <td>2018-01-01</td>\n",
       "      <td>13</td>\n",
       "    </tr>\n",
       "    <tr>\n",
       "      <th>2018-02-01</th>\n",
       "      <td>181283</td>\n",
       "      <td>2018-02-01</td>\n",
       "      <td>14</td>\n",
       "    </tr>\n",
       "    <tr>\n",
       "      <th>2018-03-01</th>\n",
       "      <td>176225</td>\n",
       "      <td>2018-03-01</td>\n",
       "      <td>15</td>\n",
       "    </tr>\n",
       "    <tr>\n",
       "      <th>2018-04-01</th>\n",
       "      <td>186280</td>\n",
       "      <td>2018-04-01</td>\n",
       "      <td>16</td>\n",
       "    </tr>\n",
       "    <tr>\n",
       "      <th>2018-05-01</th>\n",
       "      <td>195622</td>\n",
       "      <td>2018-05-01</td>\n",
       "      <td>17</td>\n",
       "    </tr>\n",
       "    <tr>\n",
       "      <th>2018-06-01</th>\n",
       "      <td>195471</td>\n",
       "      <td>2018-06-01</td>\n",
       "      <td>18</td>\n",
       "    </tr>\n",
       "    <tr>\n",
       "      <th>2018-07-01</th>\n",
       "      <td>186797</td>\n",
       "      <td>2018-07-01</td>\n",
       "      <td>19</td>\n",
       "    </tr>\n",
       "    <tr>\n",
       "      <th>2018-08-01</th>\n",
       "      <td>184135</td>\n",
       "      <td>2018-08-01</td>\n",
       "      <td>20</td>\n",
       "    </tr>\n",
       "    <tr>\n",
       "      <th>2018-09-01</th>\n",
       "      <td>200510</td>\n",
       "      <td>2018-09-01</td>\n",
       "      <td>21</td>\n",
       "    </tr>\n",
       "    <tr>\n",
       "      <th>2018-10-01</th>\n",
       "      <td>211006</td>\n",
       "      <td>2018-10-01</td>\n",
       "      <td>22</td>\n",
       "    </tr>\n",
       "    <tr>\n",
       "      <th>2018-11-01</th>\n",
       "      <td>238156</td>\n",
       "      <td>2018-11-01</td>\n",
       "      <td>23</td>\n",
       "    </tr>\n",
       "    <tr>\n",
       "      <th>2018-12-01</th>\n",
       "      <td>259756</td>\n",
       "      <td>2018-12-01</td>\n",
       "      <td>24</td>\n",
       "    </tr>\n",
       "    <tr>\n",
       "      <th>2019-01-01</th>\n",
       "      <td>207572</td>\n",
       "      <td>2019-01-01</td>\n",
       "      <td>25</td>\n",
       "    </tr>\n",
       "    <tr>\n",
       "      <th>2019-02-01</th>\n",
       "      <td>182283</td>\n",
       "      <td>2019-02-01</td>\n",
       "      <td>26</td>\n",
       "    </tr>\n",
       "    <tr>\n",
       "      <th>2019-03-01</th>\n",
       "      <td>177225</td>\n",
       "      <td>2019-03-01</td>\n",
       "      <td>27</td>\n",
       "    </tr>\n",
       "    <tr>\n",
       "      <th>2019-04-01</th>\n",
       "      <td>187280</td>\n",
       "      <td>2019-04-01</td>\n",
       "      <td>28</td>\n",
       "    </tr>\n",
       "    <tr>\n",
       "      <th>2019-05-01</th>\n",
       "      <td>196622</td>\n",
       "      <td>2019-05-01</td>\n",
       "      <td>29</td>\n",
       "    </tr>\n",
       "    <tr>\n",
       "      <th>2019-06-01</th>\n",
       "      <td>196471</td>\n",
       "      <td>2019-06-01</td>\n",
       "      <td>30</td>\n",
       "    </tr>\n",
       "    <tr>\n",
       "      <th>2019-07-01</th>\n",
       "      <td>187797</td>\n",
       "      <td>2019-07-01</td>\n",
       "      <td>31</td>\n",
       "    </tr>\n",
       "    <tr>\n",
       "      <th>2019-08-01</th>\n",
       "      <td>185135</td>\n",
       "      <td>2019-08-01</td>\n",
       "      <td>32</td>\n",
       "    </tr>\n",
       "    <tr>\n",
       "      <th>2019-09-01</th>\n",
       "      <td>201510</td>\n",
       "      <td>2019-09-01</td>\n",
       "      <td>33</td>\n",
       "    </tr>\n",
       "    <tr>\n",
       "      <th>2019-10-01</th>\n",
       "      <td>212006</td>\n",
       "      <td>2019-10-01</td>\n",
       "      <td>34</td>\n",
       "    </tr>\n",
       "    <tr>\n",
       "      <th>2019-11-01</th>\n",
       "      <td>239156</td>\n",
       "      <td>2019-11-01</td>\n",
       "      <td>35</td>\n",
       "    </tr>\n",
       "    <tr>\n",
       "      <th>2019-12-01</th>\n",
       "      <td>260756</td>\n",
       "      <td>2019-12-01</td>\n",
       "      <td>36</td>\n",
       "    </tr>\n",
       "  </tbody>\n",
       "</table>\n",
       "</div>"
      ],
      "text/plain": [
       "             Value         dt   X\n",
       "Date                             \n",
       "2017-01-01  176732 2017-01-01   1\n",
       "2017-02-01  180486 2017-02-01   2\n",
       "2017-03-01  180455 2017-03-01   3\n",
       "2017-04-01  185070 2017-04-01   4\n",
       "2017-05-01  195915 2017-05-01   5\n",
       "2017-06-01  194849 2017-06-01   6\n",
       "2017-07-01  175999 2017-07-01   7\n",
       "2017-08-01  167606 2017-08-01   8\n",
       "2017-09-01  204624 2017-09-01   9\n",
       "2017-10-01  208619 2017-10-01  10\n",
       "2017-11-01  211209 2017-11-01  11\n",
       "2017-12-01  235248 2017-12-01  12\n",
       "2018-01-01  206572 2018-01-01  13\n",
       "2018-02-01  181283 2018-02-01  14\n",
       "2018-03-01  176225 2018-03-01  15\n",
       "2018-04-01  186280 2018-04-01  16\n",
       "2018-05-01  195622 2018-05-01  17\n",
       "2018-06-01  195471 2018-06-01  18\n",
       "2018-07-01  186797 2018-07-01  19\n",
       "2018-08-01  184135 2018-08-01  20\n",
       "2018-09-01  200510 2018-09-01  21\n",
       "2018-10-01  211006 2018-10-01  22\n",
       "2018-11-01  238156 2018-11-01  23\n",
       "2018-12-01  259756 2018-12-01  24\n",
       "2019-01-01  207572 2019-01-01  25\n",
       "2019-02-01  182283 2019-02-01  26\n",
       "2019-03-01  177225 2019-03-01  27\n",
       "2019-04-01  187280 2019-04-01  28\n",
       "2019-05-01  196622 2019-05-01  29\n",
       "2019-06-01  196471 2019-06-01  30\n",
       "2019-07-01  187797 2019-07-01  31\n",
       "2019-08-01  185135 2019-08-01  32\n",
       "2019-09-01  201510 2019-09-01  33\n",
       "2019-10-01  212006 2019-10-01  34\n",
       "2019-11-01  239156 2019-11-01  35\n",
       "2019-12-01  260756 2019-12-01  36"
      ]
     },
     "execution_count": 22,
     "metadata": {},
     "output_type": "execute_result"
    }
   ],
   "source": [
    "data"
   ]
  },
  {
   "cell_type": "markdown",
   "id": "e9c2311d",
   "metadata": {},
   "source": [
    "# Checking Stationary Properties"
   ]
  },
  {
   "cell_type": "raw",
   "id": "38683ced",
   "metadata": {},
   "source": [
    "1,2,3,4,5,6,7,6,5,4,3,3\n",
    "3,4,5 - \n",
    "4,3,3 - \n",
    "1,2,3 - \n",
    "Constantant statistical properties"
   ]
  },
  {
   "cell_type": "code",
   "execution_count": 23,
   "id": "7685419d",
   "metadata": {},
   "outputs": [],
   "source": [
    "from statsmodels.tsa.stattools import adfuller"
   ]
  },
  {
   "cell_type": "raw",
   "id": "51655764",
   "metadata": {},
   "source": [
    "The null hypothesis H0: \n",
    "    It is not Stationary\n",
    "\n",
    "Alternative hypothesis H1: \n",
    "    It is Stationary\n",
    "    \n",
    "    \n",
    "p<=0.05 ->  reject the Null Hypothesis - Stationary\n",
    "p>0.05 - > Accept the Null Hypothesis -  Not Stationary - Need to perform Differencing"
   ]
  },
  {
   "cell_type": "code",
   "execution_count": 27,
   "id": "24710ad2",
   "metadata": {},
   "outputs": [
    {
     "name": "stdout",
     "output_type": "stream",
     "text": [
      "Observations of Dickey-fuller test\n",
      "Test Statistic                 -1.634450\n",
      "p-value                         0.465162\n",
      "#lags used                     10.000000\n",
      "number of observations used    25.000000\n",
      "critical value (1%)            -3.723863\n",
      "critical value (5%)            -2.986489\n",
      "critical value (10%)           -2.632800\n",
      "dtype: float64\n"
     ]
    }
   ],
   "source": [
    "print(\"Observations of Dickey-fuller test\")\n",
    "dftest = adfuller(data['Value'],autolag='AIC')\n",
    "dfoutput=pd.Series(dftest[0:4],index=['Test Statistic','p-value','#lags used','number of observations used'])\n",
    "for key,value in dftest[4].items():\n",
    "    dfoutput['critical value (%s)'%key]= value\n",
    "print(dfoutput)"
   ]
  },
  {
   "cell_type": "code",
   "execution_count": 28,
   "id": "c2563273",
   "metadata": {},
   "outputs": [],
   "source": [
    "# Reject Null Hypothesis\n",
    "# Not a Stationary \n",
    "# We need to differencing"
   ]
  },
  {
   "cell_type": "code",
   "execution_count": 30,
   "id": "82b73dd9",
   "metadata": {},
   "outputs": [],
   "source": [
    "data['Differencing_with_1'] = data['Value'] - data['Value'].shift(1)"
   ]
  },
  {
   "cell_type": "code",
   "execution_count": 32,
   "id": "146cab63",
   "metadata": {},
   "outputs": [
    {
     "name": "stdout",
     "output_type": "stream",
     "text": [
      "Observations of Dickey-fuller test\n",
      "Test Statistic                -6.672291e+00\n",
      "p-value                        4.555742e-09\n",
      "#lags used                     1.000000e+01\n",
      "number of observations used    2.400000e+01\n",
      "critical value (1%)           -3.737709e+00\n",
      "critical value (5%)           -2.992216e+00\n",
      "critical value (10%)          -2.635747e+00\n",
      "dtype: float64\n"
     ]
    }
   ],
   "source": [
    "print(\"Observations of Dickey-fuller test\")\n",
    "dftest = adfuller(data['Differencing_with_1'].dropna(),autolag='AIC')\n",
    "dfoutput=pd.Series(dftest[0:4],index=['Test Statistic','p-value','#lags used','number of observations used'])\n",
    "for key,value in dftest[4].items():\n",
    "    dfoutput['critical value (%s)'%key]= value\n",
    "print(dfoutput)"
   ]
  },
  {
   "cell_type": "code",
   "execution_count": 33,
   "id": "2ae2b074",
   "metadata": {},
   "outputs": [
    {
     "data": {
      "text/plain": [
       "4.555742e-09"
      ]
     },
     "execution_count": 33,
     "metadata": {},
     "output_type": "execute_result"
    }
   ],
   "source": [
    "4.555742e-09"
   ]
  },
  {
   "cell_type": "code",
   "execution_count": 34,
   "id": "0fd13cdb",
   "metadata": {},
   "outputs": [
    {
     "data": {
      "text/plain": [
       "'0.000000'"
      ]
     },
     "execution_count": 34,
     "metadata": {},
     "output_type": "execute_result"
    }
   ],
   "source": [
    "'{:f}'.format(4.555742e-09)"
   ]
  },
  {
   "cell_type": "code",
   "execution_count": null,
   "id": "9ed12b99",
   "metadata": {},
   "outputs": [],
   "source": [
    "# Accept Null Hypothesis\n",
    "# Stationary \n"
   ]
  },
  {
   "cell_type": "code",
   "execution_count": 76,
   "id": "d037ce99",
   "metadata": {},
   "outputs": [
    {
     "name": "stdout",
     "output_type": "stream",
     "text": [
      "Performing stepwise search to minimize aic\n",
      " ARIMA(0,1,0)(0,0,0)[0] intercept   : AIC=787.906, Time=0.02 sec\n",
      " ARIMA(1,1,0)(0,0,0)[0] intercept   : AIC=789.263, Time=0.02 sec\n",
      " ARIMA(0,1,1)(0,0,0)[0] intercept   : AIC=789.189, Time=0.01 sec\n",
      " ARIMA(0,1,0)(0,0,0)[0]             : AIC=786.560, Time=0.01 sec\n",
      " ARIMA(1,1,1)(0,0,0)[0] intercept   : AIC=790.823, Time=0.03 sec\n",
      "\n",
      "Best model:  ARIMA(0,1,0)(0,0,0)[0]          \n",
      "Total fit time: 0.098 seconds\n"
     ]
    }
   ],
   "source": [
    "model = auto_arima(y = data['Value'], start_p=0, start_q=0,\n",
    "                      max_p=3, max_q=3,\n",
    "                      d = 1,\n",
    "                      trace=True,\n",
    "                   with_intercept = True                      )"
   ]
  },
  {
   "cell_type": "code",
   "execution_count": 77,
   "id": "6139ecfb",
   "metadata": {},
   "outputs": [
    {
     "data": {
      "text/html": [
       "<table class=\"simpletable\">\n",
       "<caption>SARIMAX Results</caption>\n",
       "<tr>\n",
       "  <th>Dep. Variable:</th>           <td>y</td>        <th>  No. Observations:  </th>    <td>36</td>   \n",
       "</tr>\n",
       "<tr>\n",
       "  <th>Model:</th>           <td>SARIMAX(0, 1, 0)</td> <th>  Log Likelihood     </th> <td>-392.280</td>\n",
       "</tr>\n",
       "<tr>\n",
       "  <th>Date:</th>            <td>Sun, 15 Oct 2023</td> <th>  AIC                </th>  <td>786.560</td>\n",
       "</tr>\n",
       "<tr>\n",
       "  <th>Time:</th>                <td>10:33:19</td>     <th>  BIC                </th>  <td>788.116</td>\n",
       "</tr>\n",
       "<tr>\n",
       "  <th>Sample:</th>             <td>01-01-2017</td>    <th>  HQIC               </th>  <td>787.097</td>\n",
       "</tr>\n",
       "<tr>\n",
       "  <th></th>                   <td>- 12-01-2019</td>   <th>                     </th>     <td> </td>   \n",
       "</tr>\n",
       "<tr>\n",
       "  <th>Covariance Type:</th>        <td>opg</td>       <th>                     </th>     <td> </td>   \n",
       "</tr>\n",
       "</table>\n",
       "<table class=\"simpletable\">\n",
       "<tr>\n",
       "     <td></td>       <th>coef</th>     <th>std err</th>      <th>z</th>      <th>P>|z|</th>  <th>[0.025</th>    <th>0.975]</th>  \n",
       "</tr>\n",
       "<tr>\n",
       "  <th>sigma2</th> <td> 3.092e+08</td> <td> 6.21e+07</td> <td>    4.976</td> <td> 0.000</td> <td> 1.87e+08</td> <td> 4.31e+08</td>\n",
       "</tr>\n",
       "</table>\n",
       "<table class=\"simpletable\">\n",
       "<tr>\n",
       "  <th>Ljung-Box (L1) (Q):</th>     <td>2.15</td> <th>  Jarque-Bera (JB):  </th> <td>5.08</td> \n",
       "</tr>\n",
       "<tr>\n",
       "  <th>Prob(Q):</th>                <td>0.14</td> <th>  Prob(JB):          </th> <td>0.08</td> \n",
       "</tr>\n",
       "<tr>\n",
       "  <th>Heteroskedasticity (H):</th> <td>1.55</td> <th>  Skew:              </th> <td>-0.75</td>\n",
       "</tr>\n",
       "<tr>\n",
       "  <th>Prob(H) (two-sided):</th>    <td>0.46</td> <th>  Kurtosis:          </th> <td>4.11</td> \n",
       "</tr>\n",
       "</table><br/><br/>Warnings:<br/>[1] Covariance matrix calculated using the outer product of gradients (complex-step)."
      ],
      "text/plain": [
       "<class 'statsmodels.iolib.summary.Summary'>\n",
       "\"\"\"\n",
       "                               SARIMAX Results                                \n",
       "==============================================================================\n",
       "Dep. Variable:                      y   No. Observations:                   36\n",
       "Model:               SARIMAX(0, 1, 0)   Log Likelihood                -392.280\n",
       "Date:                Sun, 15 Oct 2023   AIC                            786.560\n",
       "Time:                        10:33:19   BIC                            788.116\n",
       "Sample:                    01-01-2017   HQIC                           787.097\n",
       "                         - 12-01-2019                                         \n",
       "Covariance Type:                  opg                                         \n",
       "==============================================================================\n",
       "                 coef    std err          z      P>|z|      [0.025      0.975]\n",
       "------------------------------------------------------------------------------\n",
       "sigma2      3.092e+08   6.21e+07      4.976      0.000    1.87e+08    4.31e+08\n",
       "===================================================================================\n",
       "Ljung-Box (L1) (Q):                   2.15   Jarque-Bera (JB):                 5.08\n",
       "Prob(Q):                              0.14   Prob(JB):                         0.08\n",
       "Heteroskedasticity (H):               1.55   Skew:                            -0.75\n",
       "Prob(H) (two-sided):                  0.46   Kurtosis:                         4.11\n",
       "===================================================================================\n",
       "\n",
       "Warnings:\n",
       "[1] Covariance matrix calculated using the outer product of gradients (complex-step).\n",
       "\"\"\""
      ]
     },
     "execution_count": 77,
     "metadata": {},
     "output_type": "execute_result"
    }
   ],
   "source": [
    "model.summary()"
   ]
  },
  {
   "cell_type": "code",
   "execution_count": null,
   "id": "fc81155e",
   "metadata": {},
   "outputs": [],
   "source": []
  },
  {
   "cell_type": "code",
   "execution_count": 78,
   "id": "4547796d",
   "metadata": {},
   "outputs": [
    {
     "data": {
      "text/html": [
       "<div>\n",
       "<style scoped>\n",
       "    .dataframe tbody tr th:only-of-type {\n",
       "        vertical-align: middle;\n",
       "    }\n",
       "\n",
       "    .dataframe tbody tr th {\n",
       "        vertical-align: top;\n",
       "    }\n",
       "\n",
       "    .dataframe thead th {\n",
       "        text-align: right;\n",
       "    }\n",
       "</style>\n",
       "<table border=\"1\" class=\"dataframe\">\n",
       "  <thead>\n",
       "    <tr style=\"text-align: right;\">\n",
       "      <th></th>\n",
       "      <th>Forecast</th>\n",
       "    </tr>\n",
       "  </thead>\n",
       "  <tbody>\n",
       "    <tr>\n",
       "      <th>2020-01-01</th>\n",
       "      <td>260756.0</td>\n",
       "    </tr>\n",
       "    <tr>\n",
       "      <th>2020-02-01</th>\n",
       "      <td>260756.0</td>\n",
       "    </tr>\n",
       "    <tr>\n",
       "      <th>2020-03-01</th>\n",
       "      <td>260756.0</td>\n",
       "    </tr>\n",
       "    <tr>\n",
       "      <th>2020-04-01</th>\n",
       "      <td>260756.0</td>\n",
       "    </tr>\n",
       "    <tr>\n",
       "      <th>2020-05-01</th>\n",
       "      <td>260756.0</td>\n",
       "    </tr>\n",
       "    <tr>\n",
       "      <th>2020-06-01</th>\n",
       "      <td>260756.0</td>\n",
       "    </tr>\n",
       "    <tr>\n",
       "      <th>2020-07-01</th>\n",
       "      <td>260756.0</td>\n",
       "    </tr>\n",
       "    <tr>\n",
       "      <th>2020-08-01</th>\n",
       "      <td>260756.0</td>\n",
       "    </tr>\n",
       "    <tr>\n",
       "      <th>2020-09-01</th>\n",
       "      <td>260756.0</td>\n",
       "    </tr>\n",
       "    <tr>\n",
       "      <th>2020-10-01</th>\n",
       "      <td>260756.0</td>\n",
       "    </tr>\n",
       "    <tr>\n",
       "      <th>2020-11-01</th>\n",
       "      <td>260756.0</td>\n",
       "    </tr>\n",
       "    <tr>\n",
       "      <th>2020-12-01</th>\n",
       "      <td>260756.0</td>\n",
       "    </tr>\n",
       "  </tbody>\n",
       "</table>\n",
       "</div>"
      ],
      "text/plain": [
       "            Forecast\n",
       "2020-01-01  260756.0\n",
       "2020-02-01  260756.0\n",
       "2020-03-01  260756.0\n",
       "2020-04-01  260756.0\n",
       "2020-05-01  260756.0\n",
       "2020-06-01  260756.0\n",
       "2020-07-01  260756.0\n",
       "2020-08-01  260756.0\n",
       "2020-09-01  260756.0\n",
       "2020-10-01  260756.0\n",
       "2020-11-01  260756.0\n",
       "2020-12-01  260756.0"
      ]
     },
     "execution_count": 78,
     "metadata": {},
     "output_type": "execute_result"
    }
   ],
   "source": [
    "pd.DataFrame(model.predict(n_periods = 12), columns = ['Forecast'])"
   ]
  },
  {
   "cell_type": "code",
   "execution_count": 198,
   "id": "ebccef4b",
   "metadata": {},
   "outputs": [
    {
     "name": "stdout",
     "output_type": "stream",
     "text": [
      "                               SARIMAX Results                                \n",
      "==============================================================================\n",
      "Dep. Variable:                      y   No. Observations:                   36\n",
      "Model:                 ARIMA(1, 0, 0)   Log Likelihood                -401.955\n",
      "Date:                Sun, 15 Oct 2023   AIC                            809.911\n",
      "Time:                        11:08:45   BIC                            814.661\n",
      "Sample:                             0   HQIC                           811.569\n",
      "                                 - 36                                         \n",
      "Covariance Type:                  opg                                         \n",
      "==============================================================================\n",
      "                 coef    std err          z      P>|z|      [0.025      0.975]\n",
      "------------------------------------------------------------------------------\n",
      "const       1.992e+05   1.12e+04     17.799      0.000    1.77e+05    2.21e+05\n",
      "ar.L1          0.7231      0.106      6.828      0.000       0.516       0.931\n",
      "sigma2      2.875e+08      0.565   5.08e+08      0.000    2.88e+08    2.88e+08\n",
      "===================================================================================\n",
      "Ljung-Box (L1) (Q):                   3.71   Jarque-Bera (JB):                 0.55\n",
      "Prob(Q):                              0.05   Prob(JB):                         0.76\n",
      "Heteroskedasticity (H):               1.70   Skew:                             0.22\n",
      "Prob(H) (two-sided):                  0.37   Kurtosis:                         2.58\n",
      "===================================================================================\n",
      "\n",
      "Warnings:\n",
      "[1] Covariance matrix calculated using the outer product of gradients (complex-step).\n",
      "[2] Covariance matrix is singular or near-singular, with condition number 2.26e+24. Standard errors may be unstable.\n"
     ]
    }
   ],
   "source": [
    "import statsmodels as sm\n",
    "mod = sm.tsa.arima.model.ARIMA(endog = np.array(data['Value'].astype('float')), order=(1, 0, 0))\n",
    "res = mod.fit()\n",
    "print(res.summary())"
   ]
  },
  {
   "cell_type": "code",
   "execution_count": 199,
   "id": "b1c6cc03",
   "metadata": {},
   "outputs": [],
   "source": [
    "forecast = res.predict(start = 37, end = 60)"
   ]
  },
  {
   "cell_type": "code",
   "execution_count": 200,
   "id": "876fad95",
   "metadata": {},
   "outputs": [],
   "source": [
    "import seaborn as sns"
   ]
  },
  {
   "cell_type": "code",
   "execution_count": 201,
   "id": "702518d3",
   "metadata": {},
   "outputs": [
    {
     "data": {
      "image/png": "[encoded data removed]",
      "text/plain": [
       "<Figure size 640x480 with 1 Axes>"
      ]
     },
     "metadata": {},
     "output_type": "display_data"
    }
   ],
   "source": [
    "sns.lineplot(x = data['X'], y = data['Value'])\n",
    "sns.lineplot(x = range(37,61), y = forecast)\n",
    "plt.show()"
   ]
  },
  {
   "cell_type": "code",
   "execution_count": null,
   "id": "9e3605fd",
   "metadata": {},
   "outputs": [],
   "source": []
  },
  {
   "cell_type": "code",
   "execution_count": 137,
   "id": "e6d40048",
   "metadata": {},
   "outputs": [
    {
     "name": "stdout",
     "output_type": "stream",
     "text": [
      "                               SARIMAX Results                                \n",
      "==============================================================================\n",
      "Dep. Variable:                      y   No. Observations:                   36\n",
      "Model:                 ARIMA(1, 0, 1)   Log Likelihood                -397.285\n",
      "Date:                Sun, 15 Oct 2023   AIC                            802.569\n",
      "Time:                        10:49:29   BIC                            808.903\n",
      "Sample:                             0   HQIC                           804.780\n",
      "                                 - 36                                         \n",
      "Covariance Type:                  opg                                         \n",
      "==============================================================================\n",
      "                 coef    std err          z      P>|z|      [0.025      0.975]\n",
      "------------------------------------------------------------------------------\n",
      "const       1.992e+05   1.03e+04     19.413      0.000    1.79e+05    2.19e+05\n",
      "ar.L1          0.4020      0.176      2.279      0.023       0.056       0.748\n",
      "ma.L1          0.7474      0.199      3.752      0.000       0.357       1.138\n",
      "sigma2      2.637e+08      0.317   8.31e+08      0.000    2.64e+08    2.64e+08\n",
      "===================================================================================\n",
      "Ljung-Box (L1) (Q):                   0.02   Jarque-Bera (JB):                 0.46\n",
      "Prob(Q):                              0.88   Prob(JB):                         0.80\n",
      "Heteroskedasticity (H):               1.55   Skew:                             0.24\n",
      "Prob(H) (two-sided):                  0.46   Kurtosis:                         2.74\n",
      "===================================================================================\n",
      "\n",
      "Warnings:\n",
      "[1] Covariance matrix calculated using the outer product of gradients (complex-step).\n",
      "[2] Covariance matrix is singular or near-singular, with condition number 3.78e+24. Standard errors may be unstable.\n"
     ]
    }
   ],
   "source": [
    "import statsmodels as sm\n",
    "mod = sm.tsa.arima.model.ARIMA(endog = np.array(data['Value'].astype('float')), order=(1, 0, 1))\n",
    "res = mod.fit()\n",
    "print(res.summary())"
   ]
  },
  {
   "cell_type": "code",
   "execution_count": 138,
   "id": "15f11850",
   "metadata": {},
   "outputs": [],
   "source": [
    "forecast = res.predict(start = 37, end = 60)"
   ]
  },
  {
   "cell_type": "code",
   "execution_count": 139,
   "id": "bdc18c90",
   "metadata": {},
   "outputs": [],
   "source": [
    "import seaborn as sns"
   ]
  },
  {
   "cell_type": "code",
   "execution_count": 140,
   "id": "b0e802c4",
   "metadata": {
    "scrolled": false
   },
   "outputs": [
    {
     "data": {
      "image/png": "[encoded data removed]",
      "text/plain": [
       "<Figure size 640x480 with 1 Axes>"
      ]
     },
     "metadata": {},
     "output_type": "display_data"
    }
   ],
   "source": [
    "sns.lineplot(x = data['X'], y = data['Value'])\n",
    "sns.lineplot(x = range(37,61), y = forecast)\n",
    "plt.show()"
   ]
  },
  {
   "cell_type": "code",
   "execution_count": null,
   "id": "7b7d69bc",
   "metadata": {},
   "outputs": [],
   "source": []
  },
  {
   "cell_type": "code",
   "execution_count": 192,
   "id": "b106cac7",
   "metadata": {},
   "outputs": [
    {
     "name": "stdout",
     "output_type": "stream",
     "text": [
      "                               SARIMAX Results                                \n",
      "==============================================================================\n",
      "Dep. Variable:                      y   No. Observations:                   36\n",
      "Model:                 ARIMA(1, 1, 0)   Log Likelihood                -391.832\n",
      "Date:                Sun, 15 Oct 2023   AIC                            787.665\n",
      "Time:                        11:08:24   BIC                            790.775\n",
      "Sample:                             0   HQIC                           788.739\n",
      "                                 - 36                                         \n",
      "Covariance Type:                  opg                                         \n",
      "==============================================================================\n",
      "                 coef    std err          z      P>|z|      [0.025      0.975]\n",
      "------------------------------------------------------------------------------\n",
      "ar.L1          0.0816      0.109      0.752      0.452      -0.131       0.294\n",
      "sigma2      3.063e+08   6.86e-11   4.47e+18      0.000    3.06e+08    3.06e+08\n",
      "===================================================================================\n",
      "Ljung-Box (L1) (Q):                   1.33   Jarque-Bera (JB):                 6.37\n",
      "Prob(Q):                              0.25   Prob(JB):                         0.04\n",
      "Heteroskedasticity (H):               1.41   Skew:                            -0.76\n",
      "Prob(H) (two-sided):                  0.56   Kurtosis:                         4.43\n",
      "===================================================================================\n",
      "\n",
      "Warnings:\n",
      "[1] Covariance matrix calculated using the outer product of gradients (complex-step).\n",
      "[2] Covariance matrix is singular or near-singular, with condition number 7.84e+33. Standard errors may be unstable.\n"
     ]
    },
    {
     "data": {
      "image/png": "[encoded data removed]",
      "text/plain": [
       "<Figure size 640x480 with 1 Axes>"
      ]
     },
     "metadata": {},
     "output_type": "display_data"
    }
   ],
   "source": [
    "\n",
    "\n",
    "import statsmodels as sm\n",
    "mod = sm.tsa.arima.model.ARIMA(endog = np.array(data['Value'].astype('float')), order=(1, 1, 0))\n",
    "res = mod.fit()\n",
    "print(res.summary())\n",
    "\n",
    "forecast = res.predict(start = 37, end = 60)\n",
    "\n",
    "import seaborn as sns\n",
    "\n",
    "sns.lineplot(x = data['X'], y = data['Value'])\n",
    "sns.lineplot(x = range(37,61), y = forecast)\n",
    "plt.show()"
   ]
  },
  {
   "cell_type": "code",
   "execution_count": 193,
   "id": "880079ca",
   "metadata": {},
   "outputs": [],
   "source": [
    "from prophet import Prophet"
   ]
  },
  {
   "cell_type": "code",
   "execution_count": 194,
   "id": "0f3e78f3",
   "metadata": {},
   "outputs": [],
   "source": [
    "data['ds'] = data.index\n",
    "data['y'] = data['Value']"
   ]
  },
  {
   "cell_type": "code",
   "execution_count": 195,
   "id": "641ddad0",
   "metadata": {},
   "outputs": [],
   "source": [
    "data_inp = data[['ds','y']]"
   ]
  },
  {
   "cell_type": "code",
   "execution_count": 196,
   "id": "2afb016d",
   "metadata": {},
   "outputs": [
    {
     "name": "stderr",
     "output_type": "stream",
     "text": [
      "11:08:26 - cmdstanpy - INFO - Chain [1] start processing\n",
      "11:08:26 - cmdstanpy - INFO - Chain [1] done processing\n"
     ]
    },
    {
     "data": {
      "text/plain": [
       "<prophet.forecaster.Prophet at 0x7fe24cfe9460>"
      ]
     },
     "execution_count": 196,
     "metadata": {},
     "output_type": "execute_result"
    }
   ],
   "source": [
    "m = Prophet()\n",
    "m.fit(data_inp)"
   ]
  },
  {
   "cell_type": "code",
   "execution_count": 197,
   "id": "842c6075",
   "metadata": {},
   "outputs": [
    {
     "data": {
      "text/html": [
       "<div>\n",
       "<style scoped>\n",
       "    .dataframe tbody tr th:only-of-type {\n",
       "        vertical-align: middle;\n",
       "    }\n",
       "\n",
       "    .dataframe tbody tr th {\n",
       "        vertical-align: top;\n",
       "    }\n",
       "\n",
       "    .dataframe thead th {\n",
       "        text-align: right;\n",
       "    }\n",
       "</style>\n",
       "<table border=\"1\" class=\"dataframe\">\n",
       "  <thead>\n",
       "    <tr style=\"text-align: right;\">\n",
       "      <th></th>\n",
       "      <th>ds</th>\n",
       "    </tr>\n",
       "  </thead>\n",
       "  <tbody>\n",
       "    <tr>\n",
       "      <th>55</th>\n",
       "      <td>2021-07-31</td>\n",
       "    </tr>\n",
       "    <tr>\n",
       "      <th>56</th>\n",
       "      <td>2021-08-31</td>\n",
       "    </tr>\n",
       "    <tr>\n",
       "      <th>57</th>\n",
       "      <td>2021-09-30</td>\n",
       "    </tr>\n",
       "    <tr>\n",
       "      <th>58</th>\n",
       "      <td>2021-10-31</td>\n",
       "    </tr>\n",
       "    <tr>\n",
       "      <th>59</th>\n",
       "      <td>2021-11-30</td>\n",
       "    </tr>\n",
       "  </tbody>\n",
       "</table>\n",
       "</div>"
      ],
      "text/plain": [
       "           ds\n",
       "55 2021-07-31\n",
       "56 2021-08-31\n",
       "57 2021-09-30\n",
       "58 2021-10-31\n",
       "59 2021-11-30"
      ]
     },
     "execution_count": 197,
     "metadata": {},
     "output_type": "execute_result"
    }
   ],
   "source": [
    "future = m.make_future_dataframe(periods=24, freq='M')\n",
    "future.tail()"
   ]
  },
  {
   "cell_type": "code",
   "execution_count": 188,
   "id": "ce4a3f5e",
   "metadata": {},
   "outputs": [
    {
     "data": {
      "text/html": [
       "<div>\n",
       "<style scoped>\n",
       "    .dataframe tbody tr th:only-of-type {\n",
       "        vertical-align: middle;\n",
       "    }\n",
       "\n",
       "    .dataframe tbody tr th {\n",
       "        vertical-align: top;\n",
       "    }\n",
       "\n",
       "    .dataframe thead th {\n",
       "        text-align: right;\n",
       "    }\n",
       "</style>\n",
       "<table border=\"1\" class=\"dataframe\">\n",
       "  <thead>\n",
       "    <tr style=\"text-align: right;\">\n",
       "      <th></th>\n",
       "      <th>ds</th>\n",
       "      <th>yhat</th>\n",
       "      <th>yhat_lower</th>\n",
       "      <th>yhat_upper</th>\n",
       "    </tr>\n",
       "  </thead>\n",
       "  <tbody>\n",
       "    <tr>\n",
       "      <th>0</th>\n",
       "      <td>2017-01-01</td>\n",
       "      <td>184629.105491</td>\n",
       "      <td>178886.825558</td>\n",
       "      <td>189869.966424</td>\n",
       "    </tr>\n",
       "    <tr>\n",
       "      <th>1</th>\n",
       "      <td>2017-02-01</td>\n",
       "      <td>181239.527223</td>\n",
       "      <td>175241.101130</td>\n",
       "      <td>186970.925747</td>\n",
       "    </tr>\n",
       "    <tr>\n",
       "      <th>2</th>\n",
       "      <td>2017-03-01</td>\n",
       "      <td>177414.813271</td>\n",
       "      <td>171797.115083</td>\n",
       "      <td>183474.875881</td>\n",
       "    </tr>\n",
       "    <tr>\n",
       "      <th>3</th>\n",
       "      <td>2017-04-01</td>\n",
       "      <td>180820.799923</td>\n",
       "      <td>174941.440759</td>\n",
       "      <td>186437.938580</td>\n",
       "    </tr>\n",
       "    <tr>\n",
       "      <th>4</th>\n",
       "      <td>2017-05-01</td>\n",
       "      <td>190597.596808</td>\n",
       "      <td>184786.120230</td>\n",
       "      <td>196106.423678</td>\n",
       "    </tr>\n",
       "    <tr>\n",
       "      <th>5</th>\n",
       "      <td>2017-06-01</td>\n",
       "      <td>190202.178452</td>\n",
       "      <td>184438.423091</td>\n",
       "      <td>196142.254369</td>\n",
       "    </tr>\n",
       "    <tr>\n",
       "      <th>6</th>\n",
       "      <td>2017-07-01</td>\n",
       "      <td>174693.436555</td>\n",
       "      <td>169131.134396</td>\n",
       "      <td>180527.972999</td>\n",
       "    </tr>\n",
       "    <tr>\n",
       "      <th>7</th>\n",
       "      <td>2017-08-01</td>\n",
       "      <td>169634.223619</td>\n",
       "      <td>163873.074290</td>\n",
       "      <td>174970.164090</td>\n",
       "    </tr>\n",
       "    <tr>\n",
       "      <th>8</th>\n",
       "      <td>2017-09-01</td>\n",
       "      <td>205707.277922</td>\n",
       "      <td>199829.519646</td>\n",
       "      <td>211258.670126</td>\n",
       "    </tr>\n",
       "    <tr>\n",
       "      <th>9</th>\n",
       "      <td>2017-10-01</td>\n",
       "      <td>212771.614284</td>\n",
       "      <td>207090.079888</td>\n",
       "      <td>218182.322010</td>\n",
       "    </tr>\n",
       "    <tr>\n",
       "      <th>10</th>\n",
       "      <td>2017-11-01</td>\n",
       "      <td>220456.805892</td>\n",
       "      <td>214534.784663</td>\n",
       "      <td>226010.229943</td>\n",
       "    </tr>\n",
       "    <tr>\n",
       "      <th>11</th>\n",
       "      <td>2017-12-01</td>\n",
       "      <td>243766.765483</td>\n",
       "      <td>237625.190007</td>\n",
       "      <td>249500.293746</td>\n",
       "    </tr>\n",
       "    <tr>\n",
       "      <th>12</th>\n",
       "      <td>2018-01-01</td>\n",
       "      <td>197022.168269</td>\n",
       "      <td>191435.132325</td>\n",
       "      <td>202811.166864</td>\n",
       "    </tr>\n",
       "    <tr>\n",
       "      <th>13</th>\n",
       "      <td>2018-02-01</td>\n",
       "      <td>181430.788027</td>\n",
       "      <td>175268.782799</td>\n",
       "      <td>186968.191394</td>\n",
       "    </tr>\n",
       "    <tr>\n",
       "      <th>14</th>\n",
       "      <td>2018-03-01</td>\n",
       "      <td>177968.720948</td>\n",
       "      <td>172157.150023</td>\n",
       "      <td>183503.427486</td>\n",
       "    </tr>\n",
       "    <tr>\n",
       "      <th>15</th>\n",
       "      <td>2018-04-01</td>\n",
       "      <td>186210.004972</td>\n",
       "      <td>180228.270578</td>\n",
       "      <td>191836.660719</td>\n",
       "    </tr>\n",
       "    <tr>\n",
       "      <th>16</th>\n",
       "      <td>2018-05-01</td>\n",
       "      <td>196088.993313</td>\n",
       "      <td>190091.332539</td>\n",
       "      <td>201734.445659</td>\n",
       "    </tr>\n",
       "    <tr>\n",
       "      <th>17</th>\n",
       "      <td>2018-06-01</td>\n",
       "      <td>195641.959757</td>\n",
       "      <td>189421.987948</td>\n",
       "      <td>201408.657444</td>\n",
       "    </tr>\n",
       "    <tr>\n",
       "      <th>18</th>\n",
       "      <td>2018-07-01</td>\n",
       "      <td>183614.961833</td>\n",
       "      <td>177685.622541</td>\n",
       "      <td>189385.452043</td>\n",
       "    </tr>\n",
       "    <tr>\n",
       "      <th>19</th>\n",
       "      <td>2018-08-01</td>\n",
       "      <td>179117.998844</td>\n",
       "      <td>173638.295717</td>\n",
       "      <td>184453.989455</td>\n",
       "    </tr>\n",
       "    <tr>\n",
       "      <th>20</th>\n",
       "      <td>2018-09-01</td>\n",
       "      <td>202363.210597</td>\n",
       "      <td>196812.102626</td>\n",
       "      <td>207714.998333</td>\n",
       "    </tr>\n",
       "    <tr>\n",
       "      <th>21</th>\n",
       "      <td>2018-10-01</td>\n",
       "      <td>210566.507162</td>\n",
       "      <td>204606.890226</td>\n",
       "      <td>216627.130327</td>\n",
       "    </tr>\n",
       "    <tr>\n",
       "      <th>22</th>\n",
       "      <td>2018-11-01</td>\n",
       "      <td>229520.220036</td>\n",
       "      <td>223787.973556</td>\n",
       "      <td>235414.786396</td>\n",
       "    </tr>\n",
       "    <tr>\n",
       "      <th>23</th>\n",
       "      <td>2018-12-01</td>\n",
       "      <td>251976.987237</td>\n",
       "      <td>245916.176822</td>\n",
       "      <td>257703.028169</td>\n",
       "    </tr>\n",
       "    <tr>\n",
       "      <th>24</th>\n",
       "      <td>2019-01-01</td>\n",
       "      <td>209196.036842</td>\n",
       "      <td>203093.309229</td>\n",
       "      <td>214785.876373</td>\n",
       "    </tr>\n",
       "    <tr>\n",
       "      <th>25</th>\n",
       "      <td>2019-02-01</td>\n",
       "      <td>181332.889453</td>\n",
       "      <td>175852.065037</td>\n",
       "      <td>187315.919456</td>\n",
       "    </tr>\n",
       "    <tr>\n",
       "      <th>26</th>\n",
       "      <td>2019-03-01</td>\n",
       "      <td>178482.067153</td>\n",
       "      <td>172604.860315</td>\n",
       "      <td>184128.607794</td>\n",
       "    </tr>\n",
       "    <tr>\n",
       "      <th>27</th>\n",
       "      <td>2019-04-01</td>\n",
       "      <td>191570.472453</td>\n",
       "      <td>185537.542868</td>\n",
       "      <td>196974.760466</td>\n",
       "    </tr>\n",
       "    <tr>\n",
       "      <th>28</th>\n",
       "      <td>2019-05-01</td>\n",
       "      <td>201476.394734</td>\n",
       "      <td>195886.437618</td>\n",
       "      <td>207207.306406</td>\n",
       "    </tr>\n",
       "    <tr>\n",
       "      <th>29</th>\n",
       "      <td>2019-06-01</td>\n",
       "      <td>200960.047166</td>\n",
       "      <td>195398.965506</td>\n",
       "      <td>206529.887662</td>\n",
       "    </tr>\n",
       "    <tr>\n",
       "      <th>30</th>\n",
       "      <td>2019-07-01</td>\n",
       "      <td>192324.387703</td>\n",
       "      <td>186518.295239</td>\n",
       "      <td>197750.144497</td>\n",
       "    </tr>\n",
       "    <tr>\n",
       "      <th>31</th>\n",
       "      <td>2019-08-01</td>\n",
       "      <td>188163.943015</td>\n",
       "      <td>182093.757937</td>\n",
       "      <td>193903.904889</td>\n",
       "    </tr>\n",
       "    <tr>\n",
       "      <th>32</th>\n",
       "      <td>2019-09-01</td>\n",
       "      <td>198613.380010</td>\n",
       "      <td>192848.050241</td>\n",
       "      <td>204199.821549</td>\n",
       "    </tr>\n",
       "    <tr>\n",
       "      <th>33</th>\n",
       "      <td>2019-10-01</td>\n",
       "      <td>208314.309458</td>\n",
       "      <td>202624.594840</td>\n",
       "      <td>213951.642361</td>\n",
       "    </tr>\n",
       "    <tr>\n",
       "      <th>34</th>\n",
       "      <td>2019-11-01</td>\n",
       "      <td>238558.442006</td>\n",
       "      <td>233118.744321</td>\n",
       "      <td>244219.424107</td>\n",
       "    </tr>\n",
       "    <tr>\n",
       "      <th>35</th>\n",
       "      <td>2019-12-01</td>\n",
       "      <td>259993.323114</td>\n",
       "      <td>254406.298937</td>\n",
       "      <td>265295.651766</td>\n",
       "    </tr>\n",
       "    <tr>\n",
       "      <th>36</th>\n",
       "      <td>2019-12-31</td>\n",
       "      <td>248373.926189</td>\n",
       "      <td>243012.055278</td>\n",
       "      <td>253901.394189</td>\n",
       "    </tr>\n",
       "    <tr>\n",
       "      <th>37</th>\n",
       "      <td>2020-01-31</td>\n",
       "      <td>159019.122650</td>\n",
       "      <td>153113.101400</td>\n",
       "      <td>164777.321358</td>\n",
       "    </tr>\n",
       "    <tr>\n",
       "      <th>38</th>\n",
       "      <td>2020-02-29</td>\n",
       "      <td>178914.318738</td>\n",
       "      <td>173570.448244</td>\n",
       "      <td>184707.642911</td>\n",
       "    </tr>\n",
       "    <tr>\n",
       "      <th>39</th>\n",
       "      <td>2020-03-31</td>\n",
       "      <td>196902.124323</td>\n",
       "      <td>190990.847138</td>\n",
       "      <td>202932.071950</td>\n",
       "    </tr>\n",
       "    <tr>\n",
       "      <th>40</th>\n",
       "      <td>2020-04-30</td>\n",
       "      <td>206802.521931</td>\n",
       "      <td>201447.740435</td>\n",
       "      <td>212627.027332</td>\n",
       "    </tr>\n",
       "    <tr>\n",
       "      <th>41</th>\n",
       "      <td>2020-05-31</td>\n",
       "      <td>206244.550386</td>\n",
       "      <td>200879.304034</td>\n",
       "      <td>212135.945259</td>\n",
       "    </tr>\n",
       "    <tr>\n",
       "      <th>42</th>\n",
       "      <td>2020-06-30</td>\n",
       "      <td>200948.662214</td>\n",
       "      <td>194926.205477</td>\n",
       "      <td>206879.382058</td>\n",
       "    </tr>\n",
       "    <tr>\n",
       "      <th>43</th>\n",
       "      <td>2020-07-31</td>\n",
       "      <td>196942.091891</td>\n",
       "      <td>191445.731838</td>\n",
       "      <td>202927.612579</td>\n",
       "    </tr>\n",
       "    <tr>\n",
       "      <th>44</th>\n",
       "      <td>2020-08-31</td>\n",
       "      <td>194669.436492</td>\n",
       "      <td>188975.991075</td>\n",
       "      <td>200683.242640</td>\n",
       "    </tr>\n",
       "    <tr>\n",
       "      <th>45</th>\n",
       "      <td>2020-09-30</td>\n",
       "      <td>206251.549544</td>\n",
       "      <td>200789.141076</td>\n",
       "      <td>212022.549653</td>\n",
       "    </tr>\n",
       "    <tr>\n",
       "      <th>46</th>\n",
       "      <td>2020-10-31</td>\n",
       "      <td>247803.328640</td>\n",
       "      <td>241878.371173</td>\n",
       "      <td>253593.702766</td>\n",
       "    </tr>\n",
       "    <tr>\n",
       "      <th>47</th>\n",
       "      <td>2020-11-30</td>\n",
       "      <td>268031.702101</td>\n",
       "      <td>261891.603093</td>\n",
       "      <td>273751.047644</td>\n",
       "    </tr>\n",
       "    <tr>\n",
       "      <th>48</th>\n",
       "      <td>2020-12-31</td>\n",
       "      <td>232651.737177</td>\n",
       "      <td>226914.640842</td>\n",
       "      <td>238275.917253</td>\n",
       "    </tr>\n",
       "    <tr>\n",
       "      <th>49</th>\n",
       "      <td>2021-01-31</td>\n",
       "      <td>180202.752888</td>\n",
       "      <td>174511.351180</td>\n",
       "      <td>185937.547208</td>\n",
       "    </tr>\n",
       "    <tr>\n",
       "      <th>50</th>\n",
       "      <td>2021-02-28</td>\n",
       "      <td>179431.947855</td>\n",
       "      <td>173713.046808</td>\n",
       "      <td>185172.053456</td>\n",
       "    </tr>\n",
       "    <tr>\n",
       "      <th>51</th>\n",
       "      <td>2021-03-31</td>\n",
       "      <td>202342.188066</td>\n",
       "      <td>196568.277502</td>\n",
       "      <td>208225.666965</td>\n",
       "    </tr>\n",
       "    <tr>\n",
       "      <th>52</th>\n",
       "      <td>2021-04-30</td>\n",
       "      <td>212180.114399</td>\n",
       "      <td>207046.293565</td>\n",
       "      <td>217842.783798</td>\n",
       "    </tr>\n",
       "    <tr>\n",
       "      <th>53</th>\n",
       "      <td>2021-05-31</td>\n",
       "      <td>211584.038315</td>\n",
       "      <td>205676.885302</td>\n",
       "      <td>217325.891670</td>\n",
       "    </tr>\n",
       "    <tr>\n",
       "      <th>54</th>\n",
       "      <td>2021-06-30</td>\n",
       "      <td>209551.101000</td>\n",
       "      <td>203895.074333</td>\n",
       "      <td>215150.798696</td>\n",
       "    </tr>\n",
       "    <tr>\n",
       "      <th>55</th>\n",
       "      <td>2021-07-31</td>\n",
       "      <td>205497.318507</td>\n",
       "      <td>200139.798995</td>\n",
       "      <td>211001.748599</td>\n",
       "    </tr>\n",
       "    <tr>\n",
       "      <th>56</th>\n",
       "      <td>2021-08-31</td>\n",
       "      <td>190573.623199</td>\n",
       "      <td>185158.260424</td>\n",
       "      <td>196076.837272</td>\n",
       "    </tr>\n",
       "    <tr>\n",
       "      <th>57</th>\n",
       "      <td>2021-09-30</td>\n",
       "      <td>204402.012150</td>\n",
       "      <td>198808.655349</td>\n",
       "      <td>209857.013817</td>\n",
       "    </tr>\n",
       "    <tr>\n",
       "      <th>58</th>\n",
       "      <td>2021-10-31</td>\n",
       "      <td>257254.490011</td>\n",
       "      <td>251848.136701</td>\n",
       "      <td>263513.551530</td>\n",
       "    </tr>\n",
       "    <tr>\n",
       "      <th>59</th>\n",
       "      <td>2021-11-30</td>\n",
       "      <td>276085.747343</td>\n",
       "      <td>270520.819922</td>\n",
       "      <td>281576.111931</td>\n",
       "    </tr>\n",
       "  </tbody>\n",
       "</table>\n",
       "</div>"
      ],
      "text/plain": [
       "           ds           yhat     yhat_lower     yhat_upper\n",
       "0  2017-01-01  184629.105491  178886.825558  189869.966424\n",
       "1  2017-02-01  181239.527223  175241.101130  186970.925747\n",
       "2  2017-03-01  177414.813271  171797.115083  183474.875881\n",
       "3  2017-04-01  180820.799923  174941.440759  186437.938580\n",
       "4  2017-05-01  190597.596808  184786.120230  196106.423678\n",
       "5  2017-06-01  190202.178452  184438.423091  196142.254369\n",
       "6  2017-07-01  174693.436555  169131.134396  180527.972999\n",
       "7  2017-08-01  169634.223619  163873.074290  174970.164090\n",
       "8  2017-09-01  205707.277922  199829.519646  211258.670126\n",
       "9  2017-10-01  212771.614284  207090.079888  218182.322010\n",
       "10 2017-11-01  220456.805892  214534.784663  226010.229943\n",
       "11 2017-12-01  243766.765483  237625.190007  249500.293746\n",
       "12 2018-01-01  197022.168269  191435.132325  202811.166864\n",
       "13 2018-02-01  181430.788027  175268.782799  186968.191394\n",
       "14 2018-03-01  177968.720948  172157.150023  183503.427486\n",
       "15 2018-04-01  186210.004972  180228.270578  191836.660719\n",
       "16 2018-05-01  196088.993313  190091.332539  201734.445659\n",
       "17 2018-06-01  195641.959757  189421.987948  201408.657444\n",
       "18 2018-07-01  183614.961833  177685.622541  189385.452043\n",
       "19 2018-08-01  179117.998844  173638.295717  184453.989455\n",
       "20 2018-09-01  202363.210597  196812.102626  207714.998333\n",
       "21 2018-10-01  210566.507162  204606.890226  216627.130327\n",
       "22 2018-11-01  229520.220036  223787.973556  235414.786396\n",
       "23 2018-12-01  251976.987237  245916.176822  257703.028169\n",
       "24 2019-01-01  209196.036842  203093.309229  214785.876373\n",
       "25 2019-02-01  181332.889453  175852.065037  187315.919456\n",
       "26 2019-03-01  178482.067153  172604.860315  184128.607794\n",
       "27 2019-04-01  191570.472453  185537.542868  196974.760466\n",
       "28 2019-05-01  201476.394734  195886.437618  207207.306406\n",
       "29 2019-06-01  200960.047166  195398.965506  206529.887662\n",
       "30 2019-07-01  192324.387703  186518.295239  197750.144497\n",
       "31 2019-08-01  188163.943015  182093.757937  193903.904889\n",
       "32 2019-09-01  198613.380010  192848.050241  204199.821549\n",
       "33 2019-10-01  208314.309458  202624.594840  213951.642361\n",
       "34 2019-11-01  238558.442006  233118.744321  244219.424107\n",
       "35 2019-12-01  259993.323114  254406.298937  265295.651766\n",
       "36 2019-12-31  248373.926189  243012.055278  253901.394189\n",
       "37 2020-01-31  159019.122650  153113.101400  164777.321358\n",
       "38 2020-02-29  178914.318738  173570.448244  184707.642911\n",
       "39 2020-03-31  196902.124323  190990.847138  202932.071950\n",
       "40 2020-04-30  206802.521931  201447.740435  212627.027332\n",
       "41 2020-05-31  206244.550386  200879.304034  212135.945259\n",
       "42 2020-06-30  200948.662214  194926.205477  206879.382058\n",
       "43 2020-07-31  196942.091891  191445.731838  202927.612579\n",
       "44 2020-08-31  194669.436492  188975.991075  200683.242640\n",
       "45 2020-09-30  206251.549544  200789.141076  212022.549653\n",
       "46 2020-10-31  247803.328640  241878.371173  253593.702766\n",
       "47 2020-11-30  268031.702101  261891.603093  273751.047644\n",
       "48 2020-12-31  232651.737177  226914.640842  238275.917253\n",
       "49 2021-01-31  180202.752888  174511.351180  185937.547208\n",
       "50 2021-02-28  179431.947855  173713.046808  185172.053456\n",
       "51 2021-03-31  202342.188066  196568.277502  208225.666965\n",
       "52 2021-04-30  212180.114399  207046.293565  217842.783798\n",
       "53 2021-05-31  211584.038315  205676.885302  217325.891670\n",
       "54 2021-06-30  209551.101000  203895.074333  215150.798696\n",
       "55 2021-07-31  205497.318507  200139.798995  211001.748599\n",
       "56 2021-08-31  190573.623199  185158.260424  196076.837272\n",
       "57 2021-09-30  204402.012150  198808.655349  209857.013817\n",
       "58 2021-10-31  257254.490011  251848.136701  263513.551530\n",
       "59 2021-11-30  276085.747343  270520.819922  281576.111931"
      ]
     },
     "execution_count": 188,
     "metadata": {},
     "output_type": "execute_result"
    }
   ],
   "source": [
    "forecast = m.predict(future)\n",
    "forecast[['ds', 'yhat', 'yhat_lower', 'yhat_upper']]\n"
   ]
  },
  {
   "cell_type": "code",
   "execution_count": 189,
   "id": "cea3acfa",
   "metadata": {},
   "outputs": [
    {
     "data": {
      "image/png": "[encoded data removed]",
      "text/plain": [
       "<Figure size 1000x600 with 1 Axes>"
      ]
     },
     "metadata": {},
     "output_type": "display_data"
    }
   ],
   "source": [
    "fig1 = m.plot(forecast)\n"
   ]
  },
  {
   "cell_type": "code",
   "execution_count": 190,
   "id": "bd84b436",
   "metadata": {},
   "outputs": [
    {
     "data": {
      "image/png": "[encoded data removed]",
      "text/plain": [
       "<Figure size 900x600 with 2 Axes>"
      ]
     },
     "metadata": {},
     "output_type": "display_data"
    }
   ],
   "source": [
    "fig2 = m.plot_components(forecast)\n"
   ]
  },
  {
   "cell_type": "code",
   "execution_count": 191,
   "id": "947edf25",
   "metadata": {},
   "outputs": [
    {
     "data": {
      "application/vnd.plotly.v1+json": {
       "config": {
        "plotlyServerURL": "https://plot.ly"
       },
       "data": [
        {
         "marker": {
          "color": "black",
          "size": 4
         },
         "mode": "markers",
         "name": "Actual",
         "type": "scatter",
         "x": [
          "2017-01-01T00:00:00",
          "2017-02-01T00:00:00",
          "2017-03-01T00:00:00",
          "2017-04-01T00:00:00",
          "2017-05-01T00:00:00",
          "2017-06-01T00:00:00",
          "2017-07-01T00:00:00",
          "2017-08-01T00:00:00",
          "2017-09-01T00:00:00",
          "2017-10-01T00:00:00",
          "2017-11-01T00:00:00",
          "2017-12-01T00:00:00",
          "2018-01-01T00:00:00",
          "2018-02-01T00:00:00",
          "2018-03-01T00:00:00",
          "2018-04-01T00:00:00",
          "2018-05-01T00:00:00",
          "2018-06-01T00:00:00",
          "2018-07-01T00:00:00",
          "2018-08-01T00:00:00",
          "2018-09-01T00:00:00",
          "2018-10-01T00:00:00",
          "2018-11-01T00:00:00",
          "2018-12-01T00:00:00",
          "2019-01-01T00:00:00",
          "2019-02-01T00:00:00",
          "2019-03-01T00:00:00",
          "2019-04-01T00:00:00",
          "2019-05-01T00:00:00",
          "2019-06-01T00:00:00",
          "2019-07-01T00:00:00",
          "2019-08-01T00:00:00",
          "2019-09-01T00:00:00",
          "2019-10-01T00:00:00",
          "2019-11-01T00:00:00",
          "2019-12-01T00:00:00"
         ],
         "y": [
          176732,
          180486,
          180455,
          185070,
          195915,
          194849,
          175999,
          167606,
          204624,
          208619,
          211209,
          235248,
          206572,
          181283,
          176225,
          186280,
          195622,
          195471,
          186797,
          184135,
          200510,
          211006,
          238156,
          259756,
          207572,
          182283,
          177225,
          187280,
          196622,
          196471,
          187797,
          185135,
          201510,
          212006,
          239156,
          260756
         ]
        },
        {
         "hoverinfo": "skip",
         "line": {
          "width": 0
         },
         "mode": "lines",
         "type": "scatter",
         "x": [
          "2017-01-01T00:00:00",
          "2017-02-01T00:00:00",
          "2017-03-01T00:00:00",
          "2017-04-01T00:00:00",
          "2017-05-01T00:00:00",
          "2017-06-01T00:00:00",
          "2017-07-01T00:00:00",
          "2017-08-01T00:00:00",
          "2017-09-01T00:00:00",
          "2017-10-01T00:00:00",
          "2017-11-01T00:00:00",
          "2017-12-01T00:00:00",
          "2018-01-01T00:00:00",
          "2018-02-01T00:00:00",
          "2018-03-01T00:00:00",
          "2018-04-01T00:00:00",
          "2018-05-01T00:00:00",
          "2018-06-01T00:00:00",
          "2018-07-01T00:00:00",
          "2018-08-01T00:00:00",
          "2018-09-01T00:00:00",
          "2018-10-01T00:00:00",
          "2018-11-01T00:00:00",
          "2018-12-01T00:00:00",
          "2019-01-01T00:00:00",
          "2019-02-01T00:00:00",
          "2019-03-01T00:00:00",
          "2019-04-01T00:00:00",
          "2019-05-01T00:00:00",
          "2019-06-01T00:00:00",
          "2019-07-01T00:00:00",
          "2019-08-01T00:00:00",
          "2019-09-01T00:00:00",
          "2019-10-01T00:00:00",
          "2019-11-01T00:00:00",
          "2019-12-01T00:00:00",
          "2019-12-31T00:00:00",
          "2020-01-31T00:00:00",
          "2020-02-29T00:00:00",
          "2020-03-31T00:00:00",
          "2020-04-30T00:00:00",
          "2020-05-31T00:00:00",
          "2020-06-30T00:00:00",
          "2020-07-31T00:00:00",
          "2020-08-31T00:00:00",
          "2020-09-30T00:00:00",
          "2020-10-31T00:00:00",
          "2020-11-30T00:00:00",
          "2020-12-31T00:00:00",
          "2021-01-31T00:00:00",
          "2021-02-28T00:00:00",
          "2021-03-31T00:00:00",
          "2021-04-30T00:00:00",
          "2021-05-31T00:00:00",
          "2021-06-30T00:00:00",
          "2021-07-31T00:00:00",
          "2021-08-31T00:00:00",
          "2021-09-30T00:00:00",
          "2021-10-31T00:00:00",
          "2021-11-30T00:00:00"
         ],
         "y": [
          178886.82555801413,
          175241.10113025893,
          171797.1150832771,
          174941.44075904702,
          184786.1202300391,
          184438.42309147288,
          169131.1343960366,
          163873.07429043224,
          199829.51964593053,
          207090.07988812984,
          214534.784662566,
          237625.19000706237,
          191435.13232486765,
          175268.78279902224,
          172157.15002273966,
          180228.2705782752,
          190091.33253911496,
          189421.98794823355,
          177685.6225411775,
          173638.2957169019,
          196812.1026263831,
          204606.890225533,
          223787.97355626884,
          245916.1768217491,
          203093.30922902815,
          175852.0650365018,
          172604.86031514438,
          185537.54286767385,
          195886.43761783693,
          195398.96550603036,
          186518.29523928405,
          182093.75793719568,
          192848.0502409456,
          202624.59484014206,
          233118.74432139608,
          254406.29893727327,
          243012.05527831492,
          153113.10140002382,
          173570.4482439233,
          190990.8471378764,
          201447.74043461174,
          200879.30403362997,
          194926.20547654104,
          191445.73183839937,
          188975.99107504977,
          200789.14107607972,
          241878.3711730599,
          261891.60309261066,
          226914.64084166774,
          174511.35118032634,
          173713.0468083204,
          196568.2775019883,
          207046.29356524083,
          205676.88530172934,
          203895.07433268765,
          200139.79899488168,
          185158.26042411977,
          198808.65534904698,
          251848.13670068138,
          270520.819922056
         ]
        },
        {
         "fill": "tonexty",
         "fillcolor": "rgba(0, 114, 178, 0.2)",
         "line": {
          "color": "#0072B2",
          "width": 2
         },
         "mode": "lines",
         "name": "Predicted",
         "type": "scatter",
         "x": [
          "2017-01-01T00:00:00",
          "2017-02-01T00:00:00",
          "2017-03-01T00:00:00",
          "2017-04-01T00:00:00",
          "2017-05-01T00:00:00",
          "2017-06-01T00:00:00",
          "2017-07-01T00:00:00",
          "2017-08-01T00:00:00",
          "2017-09-01T00:00:00",
          "2017-10-01T00:00:00",
          "2017-11-01T00:00:00",
          "2017-12-01T00:00:00",
          "2018-01-01T00:00:00",
          "2018-02-01T00:00:00",
          "2018-03-01T00:00:00",
          "2018-04-01T00:00:00",
          "2018-05-01T00:00:00",
          "2018-06-01T00:00:00",
          "2018-07-01T00:00:00",
          "2018-08-01T00:00:00",
          "2018-09-01T00:00:00",
          "2018-10-01T00:00:00",
          "2018-11-01T00:00:00",
          "2018-12-01T00:00:00",
          "2019-01-01T00:00:00",
          "2019-02-01T00:00:00",
          "2019-03-01T00:00:00",
          "2019-04-01T00:00:00",
          "2019-05-01T00:00:00",
          "2019-06-01T00:00:00",
          "2019-07-01T00:00:00",
          "2019-08-01T00:00:00",
          "2019-09-01T00:00:00",
          "2019-10-01T00:00:00",
          "2019-11-01T00:00:00",
          "2019-12-01T00:00:00",
          "2019-12-31T00:00:00",
          "2020-01-31T00:00:00",
          "2020-02-29T00:00:00",
          "2020-03-31T00:00:00",
          "2020-04-30T00:00:00",
          "2020-05-31T00:00:00",
          "2020-06-30T00:00:00",
          "2020-07-31T00:00:00",
          "2020-08-31T00:00:00",
          "2020-09-30T00:00:00",
          "2020-10-31T00:00:00",
          "2020-11-30T00:00:00",
          "2020-12-31T00:00:00",
          "2021-01-31T00:00:00",
          "2021-02-28T00:00:00",
          "2021-03-31T00:00:00",
          "2021-04-30T00:00:00",
          "2021-05-31T00:00:00",
          "2021-06-30T00:00:00",
          "2021-07-31T00:00:00",
          "2021-08-31T00:00:00",
          "2021-09-30T00:00:00",
          "2021-10-31T00:00:00",
          "2021-11-30T00:00:00"
         ],
         "y": [
          184629.10549084638,
          181239.5272232226,
          177414.81327107397,
          180820.79992252734,
          190597.5968078861,
          190202.1784517797,
          174693.43655517578,
          169634.22361924115,
          205707.2779221007,
          212771.61428352058,
          220456.80589191624,
          243766.76548330445,
          197022.1682691139,
          181430.78802748575,
          177968.72094784077,
          186210.00497221484,
          196088.99331312036,
          195641.9597571997,
          183614.96183344186,
          179117.9988436027,
          202363.21059704555,
          210566.5071617131,
          229520.2200362223,
          251976.98723675212,
          209196.03684222786,
          181332.8894531486,
          178482.06715347123,
          191570.47245262383,
          201476.39473405693,
          200960.04716641095,
          192324.38770349775,
          188163.94301547503,
          198613.38000990916,
          208314.30945808397,
          238558.4420060623,
          259993.32311373905,
          248373.9261886365,
          159019.12265033522,
          178914.31873808632,
          196902.1243232148,
          206802.52193081082,
          206244.55038560453,
          200948.6622135084,
          196942.09189123884,
          194669.43649189486,
          206251.54954361313,
          247803.32863987942,
          268031.7021006961,
          232651.737176694,
          180202.75288792592,
          179431.94785477157,
          202342.18806571304,
          212180.11439930386,
          211584.03831507594,
          209551.10100008835,
          205497.31850683922,
          190573.62319943053,
          204402.01215036795,
          257254.49001139964,
          276085.7473426049
         ]
        },
        {
         "fill": "tonexty",
         "fillcolor": "rgba(0, 114, 178, 0.2)",
         "hoverinfo": "skip",
         "line": {
          "width": 0
         },
         "mode": "lines",
         "type": "scatter",
         "x": [
          "2017-01-01T00:00:00",
          "2017-02-01T00:00:00",
          "2017-03-01T00:00:00",
          "2017-04-01T00:00:00",
          "2017-05-01T00:00:00",
          "2017-06-01T00:00:00",
          "2017-07-01T00:00:00",
          "2017-08-01T00:00:00",
          "2017-09-01T00:00:00",
          "2017-10-01T00:00:00",
          "2017-11-01T00:00:00",
          "2017-12-01T00:00:00",
          "2018-01-01T00:00:00",
          "2018-02-01T00:00:00",
          "2018-03-01T00:00:00",
          "2018-04-01T00:00:00",
          "2018-05-01T00:00:00",
          "2018-06-01T00:00:00",
          "2018-07-01T00:00:00",
          "2018-08-01T00:00:00",
          "2018-09-01T00:00:00",
          "2018-10-01T00:00:00",
          "2018-11-01T00:00:00",
          "2018-12-01T00:00:00",
          "2019-01-01T00:00:00",
          "2019-02-01T00:00:00",
          "2019-03-01T00:00:00",
          "2019-04-01T00:00:00",
          "2019-05-01T00:00:00",
          "2019-06-01T00:00:00",
          "2019-07-01T00:00:00",
          "2019-08-01T00:00:00",
          "2019-09-01T00:00:00",
          "2019-10-01T00:00:00",
          "2019-11-01T00:00:00",
          "2019-12-01T00:00:00",
          "2019-12-31T00:00:00",
          "2020-01-31T00:00:00",
          "2020-02-29T00:00:00",
          "2020-03-31T00:00:00",
          "2020-04-30T00:00:00",
          "2020-05-31T00:00:00",
          "2020-06-30T00:00:00",
          "2020-07-31T00:00:00",
          "2020-08-31T00:00:00",
          "2020-09-30T00:00:00",
          "2020-10-31T00:00:00",
          "2020-11-30T00:00:00",
          "2020-12-31T00:00:00",
          "2021-01-31T00:00:00",
          "2021-02-28T00:00:00",
          "2021-03-31T00:00:00",
          "2021-04-30T00:00:00",
          "2021-05-31T00:00:00",
          "2021-06-30T00:00:00",
          "2021-07-31T00:00:00",
          "2021-08-31T00:00:00",
          "2021-09-30T00:00:00",
          "2021-10-31T00:00:00",
          "2021-11-30T00:00:00"
         ],
         "y": [
          189869.96642415208,
          186970.9257466273,
          183474.87588079646,
          186437.93858011006,
          196106.42367750494,
          196142.2543691798,
          180527.97299910503,
          174970.16408951575,
          211258.67012625877,
          218182.3220100298,
          226010.22994269803,
          249500.2937457119,
          202811.16686439083,
          186968.19139418594,
          183503.42748649456,
          191836.6607189745,
          201734.4456592945,
          201408.65744445703,
          189385.45204250343,
          184453.98945546788,
          207714.9983334719,
          216627.1303274894,
          235414.78639581733,
          257703.02816922235,
          214785.87637258813,
          187315.9194561053,
          184128.60779421366,
          196974.76046639637,
          207207.30640644612,
          206529.88766215145,
          197750.14449699374,
          193903.904889238,
          204199.82154855103,
          213951.64236071258,
          244219.42410657337,
          265295.6517655692,
          253901.39418879958,
          164777.3213583018,
          184707.64291139707,
          202932.07195020095,
          212627.027331921,
          212135.9452591759,
          206879.38205778468,
          202927.61257874782,
          200683.24264047373,
          212022.54965313163,
          253593.70276579674,
          273751.0476438407,
          238275.91725286527,
          185937.5472078658,
          185172.0534564367,
          208225.66696469364,
          217842.783798227,
          217325.891669779,
          215150.79869556936,
          211001.74859898083,
          196076.83727223557,
          209857.0138172456,
          263513.5515297932,
          281576.1119309431
         ]
        }
       ],
       "layout": {
        "height": 600,
        "showlegend": false,
        "template": {
         "data": {
          "bar": [
           {
            "error_x": {
             "color": "#2a3f5f"
            },
            "error_y": {
             "color": "#2a3f5f"
            },
            "marker": {
             "line": {
              "color": "#E5ECF6",
              "width": 0.5
             },
             "pattern": {
              "fillmode": "overlay",
              "size": 10,
              "solidity": 0.2
             }
            },
            "type": "bar"
           }
          ],
          "barpolar": [
           {
            "marker": {
             "line": {
              "color": "#E5ECF6",
              "width": 0.5
             },
             "pattern": {
              "fillmode": "overlay",
              "size": 10,
              "solidity": 0.2
             }
            },
            "type": "barpolar"
           }
          ],
          "carpet": [
           {
            "aaxis": {
             "endlinecolor": "#2a3f5f",
             "gridcolor": "white",
             "linecolor": "white",
             "minorgridcolor": "white",
             "startlinecolor": "#2a3f5f"
            },
            "baxis": {
             "endlinecolor": "#2a3f5f",
             "gridcolor": "white",
             "linecolor": "white",
             "minorgridcolor": "white",
             "startlinecolor": "#2a3f5f"
            },
            "type": "carpet"
           }
          ],
          "choropleth": [
           {
            "colorbar": {
             "outlinewidth": 0,
             "ticks": ""
            },
            "type": "choropleth"
           }
          ],
          "contour": [
           {
            "colorbar": {
             "outlinewidth": 0,
             "ticks": ""
            },
            "colorscale": [
             [
              0,
              "#0d0887"
             ],
             [
              0.1111111111111111,
              "#46039f"
             ],
             [
              0.2222222222222222,
              "#7201a8"
             ],
             [
              0.3333333333333333,
              "#9c179e"
             ],
             [
              0.4444444444444444,
              "#bd3786"
             ],
             [
              0.5555555555555556,
              "#d8576b"
             ],
             [
              0.6666666666666666,
              "#ed7953"
             ],
             [
              0.7777777777777778,
              "#fb9f3a"
             ],
             [
              0.8888888888888888,
              "#fdca26"
             ],
             [
              1,
              "#f0f921"
             ]
            ],
            "type": "contour"
           }
          ],
          "contourcarpet": [
           {
            "colorbar": {
             "outlinewidth": 0,
             "ticks": ""
            },
            "type": "contourcarpet"
           }
          ],
          "heatmap": [
           {
            "colorbar": {
             "outlinewidth": 0,
             "ticks": ""
            },
            "colorscale": [
             [
              0,
              "#0d0887"
             ],
             [
              0.1111111111111111,
              "#46039f"
             ],
             [
              0.2222222222222222,
              "#7201a8"
             ],
             [
              0.3333333333333333,
              "#9c179e"
             ],
             [
              0.4444444444444444,
              "#bd3786"
             ],
             [
              0.5555555555555556,
              "#d8576b"
             ],
             [
              0.6666666666666666,
              "#ed7953"
             ],
             [
              0.7777777777777778,
              "#fb9f3a"
             ],
             [
              0.8888888888888888,
              "#fdca26"
             ],
             [
              1,
              "#f0f921"
             ]
            ],
            "type": "heatmap"
           }
          ],
          "heatmapgl": [
           {
            "colorbar": {
             "outlinewidth": 0,
             "ticks": ""
            },
            "colorscale": [
             [
              0,
              "#0d0887"
             ],
             [
              0.1111111111111111,
              "#46039f"
             ],
             [
              0.2222222222222222,
              "#7201a8"
             ],
             [
              0.3333333333333333,
              "#9c179e"
             ],
             [
              0.4444444444444444,
              "#bd3786"
             ],
             [
              0.5555555555555556,
              "#d8576b"
             ],
             [
              0.6666666666666666,
              "#ed7953"
             ],
             [
              0.7777777777777778,
              "#fb9f3a"
             ],
             [
              0.8888888888888888,
              "#fdca26"
             ],
             [
              1,
              "#f0f921"
             ]
            ],
            "type": "heatmapgl"
           }
          ],
          "histogram": [
           {
            "marker": {
             "pattern": {
              "fillmode": "overlay",
              "size": 10,
              "solidity": 0.2
             }
            },
            "type": "histogram"
           }
          ],
          "histogram2d": [
           {
            "colorbar": {
             "outlinewidth": 0,
             "ticks": ""
            },
            "colorscale": [
             [
              0,
              "#0d0887"
             ],
             [
              0.1111111111111111,
              "#46039f"
             ],
             [
              0.2222222222222222,
              "#7201a8"
             ],
             [
              0.3333333333333333,
              "#9c179e"
             ],
             [
              0.4444444444444444,
              "#bd3786"
             ],
             [
              0.5555555555555556,
              "#d8576b"
             ],
             [
              0.6666666666666666,
              "#ed7953"
             ],
             [
              0.7777777777777778,
              "#fb9f3a"
             ],
             [
              0.8888888888888888,
              "#fdca26"
             ],
             [
              1,
              "#f0f921"
             ]
            ],
            "type": "histogram2d"
           }
          ],
          "histogram2dcontour": [
           {
            "colorbar": {
             "outlinewidth": 0,
             "ticks": ""
            },
            "colorscale": [
             [
              0,
              "#0d0887"
             ],
             [
              0.1111111111111111,
              "#46039f"
             ],
             [
              0.2222222222222222,
              "#7201a8"
             ],
             [
              0.3333333333333333,
              "#9c179e"
             ],
             [
              0.4444444444444444,
              "#bd3786"
             ],
             [
              0.5555555555555556,
              "#d8576b"
             ],
             [
              0.6666666666666666,
              "#ed7953"
             ],
             [
              0.7777777777777778,
              "#fb9f3a"
             ],
             [
              0.8888888888888888,
              "#fdca26"
             ],
             [
              1,
              "#f0f921"
             ]
            ],
            "type": "histogram2dcontour"
           }
          ],
          "mesh3d": [
           {
            "colorbar": {
             "outlinewidth": 0,
             "ticks": ""
            },
            "type": "mesh3d"
           }
          ],
          "parcoords": [
           {
            "line": {
             "colorbar": {
              "outlinewidth": 0,
              "ticks": ""
             }
            },
            "type": "parcoords"
           }
          ],
          "pie": [
           {
            "automargin": true,
            "type": "pie"
           }
          ],
          "scatter": [
           {
            "fillpattern": {
             "fillmode": "overlay",
             "size": 10,
             "solidity": 0.2
            },
            "type": "scatter"
           }
          ],
          "scatter3d": [
           {
            "line": {
             "colorbar": {
              "outlinewidth": 0,
              "ticks": ""
             }
            },
            "marker": {
             "colorbar": {
              "outlinewidth": 0,
              "ticks": ""
             }
            },
            "type": "scatter3d"
           }
          ],
          "scattercarpet": [
           {
            "marker": {
             "colorbar": {
              "outlinewidth": 0,
              "ticks": ""
             }
            },
            "type": "scattercarpet"
           }
          ],
          "scattergeo": [
           {
            "marker": {
             "colorbar": {
              "outlinewidth": 0,
              "ticks": ""
             }
            },
            "type": "scattergeo"
           }
          ],
          "scattergl": [
           {
            "marker": {
             "colorbar": {
              "outlinewidth": 0,
              "ticks": ""
             }
            },
            "type": "scattergl"
           }
          ],
          "scattermapbox": [
           {
            "marker": {
             "colorbar": {
              "outlinewidth": 0,
              "ticks": ""
             }
            },
            "type": "scattermapbox"
           }
          ],
          "scatterpolar": [
           {
            "marker": {
             "colorbar": {
              "outlinewidth": 0,
              "ticks": ""
             }
            },
            "type": "scatterpolar"
           }
          ],
          "scatterpolargl": [
           {
            "marker": {
             "colorbar": {
              "outlinewidth": 0,
              "ticks": ""
             }
            },
            "type": "scatterpolargl"
           }
          ],
          "scatterternary": [
           {
            "marker": {
             "colorbar": {
              "outlinewidth": 0,
              "ticks": ""
             }
            },
            "type": "scatterternary"
           }
          ],
          "surface": [
           {
            "colorbar": {
             "outlinewidth": 0,
             "ticks": ""
            },
            "colorscale": [
             [
              0,
              "#0d0887"
             ],
             [
              0.1111111111111111,
              "#46039f"
             ],
             [
              0.2222222222222222,
              "#7201a8"
             ],
             [
              0.3333333333333333,
              "#9c179e"
             ],
             [
              0.4444444444444444,
              "#bd3786"
             ],
             [
              0.5555555555555556,
              "#d8576b"
             ],
             [
              0.6666666666666666,
              "#ed7953"
             ],
             [
              0.7777777777777778,
              "#fb9f3a"
             ],
             [
              0.8888888888888888,
              "#fdca26"
             ],
             [
              1,
              "#f0f921"
             ]
            ],
            "type": "surface"
           }
          ],
          "table": [
           {
            "cells": {
             "fill": {
              "color": "#EBF0F8"
             },
             "line": {
              "color": "white"
             }
            },
            "header": {
             "fill": {
              "color": "#C8D4E3"
             },
             "line": {
              "color": "white"
             }
            },
            "type": "table"
           }
          ]
         },
         "layout": {
          "annotationdefaults": {
           "arrowcolor": "#2a3f5f",
           "arrowhead": 0,
           "arrowwidth": 1
          },
          "autotypenumbers": "strict",
          "coloraxis": {
           "colorbar": {
            "outlinewidth": 0,
            "ticks": ""
           }
          },
          "colorscale": {
           "diverging": [
            [
             0,
             "#8e0152"
            ],
            [
             0.1,
             "#c51b7d"
            ],
            [
             0.2,
             "#de77ae"
            ],
            [
             0.3,
             "#f1b6da"
            ],
            [
             0.4,
             "#fde0ef"
            ],
            [
             0.5,
             "#f7f7f7"
            ],
            [
             0.6,
             "#e6f5d0"
            ],
            [
             0.7,
             "#b8e186"
            ],
            [
             0.8,
             "#7fbc41"
            ],
            [
             0.9,
             "#4d9221"
            ],
            [
             1,
             "#276419"
            ]
           ],
           "sequential": [
            [
             0,
             "#0d0887"
            ],
            [
             0.1111111111111111,
             "#46039f"
            ],
            [
             0.2222222222222222,
             "#7201a8"
            ],
            [
             0.3333333333333333,
             "#9c179e"
            ],
            [
             0.4444444444444444,
             "#bd3786"
            ],
            [
             0.5555555555555556,
             "#d8576b"
            ],
            [
             0.6666666666666666,
             "#ed7953"
            ],
            [
             0.7777777777777778,
             "#fb9f3a"
            ],
            [
             0.8888888888888888,
             "#fdca26"
            ],
            [
             1,
             "#f0f921"
            ]
           ],
           "sequentialminus": [
            [
             0,
             "#0d0887"
            ],
            [
             0.1111111111111111,
             "#46039f"
            ],
            [
             0.2222222222222222,
             "#7201a8"
            ],
            [
             0.3333333333333333,
             "#9c179e"
            ],
            [
             0.4444444444444444,
             "#bd3786"
            ],
            [
             0.5555555555555556,
             "#d8576b"
            ],
            [
             0.6666666666666666,
             "#ed7953"
            ],
            [
             0.7777777777777778,
             "#fb9f3a"
            ],
            [
             0.8888888888888888,
             "#fdca26"
            ],
            [
             1,
             "#f0f921"
            ]
           ]
          },
          "colorway": [
           "#636efa",
           "#EF553B",
           "#00cc96",
           "#ab63fa",
           "#FFA15A",
           "#19d3f3",
           "#FF6692",
           "#B6E880",
           "#FF97FF",
           "#FECB52"
          ],
          "font": {
           "color": "#2a3f5f"
          },
          "geo": {
           "bgcolor": "white",
           "lakecolor": "white",
           "landcolor": "#E5ECF6",
           "showlakes": true,
           "showland": true,
           "subunitcolor": "white"
          },
          "hoverlabel": {
           "align": "left"
          },
          "hovermode": "closest",
          "mapbox": {
           "style": "light"
          },
          "paper_bgcolor": "white",
          "plot_bgcolor": "#E5ECF6",
          "polar": {
           "angularaxis": {
            "gridcolor": "white",
            "linecolor": "white",
            "ticks": ""
           },
           "bgcolor": "#E5ECF6",
           "radialaxis": {
            "gridcolor": "white",
            "linecolor": "white",
            "ticks": ""
           }
          },
          "scene": {
           "xaxis": {
            "backgroundcolor": "#E5ECF6",
            "gridcolor": "white",
            "gridwidth": 2,
            "linecolor": "white",
            "showbackground": true,
            "ticks": "",
            "zerolinecolor": "white"
           },
           "yaxis": {
            "backgroundcolor": "#E5ECF6",
            "gridcolor": "white",
            "gridwidth": 2,
            "linecolor": "white",
            "showbackground": true,
            "ticks": "",
            "zerolinecolor": "white"
           },
           "zaxis": {
            "backgroundcolor": "#E5ECF6",
            "gridcolor": "white",
            "gridwidth": 2,
            "linecolor": "white",
            "showbackground": true,
            "ticks": "",
            "zerolinecolor": "white"
           }
          },
          "shapedefaults": {
           "line": {
            "color": "#2a3f5f"
           }
          },
          "ternary": {
           "aaxis": {
            "gridcolor": "white",
            "linecolor": "white",
            "ticks": ""
           },
           "baxis": {
            "gridcolor": "white",
            "linecolor": "white",
            "ticks": ""
           },
           "bgcolor": "#E5ECF6",
           "caxis": {
            "gridcolor": "white",
            "linecolor": "white",
            "ticks": ""
           }
          },
          "title": {
           "x": 0.05
          },
          "xaxis": {
           "automargin": true,
           "gridcolor": "white",
           "linecolor": "white",
           "ticks": "",
           "title": {
            "standoff": 15
           },
           "zerolinecolor": "white",
           "zerolinewidth": 2
          },
          "yaxis": {
           "automargin": true,
           "gridcolor": "white",
           "linecolor": "white",
           "ticks": "",
           "title": {
            "standoff": 15
           },
           "zerolinecolor": "white",
           "zerolinewidth": 2
          }
         }
        },
        "width": 900,
        "xaxis": {
         "rangeselector": {
          "buttons": [
           {
            "count": 7,
            "label": "1w",
            "step": "day",
            "stepmode": "backward"
           },
           {
            "count": 1,
            "label": "1m",
            "step": "month",
            "stepmode": "backward"
           },
           {
            "count": 6,
            "label": "6m",
            "step": "month",
            "stepmode": "backward"
           },
           {
            "count": 1,
            "label": "1y",
            "step": "year",
            "stepmode": "backward"
           },
           {
            "step": "all"
           }
          ]
         },
         "rangeslider": {
          "visible": true
         },
         "title": {
          "text": "ds"
         },
         "type": "date"
        },
        "yaxis": {
         "title": {
          "text": "y"
         }
        }
       }
      },
      "text/html": [
       "<div>                            <div id=\"42c4708a-c791-4a51-b133-eb7ffe05c4db\" class=\"plotly-graph-div\" style=\"height:600px; width:900px;\"></div>            <script type=\"text/javascript\">                require([\"plotly\"], function(Plotly) {                    window.PLOTLYENV=window.PLOTLYENV || {};                                    if (document.getElementById(\"42c4708a-c791-4a51-b133-eb7ffe05c4db\")) {                    Plotly.newPlot(                        \"42c4708a-c791-4a51-b133-eb7ffe05c4db\",                        [{\"marker\":{\"color\":\"black\",\"size\":4},\"mode\":\"markers\",\"name\":\"Actual\",\"x\":[\"2017-01-01T00:00:00\",\"2017-02-01T00:00:00\",\"2017-03-01T00:00:00\",\"2017-04-01T00:00:00\",\"2017-05-01T00:00:00\",\"2017-06-01T00:00:00\",\"2017-07-01T00:00:00\",\"2017-08-01T00:00:00\",\"2017-09-01T00:00:00\",\"2017-10-01T00:00:00\",\"2017-11-01T00:00:00\",\"2017-12-01T00:00:00\",\"2018-01-01T00:00:00\",\"2018-02-01T00:00:00\",\"2018-03-01T00:00:00\",\"2018-04-01T00:00:00\",\"2018-05-01T00:00:00\",\"2018-06-01T00:00:00\",\"2018-07-01T00:00:00\",\"2018-08-01T00:00:00\",\"2018-09-01T00:00:00\",\"2018-10-01T00:00:00\",\"2018-11-01T00:00:00\",\"2018-12-01T00:00:00\",\"2019-01-01T00:00:00\",\"2019-02-01T00:00:00\",\"2019-03-01T00:00:00\",\"2019-04-01T00:00:00\",\"2019-05-01T00:00:00\",\"2019-06-01T00:00:00\",\"2019-07-01T00:00:00\",\"2019-08-01T00:00:00\",\"2019-09-01T00:00:00\",\"2019-10-01T00:00:00\",\"2019-11-01T00:00:00\",\"2019-12-01T00:00:00\"],\"y\":[176732,180486,180455,185070,195915,194849,175999,167606,204624,208619,211209,235248,206572,181283,176225,186280,195622,195471,186797,184135,200510,211006,238156,259756,207572,182283,177225,187280,196622,196471,187797,185135,201510,212006,239156,260756],\"type\":\"scatter\"},{\"hoverinfo\":\"skip\",\"line\":{\"width\":0},\"mode\":\"lines\",\"x\":[\"2017-01-01T00:00:00\",\"2017-02-01T00:00:00\",\"2017-03-01T00:00:00\",\"2017-04-01T00:00:00\",\"2017-05-01T00:00:00\",\"2017-06-01T00:00:00\",\"2017-07-01T00:00:00\",\"2017-08-01T00:00:00\",\"2017-09-01T00:00:00\",\"2017-10-01T00:00:00\",\"2017-11-01T00:00:00\",\"2017-12-01T00:00:00\",\"2018-01-01T00:00:00\",\"2018-02-01T00:00:00\",\"2018-03-01T00:00:00\",\"2018-04-01T00:00:00\",\"2018-05-01T00:00:00\",\"2018-06-01T00:00:00\",\"2018-07-01T00:00:00\",\"2018-08-01T00:00:00\",\"2018-09-01T00:00:00\",\"2018-10-01T00:00:00\",\"2018-11-01T00:00:00\",\"2018-12-01T00:00:00\",\"2019-01-01T00:00:00\",\"2019-02-01T00:00:00\",\"2019-03-01T00:00:00\",\"2019-04-01T00:00:00\",\"2019-05-01T00:00:00\",\"2019-06-01T00:00:00\",\"2019-07-01T00:00:00\",\"2019-08-01T00:00:00\",\"2019-09-01T00:00:00\",\"2019-10-01T00:00:00\",\"2019-11-01T00:00:00\",\"2019-12-01T00:00:00\",\"2019-12-31T00:00:00\",\"2020-01-31T00:00:00\",\"2020-02-29T00:00:00\",\"2020-03-31T00:00:00\",\"2020-04-30T00:00:00\",\"2020-05-31T00:00:00\",\"2020-06-30T00:00:00\",\"2020-07-31T00:00:00\",\"2020-08-31T00:00:00\",\"2020-09-30T00:00:00\",\"2020-10-31T00:00:00\",\"2020-11-30T00:00:00\",\"2020-12-31T00:00:00\",\"2021-01-31T00:00:00\",\"2021-02-28T00:00:00\",\"2021-03-31T00:00:00\",\"2021-04-30T00:00:00\",\"2021-05-31T00:00:00\",\"2021-06-30T00:00:00\",\"2021-07-31T00:00:00\",\"2021-08-31T00:00:00\",\"2021-09-30T00:00:00\",\"2021-10-31T00:00:00\",\"2021-11-30T00:00:00\"],\"y\":[178886.82555801413,175241.10113025893,171797.1150832771,174941.44075904702,184786.1202300391,184438.42309147288,169131.1343960366,163873.07429043224,199829.51964593053,207090.07988812984,214534.784662566,237625.19000706237,191435.13232486765,175268.78279902224,172157.15002273966,180228.2705782752,190091.33253911496,189421.98794823355,177685.6225411775,173638.2957169019,196812.1026263831,204606.890225533,223787.97355626884,245916.1768217491,203093.30922902815,175852.0650365018,172604.86031514438,185537.54286767385,195886.43761783693,195398.96550603036,186518.29523928405,182093.75793719568,192848.0502409456,202624.59484014206,233118.74432139608,254406.29893727327,243012.05527831492,153113.10140002382,173570.4482439233,190990.8471378764,201447.74043461174,200879.30403362997,194926.20547654104,191445.73183839937,188975.99107504977,200789.14107607972,241878.3711730599,261891.60309261066,226914.64084166774,174511.35118032634,173713.0468083204,196568.2775019883,207046.29356524083,205676.88530172934,203895.07433268765,200139.79899488168,185158.26042411977,198808.65534904698,251848.13670068138,270520.819922056],\"type\":\"scatter\"},{\"fill\":\"tonexty\",\"fillcolor\":\"rgba(0, 114, 178, 0.2)\",\"line\":{\"color\":\"#0072B2\",\"width\":2},\"mode\":\"lines\",\"name\":\"Predicted\",\"x\":[\"2017-01-01T00:00:00\",\"2017-02-01T00:00:00\",\"2017-03-01T00:00:00\",\"2017-04-01T00:00:00\",\"2017-05-01T00:00:00\",\"2017-06-01T00:00:00\",\"2017-07-01T00:00:00\",\"2017-08-01T00:00:00\",\"2017-09-01T00:00:00\",\"2017-10-01T00:00:00\",\"2017-11-01T00:00:00\",\"2017-12-01T00:00:00\",\"2018-01-01T00:00:00\",\"2018-02-01T00:00:00\",\"2018-03-01T00:00:00\",\"2018-04-01T00:00:00\",\"2018-05-01T00:00:00\",\"2018-06-01T00:00:00\",\"2018-07-01T00:00:00\",\"2018-08-01T00:00:00\",\"2018-09-01T00:00:00\",\"2018-10-01T00:00:00\",\"2018-11-01T00:00:00\",\"2018-12-01T00:00:00\",\"2019-01-01T00:00:00\",\"2019-02-01T00:00:00\",\"2019-03-01T00:00:00\",\"2019-04-01T00:00:00\",\"2019-05-01T00:00:00\",\"2019-06-01T00:00:00\",\"2019-07-01T00:00:00\",\"2019-08-01T00:00:00\",\"2019-09-01T00:00:00\",\"2019-10-01T00:00:00\",\"2019-11-01T00:00:00\",\"2019-12-01T00:00:00\",\"2019-12-31T00:00:00\",\"2020-01-31T00:00:00\",\"2020-02-29T00:00:00\",\"2020-03-31T00:00:00\",\"2020-04-30T00:00:00\",\"2020-05-31T00:00:00\",\"2020-06-30T00:00:00\",\"2020-07-31T00:00:00\",\"2020-08-31T00:00:00\",\"2020-09-30T00:00:00\",\"2020-10-31T00:00:00\",\"2020-11-30T00:00:00\",\"2020-12-31T00:00:00\",\"2021-01-31T00:00:00\",\"2021-02-28T00:00:00\",\"2021-03-31T00:00:00\",\"2021-04-30T00:00:00\",\"2021-05-31T00:00:00\",\"2021-06-30T00:00:00\",\"2021-07-31T00:00:00\",\"2021-08-31T00:00:00\",\"2021-09-30T00:00:00\",\"2021-10-31T00:00:00\",\"2021-11-30T00:00:00\"],\"y\":[184629.10549084638,181239.5272232226,177414.81327107397,180820.79992252734,190597.5968078861,190202.1784517797,174693.43655517578,169634.22361924115,205707.2779221007,212771.61428352058,220456.80589191624,243766.76548330445,197022.1682691139,181430.78802748575,177968.72094784077,186210.00497221484,196088.99331312036,195641.9597571997,183614.96183344186,179117.9988436027,202363.21059704555,210566.5071617131,229520.2200362223,251976.98723675212,209196.03684222786,181332.8894531486,178482.06715347123,191570.47245262383,201476.39473405693,200960.04716641095,192324.38770349775,188163.94301547503,198613.38000990916,208314.30945808397,238558.4420060623,259993.32311373905,248373.9261886365,159019.12265033522,178914.31873808632,196902.1243232148,206802.52193081082,206244.55038560453,200948.6622135084,196942.09189123884,194669.43649189486,206251.54954361313,247803.32863987942,268031.7021006961,232651.737176694,180202.75288792592,179431.94785477157,202342.18806571304,212180.11439930386,211584.03831507594,209551.10100008835,205497.31850683922,190573.62319943053,204402.01215036795,257254.49001139964,276085.7473426049],\"type\":\"scatter\"},{\"fill\":\"tonexty\",\"fillcolor\":\"rgba(0, 114, 178, 0.2)\",\"hoverinfo\":\"skip\",\"line\":{\"width\":0},\"mode\":\"lines\",\"x\":[\"2017-01-01T00:00:00\",\"2017-02-01T00:00:00\",\"2017-03-01T00:00:00\",\"2017-04-01T00:00:00\",\"2017-05-01T00:00:00\",\"2017-06-01T00:00:00\",\"2017-07-01T00:00:00\",\"2017-08-01T00:00:00\",\"2017-09-01T00:00:00\",\"2017-10-01T00:00:00\",\"2017-11-01T00:00:00\",\"2017-12-01T00:00:00\",\"2018-01-01T00:00:00\",\"2018-02-01T00:00:00\",\"2018-03-01T00:00:00\",\"2018-04-01T00:00:00\",\"2018-05-01T00:00:00\",\"2018-06-01T00:00:00\",\"2018-07-01T00:00:00\",\"2018-08-01T00:00:00\",\"2018-09-01T00:00:00\",\"2018-10-01T00:00:00\",\"2018-11-01T00:00:00\",\"2018-12-01T00:00:00\",\"2019-01-01T00:00:00\",\"2019-02-01T00:00:00\",\"2019-03-01T00:00:00\",\"2019-04-01T00:00:00\",\"2019-05-01T00:00:00\",\"2019-06-01T00:00:00\",\"2019-07-01T00:00:00\",\"2019-08-01T00:00:00\",\"2019-09-01T00:00:00\",\"2019-10-01T00:00:00\",\"2019-11-01T00:00:00\",\"2019-12-01T00:00:00\",\"2019-12-31T00:00:00\",\"2020-01-31T00:00:00\",\"2020-02-29T00:00:00\",\"2020-03-31T00:00:00\",\"2020-04-30T00:00:00\",\"2020-05-31T00:00:00\",\"2020-06-30T00:00:00\",\"2020-07-31T00:00:00\",\"2020-08-31T00:00:00\",\"2020-09-30T00:00:00\",\"2020-10-31T00:00:00\",\"2020-11-30T00:00:00\",\"2020-12-31T00:00:00\",\"2021-01-31T00:00:00\",\"2021-02-28T00:00:00\",\"2021-03-31T00:00:00\",\"2021-04-30T00:00:00\",\"2021-05-31T00:00:00\",\"2021-06-30T00:00:00\",\"2021-07-31T00:00:00\",\"2021-08-31T00:00:00\",\"2021-09-30T00:00:00\",\"2021-10-31T00:00:00\",\"2021-11-30T00:00:00\"],\"y\":[189869.96642415208,186970.9257466273,183474.87588079646,186437.93858011006,196106.42367750494,196142.2543691798,180527.97299910503,174970.16408951575,211258.67012625877,218182.3220100298,226010.22994269803,249500.2937457119,202811.16686439083,186968.19139418594,183503.42748649456,191836.6607189745,201734.4456592945,201408.65744445703,189385.45204250343,184453.98945546788,207714.9983334719,216627.1303274894,235414.78639581733,257703.02816922235,214785.87637258813,187315.9194561053,184128.60779421366,196974.76046639637,207207.30640644612,206529.88766215145,197750.14449699374,193903.904889238,204199.82154855103,213951.64236071258,244219.42410657337,265295.6517655692,253901.39418879958,164777.3213583018,184707.64291139707,202932.07195020095,212627.027331921,212135.9452591759,206879.38205778468,202927.61257874782,200683.24264047373,212022.54965313163,253593.70276579674,273751.0476438407,238275.91725286527,185937.5472078658,185172.0534564367,208225.66696469364,217842.783798227,217325.891669779,215150.79869556936,211001.74859898083,196076.83727223557,209857.0138172456,263513.5515297932,281576.1119309431],\"type\":\"scatter\"}],                        {\"height\":600,\"showlegend\":false,\"width\":900,\"xaxis\":{\"rangeselector\":{\"buttons\":[{\"count\":7,\"label\":\"1w\",\"step\":\"day\",\"stepmode\":\"backward\"},{\"count\":1,\"label\":\"1m\",\"step\":\"month\",\"stepmode\":\"backward\"},{\"count\":6,\"label\":\"6m\",\"step\":\"month\",\"stepmode\":\"backward\"},{\"count\":1,\"label\":\"1y\",\"step\":\"year\",\"stepmode\":\"backward\"},{\"step\":\"all\"}]},\"rangeslider\":{\"visible\":true},\"title\":{\"text\":\"ds\"},\"type\":\"date\"},\"yaxis\":{\"title\":{\"text\":\"y\"}},\"template\":{\"data\":{\"histogram2dcontour\":[{\"type\":\"histogram2dcontour\",\"colorbar\":{\"outlinewidth\":0,\"ticks\":\"\"},\"colorscale\":[[0.0,\"#0d0887\"],[0.1111111111111111,\"#46039f\"],[0.2222222222222222,\"#7201a8\"],[0.3333333333333333,\"#9c179e\"],[0.4444444444444444,\"#bd3786\"],[0.5555555555555556,\"#d8576b\"],[0.6666666666666666,\"#ed7953\"],[0.7777777777777778,\"#fb9f3a\"],[0.8888888888888888,\"#fdca26\"],[1.0,\"#f0f921\"]]}],\"choropleth\":[{\"type\":\"choropleth\",\"colorbar\":{\"outlinewidth\":0,\"ticks\":\"\"}}],\"histogram2d\":[{\"type\":\"histogram2d\",\"colorbar\":{\"outlinewidth\":0,\"ticks\":\"\"},\"colorscale\":[[0.0,\"#0d0887\"],[0.1111111111111111,\"#46039f\"],[0.2222222222222222,\"#7201a8\"],[0.3333333333333333,\"#9c179e\"],[0.4444444444444444,\"#bd3786\"],[0.5555555555555556,\"#d8576b\"],[0.6666666666666666,\"#ed7953\"],[0.7777777777777778,\"#fb9f3a\"],[0.8888888888888888,\"#fdca26\"],[1.0,\"#f0f921\"]]}],\"heatmap\":[{\"type\":\"heatmap\",\"colorbar\":{\"outlinewidth\":0,\"ticks\":\"\"},\"colorscale\":[[0.0,\"#0d0887\"],[0.1111111111111111,\"#46039f\"],[0.2222222222222222,\"#7201a8\"],[0.3333333333333333,\"#9c179e\"],[0.4444444444444444,\"#bd3786\"],[0.5555555555555556,\"#d8576b\"],[0.6666666666666666,\"#ed7953\"],[0.7777777777777778,\"#fb9f3a\"],[0.8888888888888888,\"#fdca26\"],[1.0,\"#f0f921\"]]}],\"heatmapgl\":[{\"type\":\"heatmapgl\",\"colorbar\":{\"outlinewidth\":0,\"ticks\":\"\"},\"colorscale\":[[0.0,\"#0d0887\"],[0.1111111111111111,\"#46039f\"],[0.2222222222222222,\"#7201a8\"],[0.3333333333333333,\"#9c179e\"],[0.4444444444444444,\"#bd3786\"],[0.5555555555555556,\"#d8576b\"],[0.6666666666666666,\"#ed7953\"],[0.7777777777777778,\"#fb9f3a\"],[0.8888888888888888,\"#fdca26\"],[1.0,\"#f0f921\"]]}],\"contourcarpet\":[{\"type\":\"contourcarpet\",\"colorbar\":{\"outlinewidth\":0,\"ticks\":\"\"}}],\"contour\":[{\"type\":\"contour\",\"colorbar\":{\"outlinewidth\":0,\"ticks\":\"\"},\"colorscale\":[[0.0,\"#0d0887\"],[0.1111111111111111,\"#46039f\"],[0.2222222222222222,\"#7201a8\"],[0.3333333333333333,\"#9c179e\"],[0.4444444444444444,\"#bd3786\"],[0.5555555555555556,\"#d8576b\"],[0.6666666666666666,\"#ed7953\"],[0.7777777777777778,\"#fb9f3a\"],[0.8888888888888888,\"#fdca26\"],[1.0,\"#f0f921\"]]}],\"surface\":[{\"type\":\"surface\",\"colorbar\":{\"outlinewidth\":0,\"ticks\":\"\"},\"colorscale\":[[0.0,\"#0d0887\"],[0.1111111111111111,\"#46039f\"],[0.2222222222222222,\"#7201a8\"],[0.3333333333333333,\"#9c179e\"],[0.4444444444444444,\"#bd3786\"],[0.5555555555555556,\"#d8576b\"],[0.6666666666666666,\"#ed7953\"],[0.7777777777777778,\"#fb9f3a\"],[0.8888888888888888,\"#fdca26\"],[1.0,\"#f0f921\"]]}],\"mesh3d\":[{\"type\":\"mesh3d\",\"colorbar\":{\"outlinewidth\":0,\"ticks\":\"\"}}],\"scatter\":[{\"fillpattern\":{\"fillmode\":\"overlay\",\"size\":10,\"solidity\":0.2},\"type\":\"scatter\"}],\"parcoords\":[{\"type\":\"parcoords\",\"line\":{\"colorbar\":{\"outlinewidth\":0,\"ticks\":\"\"}}}],\"scatterpolargl\":[{\"type\":\"scatterpolargl\",\"marker\":{\"colorbar\":{\"outlinewidth\":0,\"ticks\":\"\"}}}],\"bar\":[{\"error_x\":{\"color\":\"#2a3f5f\"},\"error_y\":{\"color\":\"#2a3f5f\"},\"marker\":{\"line\":{\"color\":\"#E5ECF6\",\"width\":0.5},\"pattern\":{\"fillmode\":\"overlay\",\"size\":10,\"solidity\":0.2}},\"type\":\"bar\"}],\"scattergeo\":[{\"type\":\"scattergeo\",\"marker\":{\"colorbar\":{\"outlinewidth\":0,\"ticks\":\"\"}}}],\"scatterpolar\":[{\"type\":\"scatterpolar\",\"marker\":{\"colorbar\":{\"outlinewidth\":0,\"ticks\":\"\"}}}],\"histogram\":[{\"marker\":{\"pattern\":{\"fillmode\":\"overlay\",\"size\":10,\"solidity\":0.2}},\"type\":\"histogram\"}],\"scattergl\":[{\"type\":\"scattergl\",\"marker\":{\"colorbar\":{\"outlinewidth\":0,\"ticks\":\"\"}}}],\"scatter3d\":[{\"type\":\"scatter3d\",\"line\":{\"colorbar\":{\"outlinewidth\":0,\"ticks\":\"\"}},\"marker\":{\"colorbar\":{\"outlinewidth\":0,\"ticks\":\"\"}}}],\"scattermapbox\":[{\"type\":\"scattermapbox\",\"marker\":{\"colorbar\":{\"outlinewidth\":0,\"ticks\":\"\"}}}],\"scatterternary\":[{\"type\":\"scatterternary\",\"marker\":{\"colorbar\":{\"outlinewidth\":0,\"ticks\":\"\"}}}],\"scattercarpet\":[{\"type\":\"scattercarpet\",\"marker\":{\"colorbar\":{\"outlinewidth\":0,\"ticks\":\"\"}}}],\"carpet\":[{\"aaxis\":{\"endlinecolor\":\"#2a3f5f\",\"gridcolor\":\"white\",\"linecolor\":\"white\",\"minorgridcolor\":\"white\",\"startlinecolor\":\"#2a3f5f\"},\"baxis\":{\"endlinecolor\":\"#2a3f5f\",\"gridcolor\":\"white\",\"linecolor\":\"white\",\"minorgridcolor\":\"white\",\"startlinecolor\":\"#2a3f5f\"},\"type\":\"carpet\"}],\"table\":[{\"cells\":{\"fill\":{\"color\":\"#EBF0F8\"},\"line\":{\"color\":\"white\"}},\"header\":{\"fill\":{\"color\":\"#C8D4E3\"},\"line\":{\"color\":\"white\"}},\"type\":\"table\"}],\"barpolar\":[{\"marker\":{\"line\":{\"color\":\"#E5ECF6\",\"width\":0.5},\"pattern\":{\"fillmode\":\"overlay\",\"size\":10,\"solidity\":0.2}},\"type\":\"barpolar\"}],\"pie\":[{\"automargin\":true,\"type\":\"pie\"}]},\"layout\":{\"autotypenumbers\":\"strict\",\"colorway\":[\"#636efa\",\"#EF553B\",\"#00cc96\",\"#ab63fa\",\"#FFA15A\",\"#19d3f3\",\"#FF6692\",\"#B6E880\",\"#FF97FF\",\"#FECB52\"],\"font\":{\"color\":\"#2a3f5f\"},\"hovermode\":\"closest\",\"hoverlabel\":{\"align\":\"left\"},\"paper_bgcolor\":\"white\",\"plot_bgcolor\":\"#E5ECF6\",\"polar\":{\"bgcolor\":\"#E5ECF6\",\"angularaxis\":{\"gridcolor\":\"white\",\"linecolor\":\"white\",\"ticks\":\"\"},\"radialaxis\":{\"gridcolor\":\"white\",\"linecolor\":\"white\",\"ticks\":\"\"}},\"ternary\":{\"bgcolor\":\"#E5ECF6\",\"aaxis\":{\"gridcolor\":\"white\",\"linecolor\":\"white\",\"ticks\":\"\"},\"baxis\":{\"gridcolor\":\"white\",\"linecolor\":\"white\",\"ticks\":\"\"},\"caxis\":{\"gridcolor\":\"white\",\"linecolor\":\"white\",\"ticks\":\"\"}},\"coloraxis\":{\"colorbar\":{\"outlinewidth\":0,\"ticks\":\"\"}},\"colorscale\":{\"sequential\":[[0.0,\"#0d0887\"],[0.1111111111111111,\"#46039f\"],[0.2222222222222222,\"#7201a8\"],[0.3333333333333333,\"#9c179e\"],[0.4444444444444444,\"#bd3786\"],[0.5555555555555556,\"#d8576b\"],[0.6666666666666666,\"#ed7953\"],[0.7777777777777778,\"#fb9f3a\"],[0.8888888888888888,\"#fdca26\"],[1.0,\"#f0f921\"]],\"sequentialminus\":[[0.0,\"#0d0887\"],[0.1111111111111111,\"#46039f\"],[0.2222222222222222,\"#7201a8\"],[0.3333333333333333,\"#9c179e\"],[0.4444444444444444,\"#bd3786\"],[0.5555555555555556,\"#d8576b\"],[0.6666666666666666,\"#ed7953\"],[0.7777777777777778,\"#fb9f3a\"],[0.8888888888888888,\"#fdca26\"],[1.0,\"#f0f921\"]],\"diverging\":[[0,\"#8e0152\"],[0.1,\"#c51b7d\"],[0.2,\"#de77ae\"],[0.3,\"#f1b6da\"],[0.4,\"#fde0ef\"],[0.5,\"#f7f7f7\"],[0.6,\"#e6f5d0\"],[0.7,\"#b8e186\"],[0.8,\"#7fbc41\"],[0.9,\"#4d9221\"],[1,\"#276419\"]]},\"xaxis\":{\"gridcolor\":\"white\",\"linecolor\":\"white\",\"ticks\":\"\",\"title\":{\"standoff\":15},\"zerolinecolor\":\"white\",\"automargin\":true,\"zerolinewidth\":2},\"yaxis\":{\"gridcolor\":\"white\",\"linecolor\":\"white\",\"ticks\":\"\",\"title\":{\"standoff\":15},\"zerolinecolor\":\"white\",\"automargin\":true,\"zerolinewidth\":2},\"scene\":{\"xaxis\":{\"backgroundcolor\":\"#E5ECF6\",\"gridcolor\":\"white\",\"linecolor\":\"white\",\"showbackground\":true,\"ticks\":\"\",\"zerolinecolor\":\"white\",\"gridwidth\":2},\"yaxis\":{\"backgroundcolor\":\"#E5ECF6\",\"gridcolor\":\"white\",\"linecolor\":\"white\",\"showbackground\":true,\"ticks\":\"\",\"zerolinecolor\":\"white\",\"gridwidth\":2},\"zaxis\":{\"backgroundcolor\":\"#E5ECF6\",\"gridcolor\":\"white\",\"linecolor\":\"white\",\"showbackground\":true,\"ticks\":\"\",\"zerolinecolor\":\"white\",\"gridwidth\":2}},\"shapedefaults\":{\"line\":{\"color\":\"#2a3f5f\"}},\"annotationdefaults\":{\"arrowcolor\":\"#2a3f5f\",\"arrowhead\":0,\"arrowwidth\":1},\"geo\":{\"bgcolor\":\"white\",\"landcolor\":\"#E5ECF6\",\"subunitcolor\":\"white\",\"showland\":true,\"showlakes\":true,\"lakecolor\":\"white\"},\"title\":{\"x\":0.05},\"mapbox\":{\"style\":\"light\"}}}},                        {\"responsive\": true}                    ).then(function(){\n",
       "                            \n",
       "var gd = document.getElementById('42c4708a-c791-4a51-b133-eb7ffe05c4db');\n",
       "var x = new MutationObserver(function (mutations, observer) {{\n",
       "        var display = window.getComputedStyle(gd).display;\n",
       "        if (!display || display === 'none') {{\n",
       "            console.log([gd, 'removed!']);\n",
       "            Plotly.purge(gd);\n",
       "            observer.disconnect();\n",
       "        }}\n",
       "}});\n",
       "\n",
       "// Listen for the removal of the full notebook cells\n",
       "var notebookContainer = gd.closest('#notebook-container');\n",
       "if (notebookContainer) {{\n",
       "    x.observe(notebookContainer, {childList: true});\n",
       "}}\n",
       "\n",
       "// Listen for the clearing of the current output cell\n",
       "var outputEl = gd.closest('.output');\n",
       "if (outputEl) {{\n",
       "    x.observe(outputEl, {childList: true});\n",
       "}}\n",
       "\n",
       "                        })                };                });            </script>        </div>"
      ]
     },
     "metadata": {},
     "output_type": "display_data"
    }
   ],
   "source": [
    "from prophet.plot import plot_plotly, plot_components_plotly\n",
    "\n",
    "plot_plotly(m, forecast)"
   ]
  },
  {
   "cell_type": "code",
   "execution_count": null,
   "id": "dba00244",
   "metadata": {},
   "outputs": [],
   "source": []
  },
  {
   "cell_type": "code",
   "execution_count": null,
   "id": "52310ee0",
   "metadata": {},
   "outputs": [],
   "source": []
  }
 ],
 "metadata": {
  "kernelspec": {
   "display_name": "Python 3 (ipykernel)",
   "language": "python",
   "name": "python3"
  },
  "language_info": {
   "codemirror_mode": {
    "name": "ipython",
    "version": 3
   },
   "file_extension": ".py",
   "mimetype": "text/x-python",
   "name": "python",
   "nbconvert_exporter": "python",
   "pygments_lexer": "ipython3",
   "version": "3.9.13"
  }
 },
 "nbformat": 4,
 "nbformat_minor": 5
}
