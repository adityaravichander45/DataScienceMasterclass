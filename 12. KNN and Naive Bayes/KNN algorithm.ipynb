{
 "cells": [
  {
   "cell_type": "code",
   "execution_count": 92,
   "id": "9f2986b1",
   "metadata": {},
   "outputs": [],
   "source": [
    "import pandas as pd\n",
    "from sklearn.model_selection import train_test_split\n",
    "from sklearn.neighbors import KNeighborsClassifier, KNeighborsRegressor\n",
    "from tqdm import tqdm\n",
    "from sklearn.preprocessing import MinMaxScaler, StandardScaler\n",
    "from sklearn.metrics import ConfusionMatrixDisplay, confusion_matrix, classification_report, accuracy_score"
   ]
  },
  {
   "cell_type": "code",
   "execution_count": 93,
   "id": "ac6d7800",
   "metadata": {},
   "outputs": [],
   "source": [
    "data = pd.read_csv('weight-height.csv')"
   ]
  },
  {
   "cell_type": "code",
   "execution_count": 94,
   "id": "5f8fc499",
   "metadata": {},
   "outputs": [
    {
     "data": {
      "text/html": [
       "<div>\n",
       "<style scoped>\n",
       "    .dataframe tbody tr th:only-of-type {\n",
       "        vertical-align: middle;\n",
       "    }\n",
       "\n",
       "    .dataframe tbody tr th {\n",
       "        vertical-align: top;\n",
       "    }\n",
       "\n",
       "    .dataframe thead th {\n",
       "        text-align: right;\n",
       "    }\n",
       "</style>\n",
       "<table border=\"1\" class=\"dataframe\">\n",
       "  <thead>\n",
       "    <tr style=\"text-align: right;\">\n",
       "      <th></th>\n",
       "      <th>Gender</th>\n",
       "      <th>Height</th>\n",
       "      <th>Weight</th>\n",
       "    </tr>\n",
       "  </thead>\n",
       "  <tbody>\n",
       "    <tr>\n",
       "      <th>0</th>\n",
       "      <td>Male</td>\n",
       "      <td>73.847017</td>\n",
       "      <td>241.893563</td>\n",
       "    </tr>\n",
       "    <tr>\n",
       "      <th>1</th>\n",
       "      <td>Male</td>\n",
       "      <td>68.781904</td>\n",
       "      <td>162.310473</td>\n",
       "    </tr>\n",
       "    <tr>\n",
       "      <th>2</th>\n",
       "      <td>Male</td>\n",
       "      <td>74.110105</td>\n",
       "      <td>212.740856</td>\n",
       "    </tr>\n",
       "    <tr>\n",
       "      <th>3</th>\n",
       "      <td>Male</td>\n",
       "      <td>71.730978</td>\n",
       "      <td>220.042470</td>\n",
       "    </tr>\n",
       "    <tr>\n",
       "      <th>4</th>\n",
       "      <td>Male</td>\n",
       "      <td>69.881796</td>\n",
       "      <td>206.349801</td>\n",
       "    </tr>\n",
       "    <tr>\n",
       "      <th>...</th>\n",
       "      <td>...</td>\n",
       "      <td>...</td>\n",
       "      <td>...</td>\n",
       "    </tr>\n",
       "    <tr>\n",
       "      <th>9995</th>\n",
       "      <td>Female</td>\n",
       "      <td>66.172652</td>\n",
       "      <td>136.777454</td>\n",
       "    </tr>\n",
       "    <tr>\n",
       "      <th>9996</th>\n",
       "      <td>Female</td>\n",
       "      <td>67.067155</td>\n",
       "      <td>170.867906</td>\n",
       "    </tr>\n",
       "    <tr>\n",
       "      <th>9997</th>\n",
       "      <td>Female</td>\n",
       "      <td>63.867992</td>\n",
       "      <td>128.475319</td>\n",
       "    </tr>\n",
       "    <tr>\n",
       "      <th>9998</th>\n",
       "      <td>Female</td>\n",
       "      <td>69.034243</td>\n",
       "      <td>163.852461</td>\n",
       "    </tr>\n",
       "    <tr>\n",
       "      <th>9999</th>\n",
       "      <td>Female</td>\n",
       "      <td>61.944246</td>\n",
       "      <td>113.649103</td>\n",
       "    </tr>\n",
       "  </tbody>\n",
       "</table>\n",
       "<p>10000 rows × 3 columns</p>\n",
       "</div>"
      ],
      "text/plain": [
       "      Gender     Height      Weight\n",
       "0       Male  73.847017  241.893563\n",
       "1       Male  68.781904  162.310473\n",
       "2       Male  74.110105  212.740856\n",
       "3       Male  71.730978  220.042470\n",
       "4       Male  69.881796  206.349801\n",
       "...      ...        ...         ...\n",
       "9995  Female  66.172652  136.777454\n",
       "9996  Female  67.067155  170.867906\n",
       "9997  Female  63.867992  128.475319\n",
       "9998  Female  69.034243  163.852461\n",
       "9999  Female  61.944246  113.649103\n",
       "\n",
       "[10000 rows x 3 columns]"
      ]
     },
     "execution_count": 94,
     "metadata": {},
     "output_type": "execute_result"
    }
   ],
   "source": [
    "data"
   ]
  },
  {
   "cell_type": "code",
   "execution_count": 95,
   "id": "319224db",
   "metadata": {},
   "outputs": [],
   "source": [
    "scale = MinMaxScaler()\n",
    "scale = StandardScaler()\n",
    "\n",
    "scale.fit(data[['Height', 'Weight']])\n",
    "X = pd.DataFrame(scale.transform(data[['Height', 'Weight']]), columns=['Height', 'Weight'])\n"
   ]
  },
  {
   "cell_type": "code",
   "execution_count": 96,
   "id": "b0fe4247",
   "metadata": {},
   "outputs": [],
   "source": [
    "data['Gender'] = data['Gender'].replace({'Male':0, 'Female':1})"
   ]
  },
  {
   "cell_type": "code",
   "execution_count": 97,
   "id": "d9f4f1cf",
   "metadata": {},
   "outputs": [],
   "source": [
    "y = data['Gender']"
   ]
  },
  {
   "cell_type": "code",
   "execution_count": 98,
   "id": "b386c8c1",
   "metadata": {},
   "outputs": [],
   "source": [
    "train_X, test_X, train_y, test_y = train_test_split(X,y, test_size=0.3, random_state=2)"
   ]
  },
  {
   "cell_type": "code",
   "execution_count": 99,
   "id": "67856e1d",
   "metadata": {},
   "outputs": [
    {
     "data": {
      "text/html": [
       "<div>\n",
       "<style scoped>\n",
       "    .dataframe tbody tr th:only-of-type {\n",
       "        vertical-align: middle;\n",
       "    }\n",
       "\n",
       "    .dataframe tbody tr th {\n",
       "        vertical-align: top;\n",
       "    }\n",
       "\n",
       "    .dataframe thead th {\n",
       "        text-align: right;\n",
       "    }\n",
       "</style>\n",
       "<table border=\"1\" class=\"dataframe\">\n",
       "  <thead>\n",
       "    <tr style=\"text-align: right;\">\n",
       "      <th></th>\n",
       "      <th>Height</th>\n",
       "      <th>Weight</th>\n",
       "    </tr>\n",
       "  </thead>\n",
       "  <tbody>\n",
       "    <tr>\n",
       "      <th>7878</th>\n",
       "      <td>-1.377448</td>\n",
       "      <td>-1.748202</td>\n",
       "    </tr>\n",
       "    <tr>\n",
       "      <th>3224</th>\n",
       "      <td>-0.872062</td>\n",
       "      <td>0.038940</td>\n",
       "    </tr>\n",
       "    <tr>\n",
       "      <th>1919</th>\n",
       "      <td>1.049340</td>\n",
       "      <td>1.058415</td>\n",
       "    </tr>\n",
       "    <tr>\n",
       "      <th>4432</th>\n",
       "      <td>0.625873</td>\n",
       "      <td>1.188568</td>\n",
       "    </tr>\n",
       "    <tr>\n",
       "      <th>4835</th>\n",
       "      <td>0.184390</td>\n",
       "      <td>0.657646</td>\n",
       "    </tr>\n",
       "    <tr>\n",
       "      <th>...</th>\n",
       "      <td>...</td>\n",
       "      <td>...</td>\n",
       "    </tr>\n",
       "    <tr>\n",
       "      <th>6772</th>\n",
       "      <td>-0.969269</td>\n",
       "      <td>-0.772758</td>\n",
       "    </tr>\n",
       "    <tr>\n",
       "      <th>4048</th>\n",
       "      <td>-0.406062</td>\n",
       "      <td>-0.438443</td>\n",
       "    </tr>\n",
       "    <tr>\n",
       "      <th>623</th>\n",
       "      <td>1.484830</td>\n",
       "      <td>1.290282</td>\n",
       "    </tr>\n",
       "    <tr>\n",
       "      <th>9952</th>\n",
       "      <td>-0.869005</td>\n",
       "      <td>-0.854404</td>\n",
       "    </tr>\n",
       "    <tr>\n",
       "      <th>3124</th>\n",
       "      <td>1.176484</td>\n",
       "      <td>1.035504</td>\n",
       "    </tr>\n",
       "  </tbody>\n",
       "</table>\n",
       "<p>3000 rows × 2 columns</p>\n",
       "</div>"
      ],
      "text/plain": [
       "        Height    Weight\n",
       "7878 -1.377448 -1.748202\n",
       "3224 -0.872062  0.038940\n",
       "1919  1.049340  1.058415\n",
       "4432  0.625873  1.188568\n",
       "4835  0.184390  0.657646\n",
       "...        ...       ...\n",
       "6772 -0.969269 -0.772758\n",
       "4048 -0.406062 -0.438443\n",
       "623   1.484830  1.290282\n",
       "9952 -0.869005 -0.854404\n",
       "3124  1.176484  1.035504\n",
       "\n",
       "[3000 rows x 2 columns]"
      ]
     },
     "execution_count": 99,
     "metadata": {},
     "output_type": "execute_result"
    }
   ],
   "source": [
    "test_X"
   ]
  },
  {
   "cell_type": "code",
   "execution_count": 100,
   "id": "982d18bc",
   "metadata": {},
   "outputs": [],
   "source": [
    "model = KNeighborsClassifier(n_neighbors=11,algorithm = 'kd_tree')"
   ]
  },
  {
   "cell_type": "code",
   "execution_count": 101,
   "id": "99381b57",
   "metadata": {},
   "outputs": [
    {
     "data": {
      "text/plain": [
       "KNeighborsClassifier(algorithm='kd_tree', n_neighbors=11)"
      ]
     },
     "execution_count": 101,
     "metadata": {},
     "output_type": "execute_result"
    }
   ],
   "source": [
    "model.fit(train_X,train_y)"
   ]
  },
  {
   "cell_type": "code",
   "execution_count": 102,
   "id": "57590d51",
   "metadata": {},
   "outputs": [],
   "source": [
    "train_pred = model.predict(train_X)\n",
    "test_pred = model.predict(test_X)"
   ]
  },
  {
   "cell_type": "code",
   "execution_count": 103,
   "id": "c37e7f3a",
   "metadata": {},
   "outputs": [
    {
     "data": {
      "text/plain": [
       "array([1, 0, 0, ..., 0, 1, 0])"
      ]
     },
     "execution_count": 103,
     "metadata": {},
     "output_type": "execute_result"
    }
   ],
   "source": [
    "model.predict(test_X)"
   ]
  },
  {
   "cell_type": "code",
   "execution_count": 104,
   "id": "45a0cb61",
   "metadata": {},
   "outputs": [],
   "source": [
    "train_pred = model.predict(train_X)\n",
    "test_pred = model.predict(test_X)"
   ]
  },
  {
   "cell_type": "code",
   "execution_count": 105,
   "id": "0c099ee3",
   "metadata": {},
   "outputs": [
    {
     "name": "stdout",
     "output_type": "stream",
     "text": [
      "Train Result\n",
      "[[3226  270]\n",
      " [ 277 3227]]\n",
      "0.9218571428571428\n",
      "              precision    recall  f1-score   support\n",
      "\n",
      "           0       0.92      0.92      0.92      3496\n",
      "           1       0.92      0.92      0.92      3504\n",
      "\n",
      "    accuracy                           0.92      7000\n",
      "   macro avg       0.92      0.92      0.92      7000\n",
      "weighted avg       0.92      0.92      0.92      7000\n",
      "\n"
     ]
    }
   ],
   "source": [
    "print(\"Train Result\")\n",
    "print(confusion_matrix(train_y, train_pred))\n",
    "print(accuracy_score(train_y, train_pred))\n",
    "print(classification_report(train_y, train_pred))"
   ]
  },
  {
   "cell_type": "code",
   "execution_count": 106,
   "id": "392ad69f",
   "metadata": {},
   "outputs": [
    {
     "name": "stdout",
     "output_type": "stream",
     "text": [
      "Test Result\n",
      "[[1394  110]\n",
      " [ 134 1362]]\n",
      "0.9186666666666666\n",
      "              precision    recall  f1-score   support\n",
      "\n",
      "           0       0.91      0.93      0.92      1504\n",
      "           1       0.93      0.91      0.92      1496\n",
      "\n",
      "    accuracy                           0.92      3000\n",
      "   macro avg       0.92      0.92      0.92      3000\n",
      "weighted avg       0.92      0.92      0.92      3000\n",
      "\n"
     ]
    }
   ],
   "source": [
    "print(\"Test Result\")\n",
    "print(confusion_matrix(test_y, test_pred))\n",
    "print(accuracy_score(test_y, test_pred))\n",
    "print(classification_report(test_y, test_pred))"
   ]
  },
  {
   "cell_type": "code",
   "execution_count": 107,
   "id": "f2f53c75",
   "metadata": {},
   "outputs": [
    {
     "name": "stderr",
     "output_type": "stream",
     "text": [
      "100%|████████████████████████████████████████████████████████████████████████████████████████████████████████████████████████| 49/49 [00:02<00:00, 20.13it/s]\n"
     ]
    }
   ],
   "source": [
    "res = []\n",
    "for i in tqdm(range(1,50)):\n",
    "    model = KNeighborsClassifier(n_neighbors=i)\n",
    "    model.fit(train_X,train_y)\n",
    "    test_pred = model.predict(test_X)\n",
    "    res.append(1-accuracy_score(test_y, test_pred))\n",
    "    "
   ]
  },
  {
   "cell_type": "code",
   "execution_count": 108,
   "id": "181432d4",
   "metadata": {},
   "outputs": [
    {
     "name": "stdout",
     "output_type": "stream",
     "text": [
      "ELBOW CHART\n"
     ]
    },
    {
     "data": {
      "text/plain": [
       "<AxesSubplot:>"
      ]
     },
     "execution_count": 108,
     "metadata": {},
     "output_type": "execute_result"
    },
    {
     "data": {
      "image/png": "[encoded data removed]",
      "text/plain": [
       "<Figure size 640x480 with 1 Axes>"
      ]
     },
     "metadata": {},
     "output_type": "display_data"
    }
   ],
   "source": [
    "print(\"ELBOW CHART\")\n",
    "pd.Series(res, index = range(1,50)).plot()"
   ]
  },
  {
   "cell_type": "code",
   "execution_count": 109,
   "id": "a45bba2c",
   "metadata": {},
   "outputs": [
    {
     "data": {
      "text/plain": [
       "[0.126,\n",
       " 0.1286666666666667,\n",
       " 0.09999999999999998,\n",
       " 0.10199999999999998,\n",
       " 0.09399999999999997,\n",
       " 0.09266666666666667,\n",
       " 0.08733333333333337,\n",
       " 0.08433333333333337,\n",
       " 0.08466666666666667,\n",
       " 0.08233333333333337,\n",
       " 0.08133333333333337,\n",
       " 0.08266666666666667,\n",
       " 0.08433333333333337,\n",
       " 0.08233333333333337,\n",
       " 0.08199999999999996,\n",
       " 0.08099999999999996,\n",
       " 0.08066666666666666,\n",
       " 0.07966666666666666,\n",
       " 0.08066666666666666,\n",
       " 0.08066666666666666,\n",
       " 0.08033333333333337,\n",
       " 0.07933333333333337,\n",
       " 0.07799999999999996,\n",
       " 0.07966666666666666,\n",
       " 0.07866666666666666,\n",
       " 0.07966666666666666,\n",
       " 0.07966666666666666,\n",
       " 0.07999999999999996,\n",
       " 0.07899999999999996,\n",
       " 0.07899999999999996,\n",
       " 0.08033333333333337,\n",
       " 0.07999999999999996,\n",
       " 0.07966666666666666,\n",
       " 0.07999999999999996,\n",
       " 0.07999999999999996,\n",
       " 0.08099999999999996,\n",
       " 0.08066666666666666,\n",
       " 0.08099999999999996,\n",
       " 0.07999999999999996,\n",
       " 0.07933333333333337,\n",
       " 0.08066666666666666,\n",
       " 0.07966666666666666,\n",
       " 0.07966666666666666,\n",
       " 0.07866666666666666,\n",
       " 0.07933333333333337,\n",
       " 0.07999999999999996,\n",
       " 0.08066666666666666,\n",
       " 0.07999999999999996,\n",
       " 0.08066666666666666]"
      ]
     },
     "execution_count": 109,
     "metadata": {},
     "output_type": "execute_result"
    }
   ],
   "source": [
    "res"
   ]
  },
  {
   "cell_type": "code",
   "execution_count": null,
   "id": "31a160e2",
   "metadata": {},
   "outputs": [],
   "source": []
  },
  {
   "cell_type": "code",
   "execution_count": null,
   "id": "cb8037b4",
   "metadata": {},
   "outputs": [],
   "source": []
  }
 ],
 "metadata": {
  "kernelspec": {
   "display_name": "Python 3 (ipykernel)",
   "language": "python",
   "name": "python3"
  },
  "language_info": {
   "codemirror_mode": {
    "name": "ipython",
    "version": 3
   },
   "file_extension": ".py",
   "mimetype": "text/x-python",
   "name": "python",
   "nbconvert_exporter": "python",
   "pygments_lexer": "ipython3",
   "version": "3.9.13"
  }
 },
 "nbformat": 4,
 "nbformat_minor": 5
}
