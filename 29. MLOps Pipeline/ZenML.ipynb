{
 "cells": [
  {
   "cell_type": "markdown",
   "metadata": {
    "id": "FCLjpL1MGHJA"
   },
   "source": [
    "# Get Up and Running Quickly\n",
    "\n",
    "## 🌍 Overview\n",
    "\n",
    "This quickstart demonstrates some of ZenML's features. We will:\n",
    "\n",
    "- Import some data from a public dataset (Adult Census Income), then train two models (SGD and Random Forest)\n",
    "- Compare and evaluate which model performs better, and deploy the best one.\n",
    "- Run a prediction on the deployed model.\n",
    "\n",
    "Along the way we will also show you how to:\n",
    "\n",
    "- Automatically version, track, and cache data, models, and other artifacts,\n",
    "- Track model hyperparameters and metrics in an experiment tracking tool\n",
    "\n",
    "This will give you enough to get started building your own ZenML Pipelines.\n",
    "Let's dive in!\n"
   ]
  },
  {
   "cell_type": "markdown",
   "metadata": {
    "id": "dQmCSN0HGHJB"
   },
   "source": [
    "## Run on Colab\n",
    "\n",
    "You can use Google Colab to see ZenML in action, no signup / installation\n",
    "required!\n",
    "\n",
    "[![Open In Colab](https://colab.research.google.com/assets/colab-badge.svg)](\n",
    "https://colab.research.google.com/github/zenml-io/zenml/blob/main/examples/quickstart/notebooks/quickstart.ipynb)"
   ]
  },
  {
   "cell_type": "markdown",
   "metadata": {
    "id": "6TCl8FcdGHJC"
   },
   "source": [
    "# 1. Install Requirements\n",
    "\n",
    "Let's install ZenML to get started. First we'll install the latest version of\n",
    "ZenML as well as the two integrations we'll need for this quickstart: `sklearn`\n",
    "and `mlflow`."
   ]
  },
  {
   "cell_type": "code",
   "execution_count": 1,
   "metadata": {
    "id": "LprElnC7GHJC"
   },
   "outputs": [
    {
     "name": "stdout",
     "output_type": "stream",
     "text": [
      "\u001b[33mWARNING: Skipping /opt/homebrew/lib/python3.11/site-packages/urllib3-2.1.0.dist-info due to invalid metadata entry 'name'\u001b[0m\u001b[33m\n",
      "\u001b[0m\u001b[33mWARNING: Skipping /opt/homebrew/lib/python3.11/site-packages/click-8.1.7.dist-info due to invalid metadata entry 'name'\u001b[0m\u001b[33m\n",
      "\u001b[0mRequirement already satisfied: zenml[server] in /opt/homebrew/lib/python3.11/site-packages (0.52.0)\n",
      "Requirement already satisfied: Jinja2 in /opt/homebrew/lib/python3.11/site-packages (from zenml[server]) (3.1.2)\n",
      "Requirement already satisfied: alembic<1.9.0,>=1.8.1 in /opt/homebrew/lib/python3.11/site-packages (from zenml[server]) (1.8.1)\n",
      "Requirement already satisfied: azure-mgmt-resource>=21.0.0 in /opt/homebrew/lib/python3.11/site-packages (from zenml[server]) (23.0.1)\n",
      "Requirement already satisfied: bcrypt==4.0.1 in /opt/homebrew/lib/python3.11/site-packages (from zenml[server]) (4.0.1)\n",
      "Requirement already satisfied: click<8.1.4,>=8.0.1 in /opt/homebrew/lib/python3.11/site-packages (from zenml[server]) (8.1.3)\n",
      "Requirement already satisfied: click-params<0.4.0,>=0.3.0 in /opt/homebrew/lib/python3.11/site-packages (from zenml[server]) (0.3.0)\n",
      "Requirement already satisfied: cloudpickle<3,>=2.0.0 in /opt/homebrew/lib/python3.11/site-packages (from zenml[server]) (2.2.1)\n",
      "Requirement already satisfied: distro<2.0.0,>=1.6.0 in /opt/homebrew/lib/python3.11/site-packages (from zenml[server]) (1.8.0)\n",
      "Requirement already satisfied: docker<6.2.0,>=6.1.0 in /opt/homebrew/lib/python3.11/site-packages (from zenml[server]) (6.1.3)\n",
      "Requirement already satisfied: fastapi<0.100,>=0.75 in /opt/homebrew/lib/python3.11/site-packages (from zenml[server]) (0.89.1)\n",
      "Requirement already satisfied: fastapi-utils<0.3.0,>=0.2.1 in /opt/homebrew/lib/python3.11/site-packages (from zenml[server]) (0.2.1)\n",
      "Requirement already satisfied: gitpython<4.0.0,>=3.1.18 in /opt/homebrew/lib/python3.11/site-packages (from zenml[server]) (3.1.40)\n",
      "Requirement already satisfied: httplib2<0.20,>=0.19.1 in /opt/homebrew/lib/python3.11/site-packages (from zenml[server]) (0.19.1)\n",
      "Requirement already satisfied: ipinfo>=4.4.3 in /opt/homebrew/lib/python3.11/site-packages (from zenml[server]) (5.0.0)\n",
      "Requirement already satisfied: orjson<3.9.0,>=3.8.3 in /opt/homebrew/lib/python3.11/site-packages (from zenml[server]) (3.8.14)\n",
      "Requirement already satisfied: pandas>=1.1.5 in /opt/homebrew/lib/python3.11/site-packages (from zenml[server]) (2.1.4)\n",
      "Requirement already satisfied: passlib<1.8.0,>=1.7.4 in /opt/homebrew/lib/python3.11/site-packages (from passlib[bcrypt]<1.8.0,>=1.7.4->zenml[server]) (1.7.4)\n",
      "Requirement already satisfied: psutil>=5.0.0 in /Users/m.alaudeen/Library/Python/3.11/lib/python/site-packages (from zenml[server]) (5.9.6)\n",
      "Requirement already satisfied: pydantic<1.11,>=1.9.0 in /opt/homebrew/lib/python3.11/site-packages (from zenml[server]) (1.10.13)\n",
      "Requirement already satisfied: pyjwt==2.7.* in /opt/homebrew/lib/python3.11/site-packages (from pyjwt[crypto]==2.7.*; extra == \"server\"->zenml[server]) (2.7.0)\n",
      "Requirement already satisfied: pymysql<1.1.0,>=1.0.2 in /opt/homebrew/lib/python3.11/site-packages (from zenml[server]) (1.0.3)\n",
      "Requirement already satisfied: pyparsing<3,>=2.4.0 in /opt/homebrew/lib/python3.11/site-packages (from zenml[server]) (2.4.7)\n",
      "Requirement already satisfied: python-dateutil<3.0.0,>=2.8.1 in /Users/m.alaudeen/Library/Python/3.11/lib/python/site-packages (from zenml[server]) (2.8.2)\n",
      "Requirement already satisfied: python-multipart<0.1.0,>=0.0.5 in /opt/homebrew/lib/python3.11/site-packages (from zenml[server]) (0.0.6)\n",
      "Requirement already satisfied: pyyaml>=6.0.1 in /opt/homebrew/lib/python3.11/site-packages (from zenml[server]) (6.0.1)\n",
      "Requirement already satisfied: rich>=12.0.0 in /opt/homebrew/lib/python3.11/site-packages (from rich[jupyter]>=12.0.0->zenml[server]) (13.7.0)\n",
      "Requirement already satisfied: sqlalchemy_utils==0.38.3 in /opt/homebrew/lib/python3.11/site-packages (from zenml[server]) (0.38.3)\n",
      "Requirement already satisfied: sqlmodel==0.0.8 in /opt/homebrew/lib/python3.11/site-packages (from zenml[server]) (0.0.8)\n",
      "Requirement already satisfied: uvicorn>=0.17.5 in /opt/homebrew/lib/python3.11/site-packages (from uvicorn[standard]>=0.17.5; extra == \"server\"->zenml[server]) (0.24.0.post1)\n",
      "Requirement already satisfied: cryptography>=3.4.0 in /opt/homebrew/lib/python3.11/site-packages (from pyjwt[crypto]==2.7.*; extra == \"server\"->zenml[server]) (41.0.7)\n",
      "Requirement already satisfied: SQLAlchemy>=1.3 in /opt/homebrew/lib/python3.11/site-packages (from sqlalchemy_utils==0.38.3->zenml[server]) (1.4.41)\n",
      "Requirement already satisfied: sqlalchemy2-stubs in /opt/homebrew/lib/python3.11/site-packages (from sqlmodel==0.0.8->zenml[server]) (0.0.2a37)\n",
      "Requirement already satisfied: Mako in /opt/homebrew/lib/python3.11/site-packages (from alembic<1.9.0,>=1.8.1->zenml[server]) (1.3.0)\n",
      "Requirement already satisfied: isodate<1.0.0,>=0.6.1 in /opt/homebrew/lib/python3.11/site-packages (from azure-mgmt-resource>=21.0.0->zenml[server]) (0.6.1)\n",
      "Requirement already satisfied: azure-common~=1.1 in /opt/homebrew/lib/python3.11/site-packages (from azure-mgmt-resource>=21.0.0->zenml[server]) (1.1.28)\n",
      "Requirement already satisfied: azure-mgmt-core<2.0.0,>=1.3.2 in /opt/homebrew/lib/python3.11/site-packages (from azure-mgmt-resource>=21.0.0->zenml[server]) (1.4.0)\n",
      "Requirement already satisfied: validators<0.19,>=0.18 in /opt/homebrew/lib/python3.11/site-packages (from click-params<0.4.0,>=0.3.0->zenml[server]) (0.18.2)\n",
      "Requirement already satisfied: packaging>=14.0 in /Users/m.alaudeen/Library/Python/3.11/lib/python/site-packages (from docker<6.2.0,>=6.1.0->zenml[server]) (23.2)\n",
      "Requirement already satisfied: requests>=2.26.0 in /opt/homebrew/lib/python3.11/site-packages (from docker<6.2.0,>=6.1.0->zenml[server]) (2.31.0)\n",
      "Requirement already satisfied: urllib3>=1.26.0 in /opt/homebrew/lib/python3.11/site-packages (from docker<6.2.0,>=6.1.0->zenml[server]) (2.0.7)\n",
      "Requirement already satisfied: websocket-client>=0.32.0 in /opt/homebrew/lib/python3.11/site-packages (from docker<6.2.0,>=6.1.0->zenml[server]) (1.7.0)\n",
      "Requirement already satisfied: starlette==0.22.0 in /opt/homebrew/lib/python3.11/site-packages (from fastapi<0.100,>=0.75->zenml[server]) (0.22.0)\n",
      "Requirement already satisfied: anyio<5,>=3.4.0 in /opt/homebrew/lib/python3.11/site-packages (from starlette==0.22.0->fastapi<0.100,>=0.75->zenml[server]) (4.1.0)\n",
      "Requirement already satisfied: gitdb<5,>=4.0.1 in /opt/homebrew/lib/python3.11/site-packages (from gitpython<4.0.0,>=3.1.18->zenml[server]) (4.0.11)\n",
      "Requirement already satisfied: cachetools in /opt/homebrew/lib/python3.11/site-packages (from ipinfo>=4.4.3->zenml[server]) (5.3.2)\n",
      "Requirement already satisfied: aiohttp<=4 in /opt/homebrew/lib/python3.11/site-packages (from ipinfo>=4.4.3->zenml[server]) (3.9.1)\n",
      "Requirement already satisfied: numpy<2,>=1.23.2 in /opt/homebrew/lib/python3.11/site-packages (from pandas>=1.1.5->zenml[server]) (1.26.2)\n",
      "Requirement already satisfied: pytz>=2020.1 in /opt/homebrew/lib/python3.11/site-packages (from pandas>=1.1.5->zenml[server]) (2023.3.post1)\n",
      "Requirement already satisfied: tzdata>=2022.1 in /opt/homebrew/lib/python3.11/site-packages (from pandas>=1.1.5->zenml[server]) (2023.3)\n",
      "Requirement already satisfied: typing-extensions>=4.2.0 in /opt/homebrew/lib/python3.11/site-packages (from pydantic<1.11,>=1.9.0->zenml[server]) (4.9.0)\n",
      "Requirement already satisfied: six>=1.5 in /Users/m.alaudeen/Library/Python/3.11/lib/python/site-packages (from python-dateutil<3.0.0,>=2.8.1->zenml[server]) (1.16.0)\n",
      "Requirement already satisfied: markdown-it-py>=2.2.0 in /opt/homebrew/lib/python3.11/site-packages (from rich>=12.0.0->rich[jupyter]>=12.0.0->zenml[server]) (3.0.0)\n",
      "Requirement already satisfied: pygments<3.0.0,>=2.13.0 in /Users/m.alaudeen/Library/Python/3.11/lib/python/site-packages (from rich>=12.0.0->rich[jupyter]>=12.0.0->zenml[server]) (2.17.2)\n",
      "Requirement already satisfied: ipywidgets<9,>=7.5.1 in /opt/homebrew/lib/python3.11/site-packages (from rich[jupyter]>=12.0.0->zenml[server]) (8.1.1)\n",
      "Requirement already satisfied: h11>=0.8 in /opt/homebrew/lib/python3.11/site-packages (from uvicorn>=0.17.5->uvicorn[standard]>=0.17.5; extra == \"server\"->zenml[server]) (0.14.0)\n",
      "Requirement already satisfied: httptools>=0.5.0 in /opt/homebrew/lib/python3.11/site-packages (from uvicorn[standard]>=0.17.5; extra == \"server\"->zenml[server]) (0.6.1)\n",
      "Requirement already satisfied: python-dotenv>=0.13 in /opt/homebrew/lib/python3.11/site-packages (from uvicorn[standard]>=0.17.5; extra == \"server\"->zenml[server]) (1.0.0)\n",
      "Requirement already satisfied: uvloop!=0.15.0,!=0.15.1,>=0.14.0 in /opt/homebrew/lib/python3.11/site-packages (from uvicorn[standard]>=0.17.5; extra == \"server\"->zenml[server]) (0.19.0)\n",
      "Requirement already satisfied: watchfiles>=0.13 in /opt/homebrew/lib/python3.11/site-packages (from uvicorn[standard]>=0.17.5; extra == \"server\"->zenml[server]) (0.21.0)\n",
      "Requirement already satisfied: websockets>=10.4 in /opt/homebrew/lib/python3.11/site-packages (from uvicorn[standard]>=0.17.5; extra == \"server\"->zenml[server]) (12.0)\n",
      "Requirement already satisfied: MarkupSafe>=2.0 in /opt/homebrew/lib/python3.11/site-packages (from Jinja2->zenml[server]) (2.1.3)\n",
      "Requirement already satisfied: attrs>=17.3.0 in /opt/homebrew/lib/python3.11/site-packages (from aiohttp<=4->ipinfo>=4.4.3->zenml[server]) (23.1.0)\n",
      "Requirement already satisfied: multidict<7.0,>=4.5 in /opt/homebrew/lib/python3.11/site-packages (from aiohttp<=4->ipinfo>=4.4.3->zenml[server]) (6.0.4)\n",
      "Requirement already satisfied: yarl<2.0,>=1.0 in /opt/homebrew/lib/python3.11/site-packages (from aiohttp<=4->ipinfo>=4.4.3->zenml[server]) (1.9.4)\n",
      "Requirement already satisfied: frozenlist>=1.1.1 in /opt/homebrew/lib/python3.11/site-packages (from aiohttp<=4->ipinfo>=4.4.3->zenml[server]) (1.4.1)\n",
      "Requirement already satisfied: aiosignal>=1.1.2 in /opt/homebrew/lib/python3.11/site-packages (from aiohttp<=4->ipinfo>=4.4.3->zenml[server]) (1.3.1)\n",
      "Requirement already satisfied: azure-core<2.0.0,>=1.26.2 in /opt/homebrew/lib/python3.11/site-packages (from azure-mgmt-core<2.0.0,>=1.3.2->azure-mgmt-resource>=21.0.0->zenml[server]) (1.29.6)\n",
      "Requirement already satisfied: cffi>=1.12 in /opt/homebrew/lib/python3.11/site-packages (from cryptography>=3.4.0->pyjwt[crypto]==2.7.*; extra == \"server\"->zenml[server]) (1.16.0)\n",
      "Requirement already satisfied: smmap<6,>=3.0.1 in /opt/homebrew/lib/python3.11/site-packages (from gitdb<5,>=4.0.1->gitpython<4.0.0,>=3.1.18->zenml[server]) (5.0.1)\n",
      "Requirement already satisfied: comm>=0.1.3 in /Users/m.alaudeen/Library/Python/3.11/lib/python/site-packages (from ipywidgets<9,>=7.5.1->rich[jupyter]>=12.0.0->zenml[server]) (0.2.0)\n",
      "Requirement already satisfied: ipython>=6.1.0 in /Users/m.alaudeen/Library/Python/3.11/lib/python/site-packages (from ipywidgets<9,>=7.5.1->rich[jupyter]>=12.0.0->zenml[server]) (8.18.1)\n",
      "Requirement already satisfied: traitlets>=4.3.1 in /Users/m.alaudeen/Library/Python/3.11/lib/python/site-packages (from ipywidgets<9,>=7.5.1->rich[jupyter]>=12.0.0->zenml[server]) (5.14.0)\n",
      "Requirement already satisfied: widgetsnbextension~=4.0.9 in /opt/homebrew/lib/python3.11/site-packages (from ipywidgets<9,>=7.5.1->rich[jupyter]>=12.0.0->zenml[server]) (4.0.9)\n",
      "Requirement already satisfied: jupyterlab-widgets~=3.0.9 in /opt/homebrew/lib/python3.11/site-packages (from ipywidgets<9,>=7.5.1->rich[jupyter]>=12.0.0->zenml[server]) (3.0.9)\n",
      "Requirement already satisfied: mdurl~=0.1 in /opt/homebrew/lib/python3.11/site-packages (from markdown-it-py>=2.2.0->rich>=12.0.0->rich[jupyter]>=12.0.0->zenml[server]) (0.1.2)\n",
      "Requirement already satisfied: charset-normalizer<4,>=2 in /opt/homebrew/lib/python3.11/site-packages (from requests>=2.26.0->docker<6.2.0,>=6.1.0->zenml[server]) (3.3.2)\n",
      "Requirement already satisfied: idna<4,>=2.5 in /opt/homebrew/lib/python3.11/site-packages (from requests>=2.26.0->docker<6.2.0,>=6.1.0->zenml[server]) (3.6)\n",
      "Requirement already satisfied: certifi>=2017.4.17 in /opt/homebrew/lib/python3.11/site-packages (from requests>=2.26.0->docker<6.2.0,>=6.1.0->zenml[server]) (2023.11.17)\n",
      "Requirement already satisfied: decorator>=3.4.0 in /Users/m.alaudeen/Library/Python/3.11/lib/python/site-packages (from validators<0.19,>=0.18->click-params<0.4.0,>=0.3.0->zenml[server]) (5.1.1)\n",
      "Requirement already satisfied: sniffio>=1.1 in /opt/homebrew/lib/python3.11/site-packages (from anyio<5,>=3.4.0->starlette==0.22.0->fastapi<0.100,>=0.75->zenml[server]) (1.3.0)\n",
      "Requirement already satisfied: pycparser in /opt/homebrew/lib/python3.11/site-packages (from cffi>=1.12->cryptography>=3.4.0->pyjwt[crypto]==2.7.*; extra == \"server\"->zenml[server]) (2.21)\n",
      "Requirement already satisfied: jedi>=0.16 in /Users/m.alaudeen/Library/Python/3.11/lib/python/site-packages (from ipython>=6.1.0->ipywidgets<9,>=7.5.1->rich[jupyter]>=12.0.0->zenml[server]) (0.19.1)\n",
      "Requirement already satisfied: matplotlib-inline in /Users/m.alaudeen/Library/Python/3.11/lib/python/site-packages (from ipython>=6.1.0->ipywidgets<9,>=7.5.1->rich[jupyter]>=12.0.0->zenml[server]) (0.1.6)\n",
      "Requirement already satisfied: prompt-toolkit<3.1.0,>=3.0.41 in /Users/m.alaudeen/Library/Python/3.11/lib/python/site-packages (from ipython>=6.1.0->ipywidgets<9,>=7.5.1->rich[jupyter]>=12.0.0->zenml[server]) (3.0.43)\n",
      "Requirement already satisfied: stack-data in /Users/m.alaudeen/Library/Python/3.11/lib/python/site-packages (from ipython>=6.1.0->ipywidgets<9,>=7.5.1->rich[jupyter]>=12.0.0->zenml[server]) (0.6.3)\n",
      "Requirement already satisfied: pexpect>4.3 in /Users/m.alaudeen/Library/Python/3.11/lib/python/site-packages (from ipython>=6.1.0->ipywidgets<9,>=7.5.1->rich[jupyter]>=12.0.0->zenml[server]) (4.9.0)\n",
      "Requirement already satisfied: parso<0.9.0,>=0.8.3 in /Users/m.alaudeen/Library/Python/3.11/lib/python/site-packages (from jedi>=0.16->ipython>=6.1.0->ipywidgets<9,>=7.5.1->rich[jupyter]>=12.0.0->zenml[server]) (0.8.3)\n",
      "Requirement already satisfied: ptyprocess>=0.5 in /Users/m.alaudeen/Library/Python/3.11/lib/python/site-packages (from pexpect>4.3->ipython>=6.1.0->ipywidgets<9,>=7.5.1->rich[jupyter]>=12.0.0->zenml[server]) (0.7.0)\n",
      "Requirement already satisfied: wcwidth in /Users/m.alaudeen/Library/Python/3.11/lib/python/site-packages (from prompt-toolkit<3.1.0,>=3.0.41->ipython>=6.1.0->ipywidgets<9,>=7.5.1->rich[jupyter]>=12.0.0->zenml[server]) (0.2.12)\n",
      "Requirement already satisfied: executing>=1.2.0 in /Users/m.alaudeen/Library/Python/3.11/lib/python/site-packages (from stack-data->ipython>=6.1.0->ipywidgets<9,>=7.5.1->rich[jupyter]>=12.0.0->zenml[server]) (2.0.1)\n",
      "Requirement already satisfied: asttokens>=2.1.0 in /Users/m.alaudeen/Library/Python/3.11/lib/python/site-packages (from stack-data->ipython>=6.1.0->ipywidgets<9,>=7.5.1->rich[jupyter]>=12.0.0->zenml[server]) (2.4.1)\n",
      "Requirement already satisfied: pure-eval in /Users/m.alaudeen/Library/Python/3.11/lib/python/site-packages (from stack-data->ipython>=6.1.0->ipywidgets<9,>=7.5.1->rich[jupyter]>=12.0.0->zenml[server]) (0.2.2)\n",
      "\u001b[33mWARNING: Skipping /opt/homebrew/lib/python3.11/site-packages/urllib3-2.1.0.dist-info due to invalid metadata entry 'name'\u001b[0m\u001b[33m\n",
      "\u001b[0m\u001b[33mWARNING: Skipping /opt/homebrew/lib/python3.11/site-packages/click-8.1.7.dist-info due to invalid metadata entry 'name'\u001b[0m\u001b[33m\n",
      "\u001b[0m"
     ]
    }
   ],
   "source": [
    "!pip install \"zenml[server]\""
   ]
  },
  {
   "cell_type": "code",
   "execution_count": 2,
   "metadata": {
    "id": "XTD3_jRVGHJD"
   },
   "outputs": [],
   "source": [
    "from zenml.environment import Environment\n",
    "\n",
    "if Environment.in_google_colab():\n",
    "    # Install Cloudflare Tunnel binary\n",
    "    !wget -q https://github.com/cloudflare/cloudflared/releases/latest/download/cloudflared-linux-amd64.deb && dpkg -i cloudflared-linux-amd64.deb\n"
   ]
  },
  {
   "cell_type": "code",
   "execution_count": 3,
   "metadata": {
    "id": "JEPi-lmsGHJD"
   },
   "outputs": [
    {
     "name": "stdout",
     "output_type": "stream",
     "text": [
      "\u001b[2K\u001b[32m⠏\u001b[0m Installing integrations.....\n",
      "\u001b[1A\u001b[2K"
     ]
    },
    {
     "data": {
      "text/plain": [
       "{'status': 'ok', 'restart': True}"
      ]
     },
     "execution_count": 3,
     "metadata": {},
     "output_type": "execute_result"
    }
   ],
   "source": [
    "!zenml integration install sklearn mlflow -y\n",
    "\n",
    "import IPython\n",
    "IPython.Application.instance().kernel.do_shutdown(restart=True)"
   ]
  },
  {
   "cell_type": "markdown",
   "metadata": {
    "id": "OVVkfnunGHJD"
   },
   "source": [
    "Please wait for the installation to complete before running subsequent cells. At\n",
    "the end of the installation, the notebook kernel will automatically restart."
   ]
  },
  {
   "cell_type": "markdown",
   "metadata": {
    "id": "uzbjIckjGHJD"
   },
   "source": [
    "Optional: If you are using ZenML Cloud, execute the following cell with your tenant URL. Otherwise ignore."
   ]
  },
  {
   "cell_type": "code",
   "execution_count": 4,
   "metadata": {
    "id": "H9U23CrZGHJD"
   },
   "outputs": [],
   "source": [
    "#zenml_server_url = \"PLEASE_UPDATE_ME\"  # in the form \"https://URL_TO_SERVER\"\n",
    "\n",
    "#!zenml connect --url $zenml_server_url"
   ]
  },
  {
   "cell_type": "code",
   "execution_count": 5,
   "metadata": {},
   "outputs": [
    {
     "name": "stdout",
     "output_type": "stream",
     "text": [
      "\u001b[2;36mThe local ZenML dashboard is not running.\u001b[0m\n",
      "\u001b[2;36mDeleted local ZenML config from \u001b[0m\u001b[2;35m/Users/m.alaudeen/Downloads/\u001b[0m\u001b[2;95m.zen.\u001b[0m\n",
      "\u001b[33mDeleting \u001b[0m\u001b[32m'local_stores'\u001b[0m\u001b[33m directory from global config.\u001b[0m\n",
      "\u001b[2;36mDeleted global ZenML config from \u001b[0m\u001b[2;35m/Users/m.alaudeen/Library/\u001b[0m\u001b[2;95mApplication\u001b[0m\u001b[2;36m \u001b[0m\n",
      "\u001b[2;36mSupport/zenml.\u001b[0m\n",
      "\u001b[1;35mCreating database tables\u001b[0m\n",
      "\u001b[33mIntegration aws failed to register flavors. Error: No module named 'aws_profile_manager'\u001b[0m\n",
      "\u001b[1;35mCreating default workspace 'default' ...\u001b[0m\n",
      "\u001b[1;35mCreating default stack in workspace default...\u001b[0m\n",
      "\u001b[1;35mCreating default user 'default' ...\u001b[0m\n",
      "\u001b[1;35mSetting the global active workspace to 'default'.\u001b[0m\n",
      "\u001b[33mSetting the global active stack to default.\u001b[0m\n",
      "\u001b[2;36mReinitialized ZenML global config at \u001b[0m\u001b[2;35m/Users/m.alaudeen/\u001b[0m\u001b[2;95mDownloads.\u001b[0m\n"
     ]
    }
   ],
   "source": [
    "!zenml clean -y"
   ]
  },
  {
   "cell_type": "code",
   "execution_count": 6,
   "metadata": {
    "id": "XqgvQ_DdGHJE"
   },
   "outputs": [
    {
     "name": "stdout",
     "output_type": "stream",
     "text": [
      "\u001b[?25l\u001b[1;35mSetting the repo active workspace to 'default'.\u001b[0m\n",
      "\u001b[33mSetting the repo active stack to default.\u001b[0m\n",
      "\u001b[2;36mZenML repository initialized at \u001b[0m\u001b[2;35m/Users/m.alaudeen/\u001b[0m\u001b[2;95mDownloads.\u001b[0m\n",
      "\u001b[2;32m⠋\u001b[0m\u001b[2;36m Initializing ZenML repository at /Users/m.alaudeen/Downloads.\u001b[0m\n",
      "\u001b[2K\u001b[1A\u001b[2K\u001b[32m⠋\u001b[0m Initializing ZenML repository at /Users/m.alaudeen/Downloads.\n",
      "\u001b[2K\u001b[1A\u001b[2K\u001b[32m⠋\u001b[0m Initializing ZenML repository at /Users/m.alaudeen/Downloads.\n",
      "\n",
      "\u001b[1A\u001b[2K\u001b[1A\u001b[2K\u001b[2;36mThe local active stack was initialized to \u001b[0m\u001b[2;32m'default'\u001b[0m\u001b[2;36m. This local configuration \u001b[0m\n",
      "\u001b[2;36mwill only take effect when you're running ZenML from the initialized repository \u001b[0m\n",
      "\u001b[2;36mroot, or from a subdirectory. For more information on repositories and \u001b[0m\n",
      "\u001b[2;36mconfigurations, please visit \u001b[0m\n",
      "\u001b[2;4;94mhttps://docs.zenml.io/user-guide/starter-guide/understand-stacks.\u001b[0m\n"
     ]
    }
   ],
   "source": [
    "!zenml init"
   ]
  },
  {
   "cell_type": "markdown",
   "metadata": {
    "id": "uXlo8JzvGHJE"
   },
   "source": [
    "Please wait for the installation to complete before running subsequent cells. At the end of the installation, the notebook kernel will automatically restart."
   ]
  },
  {
   "cell_type": "markdown",
   "metadata": {
    "id": "oi0CGh_NGHJE"
   },
   "source": [
    "# 2. Import Data\n",
    "\n",
    "We'll start off by importing our data. In this quickstart we'll be working with\n",
    "[the Adult Census Income](https://archive.ics.uci.edu/dataset/2/adult) dataset\n",
    "which is publicly available on the UCI Machine Learning Repository. The task is\n",
    "to predict whether a person makes over $50k a year based on a number of\n",
    "features. These features are things like age, work class, education level,\n",
    "marital status, occupation, relationship, race, sex, capital gain, capital loss,\n",
    "hours per week, and native country.\n",
    "\n",
    "When you're getting started with a machine learning problem you'll want to do\n",
    "something similar to this: import your data and get it in the right shape for\n",
    "your training. ZenML mostly gets out of your way when you're writing your Python\n",
    "code, as you'll see from the following cell."
   ]
  },
  {
   "cell_type": "code",
   "execution_count": 1,
   "metadata": {
    "id": "l-CA9wdIGHJE"
   },
   "outputs": [],
   "source": [
    "from typing import Tuple\n",
    "\n",
    "import pandas as pd\n",
    "from sklearn.model_selection import train_test_split\n",
    "\n",
    "from zenml import step\n",
    "\n",
    "\n",
    "@step\n",
    "def training_data_loader() -> (\n",
    "    Tuple[pd.DataFrame, pd.DataFrame, pd.Series, pd.Series]\n",
    "):\n",
    "    \"\"\"Load the Census Income dataset as tuple of Pandas DataFrame / Series.\"\"\"\n",
    "    # Load the dataset\n",
    "    url = \"https://archive.ics.uci.edu/ml/machine-learning-databases/adult/adult.data\"\n",
    "    column_names = [\n",
    "        \"age\",\n",
    "        \"workclass\",\n",
    "        \"fnlwgt\",\n",
    "        \"education\",\n",
    "        \"education-num\",\n",
    "        \"marital-status\",\n",
    "        \"occupation\",\n",
    "        \"relationship\",\n",
    "        \"race\",\n",
    "        \"sex\",\n",
    "        \"capital-gain\",\n",
    "        \"capital-loss\",\n",
    "        \"hours-per-week\",\n",
    "        \"native-country\",\n",
    "        \"income\",\n",
    "    ]\n",
    "    data = pd.read_csv(\n",
    "        url, names=column_names, na_values=\"?\", skipinitialspace=True\n",
    "    )\n",
    "\n",
    "    # Drop rows with missing values\n",
    "    data = data.dropna()\n",
    "\n",
    "    # Encode categorical features and drop original columns\n",
    "    categorical_cols = [\n",
    "        \"workclass\",\n",
    "        \"education\",\n",
    "        \"marital-status\",\n",
    "        \"occupation\",\n",
    "        \"relationship\",\n",
    "        \"race\",\n",
    "        \"sex\",\n",
    "        \"native-country\",\n",
    "    ]\n",
    "    data = pd.get_dummies(data, columns=categorical_cols, drop_first=True)\n",
    "\n",
    "    # Encode target feature\n",
    "    data[\"income\"] = data[\"income\"].apply(\n",
    "        lambda x: 1 if x.strip() == \">50K\" else 0\n",
    "    )\n",
    "\n",
    "    # Separate features and target\n",
    "    X = data.drop(\"income\", axis=1)\n",
    "    y = data[\"income\"]\n",
    "\n",
    "    # Split the dataset into train and test sets\n",
    "    X_train, X_test, y_train, y_test = train_test_split(\n",
    "        X, y, test_size=0.2, random_state=42\n",
    "    )\n",
    "    return (X_train, X_test, y_train, y_test)"
   ]
  },
  {
   "cell_type": "markdown",
   "metadata": {
    "id": "Wt2wUsfhGHJE"
   },
   "source": [
    "We download the data, dropping some columns and then splitting it up into train\n",
    "and test sets. The whole function is decorated with the `@step` decorator, which\n",
    "tells ZenML to track this function as a step in the pipeline. This means that\n",
    "ZenML will automatically version, track, and cache the data that is produced by\n",
    "this function. This is a very powerful feature, as it means that you can\n",
    "reproduce your data at any point in the future, even if the original data source\n",
    "changes or disappears.\n",
    "\n",
    "You'll also notice that we have included type hints for the outputs\n",
    "to the function. These are not only useful for anyone reading your code, but\n",
    "help ZenML process your data in a way appropriate to the specific data types."
   ]
  },
  {
   "cell_type": "markdown",
   "metadata": {
    "id": "RuaZa4XWGHJE"
   },
   "source": [
    "ZenML is built in a way that allows you to experiment with your data and build\n",
    "your pipelines as you work, so if you want to call this function to see how it\n",
    "works, you can just call it directly. Here we take a look at the first few rows\n",
    "of your training dataset."
   ]
  },
  {
   "cell_type": "code",
   "execution_count": 2,
   "metadata": {
    "id": "5IKP5XGUGHJE"
   },
   "outputs": [
    {
     "data": {
      "text/html": [
       "<div>\n",
       "<style scoped>\n",
       "    .dataframe tbody tr th:only-of-type {\n",
       "        vertical-align: middle;\n",
       "    }\n",
       "\n",
       "    .dataframe tbody tr th {\n",
       "        vertical-align: top;\n",
       "    }\n",
       "\n",
       "    .dataframe thead th {\n",
       "        text-align: right;\n",
       "    }\n",
       "</style>\n",
       "<table border=\"1\" class=\"dataframe\">\n",
       "  <thead>\n",
       "    <tr style=\"text-align: right;\">\n",
       "      <th></th>\n",
       "      <th>age</th>\n",
       "      <th>fnlwgt</th>\n",
       "      <th>education-num</th>\n",
       "      <th>capital-gain</th>\n",
       "      <th>capital-loss</th>\n",
       "      <th>hours-per-week</th>\n",
       "      <th>workclass_Local-gov</th>\n",
       "      <th>workclass_Private</th>\n",
       "      <th>workclass_Self-emp-inc</th>\n",
       "      <th>workclass_Self-emp-not-inc</th>\n",
       "      <th>...</th>\n",
       "      <th>native-country_Portugal</th>\n",
       "      <th>native-country_Puerto-Rico</th>\n",
       "      <th>native-country_Scotland</th>\n",
       "      <th>native-country_South</th>\n",
       "      <th>native-country_Taiwan</th>\n",
       "      <th>native-country_Thailand</th>\n",
       "      <th>native-country_Trinadad&amp;Tobago</th>\n",
       "      <th>native-country_United-States</th>\n",
       "      <th>native-country_Vietnam</th>\n",
       "      <th>native-country_Yugoslavia</th>\n",
       "    </tr>\n",
       "  </thead>\n",
       "  <tbody>\n",
       "    <tr>\n",
       "      <th>19863</th>\n",
       "      <td>53</td>\n",
       "      <td>168539</td>\n",
       "      <td>5</td>\n",
       "      <td>0</td>\n",
       "      <td>0</td>\n",
       "      <td>70</td>\n",
       "      <td>False</td>\n",
       "      <td>False</td>\n",
       "      <td>False</td>\n",
       "      <td>True</td>\n",
       "      <td>...</td>\n",
       "      <td>False</td>\n",
       "      <td>False</td>\n",
       "      <td>False</td>\n",
       "      <td>False</td>\n",
       "      <td>False</td>\n",
       "      <td>False</td>\n",
       "      <td>False</td>\n",
       "      <td>True</td>\n",
       "      <td>False</td>\n",
       "      <td>False</td>\n",
       "    </tr>\n",
       "    <tr>\n",
       "      <th>24342</th>\n",
       "      <td>49</td>\n",
       "      <td>56841</td>\n",
       "      <td>13</td>\n",
       "      <td>0</td>\n",
       "      <td>0</td>\n",
       "      <td>70</td>\n",
       "      <td>False</td>\n",
       "      <td>False</td>\n",
       "      <td>False</td>\n",
       "      <td>True</td>\n",
       "      <td>...</td>\n",
       "      <td>False</td>\n",
       "      <td>False</td>\n",
       "      <td>False</td>\n",
       "      <td>False</td>\n",
       "      <td>False</td>\n",
       "      <td>False</td>\n",
       "      <td>False</td>\n",
       "      <td>True</td>\n",
       "      <td>False</td>\n",
       "      <td>False</td>\n",
       "    </tr>\n",
       "    <tr>\n",
       "      <th>10027</th>\n",
       "      <td>28</td>\n",
       "      <td>154571</td>\n",
       "      <td>10</td>\n",
       "      <td>0</td>\n",
       "      <td>0</td>\n",
       "      <td>40</td>\n",
       "      <td>False</td>\n",
       "      <td>True</td>\n",
       "      <td>False</td>\n",
       "      <td>False</td>\n",
       "      <td>...</td>\n",
       "      <td>False</td>\n",
       "      <td>False</td>\n",
       "      <td>False</td>\n",
       "      <td>False</td>\n",
       "      <td>False</td>\n",
       "      <td>False</td>\n",
       "      <td>False</td>\n",
       "      <td>False</td>\n",
       "      <td>False</td>\n",
       "      <td>False</td>\n",
       "    </tr>\n",
       "    <tr>\n",
       "      <th>25710</th>\n",
       "      <td>60</td>\n",
       "      <td>188236</td>\n",
       "      <td>6</td>\n",
       "      <td>0</td>\n",
       "      <td>0</td>\n",
       "      <td>40</td>\n",
       "      <td>False</td>\n",
       "      <td>True</td>\n",
       "      <td>False</td>\n",
       "      <td>False</td>\n",
       "      <td>...</td>\n",
       "      <td>False</td>\n",
       "      <td>False</td>\n",
       "      <td>False</td>\n",
       "      <td>False</td>\n",
       "      <td>False</td>\n",
       "      <td>False</td>\n",
       "      <td>False</td>\n",
       "      <td>True</td>\n",
       "      <td>False</td>\n",
       "      <td>False</td>\n",
       "    </tr>\n",
       "    <tr>\n",
       "      <th>13824</th>\n",
       "      <td>53</td>\n",
       "      <td>87158</td>\n",
       "      <td>9</td>\n",
       "      <td>0</td>\n",
       "      <td>0</td>\n",
       "      <td>40</td>\n",
       "      <td>False</td>\n",
       "      <td>True</td>\n",
       "      <td>False</td>\n",
       "      <td>False</td>\n",
       "      <td>...</td>\n",
       "      <td>False</td>\n",
       "      <td>False</td>\n",
       "      <td>False</td>\n",
       "      <td>False</td>\n",
       "      <td>False</td>\n",
       "      <td>False</td>\n",
       "      <td>False</td>\n",
       "      <td>True</td>\n",
       "      <td>False</td>\n",
       "      <td>False</td>\n",
       "    </tr>\n",
       "  </tbody>\n",
       "</table>\n",
       "<p>5 rows × 96 columns</p>\n",
       "</div>"
      ],
      "text/plain": [
       "       age  fnlwgt  education-num  capital-gain  capital-loss  hours-per-week  \\\n",
       "19863   53  168539              5             0             0              70   \n",
       "24342   49   56841             13             0             0              70   \n",
       "10027   28  154571             10             0             0              40   \n",
       "25710   60  188236              6             0             0              40   \n",
       "13824   53   87158              9             0             0              40   \n",
       "\n",
       "       workclass_Local-gov  workclass_Private  workclass_Self-emp-inc  \\\n",
       "19863                False              False                   False   \n",
       "24342                False              False                   False   \n",
       "10027                False               True                   False   \n",
       "25710                False               True                   False   \n",
       "13824                False               True                   False   \n",
       "\n",
       "       workclass_Self-emp-not-inc  ...  native-country_Portugal  \\\n",
       "19863                        True  ...                    False   \n",
       "24342                        True  ...                    False   \n",
       "10027                       False  ...                    False   \n",
       "25710                       False  ...                    False   \n",
       "13824                       False  ...                    False   \n",
       "\n",
       "       native-country_Puerto-Rico  native-country_Scotland  \\\n",
       "19863                       False                    False   \n",
       "24342                       False                    False   \n",
       "10027                       False                    False   \n",
       "25710                       False                    False   \n",
       "13824                       False                    False   \n",
       "\n",
       "       native-country_South  native-country_Taiwan  native-country_Thailand  \\\n",
       "19863                 False                  False                    False   \n",
       "24342                 False                  False                    False   \n",
       "10027                 False                  False                    False   \n",
       "25710                 False                  False                    False   \n",
       "13824                 False                  False                    False   \n",
       "\n",
       "       native-country_Trinadad&Tobago  native-country_United-States  \\\n",
       "19863                           False                          True   \n",
       "24342                           False                          True   \n",
       "10027                           False                         False   \n",
       "25710                           False                          True   \n",
       "13824                           False                          True   \n",
       "\n",
       "       native-country_Vietnam  native-country_Yugoslavia  \n",
       "19863                   False                      False  \n",
       "24342                   False                      False  \n",
       "10027                   False                      False  \n",
       "25710                   False                      False  \n",
       "13824                   False                      False  \n",
       "\n",
       "[5 rows x 96 columns]"
      ]
     },
     "execution_count": 2,
     "metadata": {},
     "output_type": "execute_result"
    }
   ],
   "source": [
    "X_train, X_test, y_train, y_test = training_data_loader()\n",
    "X_train.head()"
   ]
  },
  {
   "cell_type": "markdown",
   "metadata": {
    "id": "pKGPRokmGHJE"
   },
   "source": [
    "Everything looks as we'd expect and the values are all in the right format. We\n",
    "can shift to training some models now! 🥳"
   ]
  },
  {
   "cell_type": "markdown",
   "metadata": {
    "id": "SnLXlskvGHJE"
   },
   "source": [
    "# 3. Train Models\n",
    "\n",
    "Now that we have our data it makes sense to train some models to get a sense of\n",
    "how difficult the task is. The Census Income\n",
    "dataset is sufficiently large and complex that it's unlikely we'll be able to\n",
    "train a model that behaves perfectly since the problem is inherently complex,\n",
    "but we can get a sense of what a reasonable baseline looks like.\n",
    "\n",
    "We'll start with two simple models, a SGD Classifier and a Random Forest\n",
    "Classifier, both batteries-included from `sklearn`. We'll train them both on the\n",
    "same data and then compare their performance.\n",
    "\n",
    "Since we're starting our work properly, it makes sense to start tracking the\n",
    "experimentation that we're doing. ZenML integrates with MLflow to make this\n",
    "easy. This happens out of the box when using our experiment tracker integration\n",
    "and stack components. We'll see how this works below, but first let's set up\n",
    "ZenML to know that it should use the MLFlow experiment tracker."
   ]
  },
  {
   "cell_type": "code",
   "execution_count": 9,
   "metadata": {
    "id": "3s6Vw2ieGHJE"
   },
   "outputs": [
    {
     "name": "stdout",
     "output_type": "stream",
     "text": [
      "\u001b[?25l\u001b[32m⠋\u001b[0m Registering experiment tracker 'mlflow'...\n",
      "\u001b[2K\u001b[1A\u001b[2K\u001b[32m⠙\u001b[0m Registering experiment tracker 'mlflow'...\n",
      "\u001b[2K\u001b[1A\u001b[2K\u001b[32m⠹\u001b[0m Registering experiment tracker 'mlflow'...\n",
      "\u001b[2K\u001b[1A\u001b[2K\u001b[32m⠸\u001b[0m Registering experiment tracker 'mlflow'...\n",
      "\u001b[2K\u001b[1A\u001b[2K\u001b[32m⠼\u001b[0m Registering experiment tracker 'mlflow'...\n",
      "\u001b[2K\u001b[1A\u001b[2K\u001b[32m⠴\u001b[0m Registering experiment tracker 'mlflow'...\n",
      "\u001b[2K\u001b[1A\u001b[2K\u001b[32m⠦\u001b[0m Registering experiment tracker 'mlflow'...\n",
      "\u001b[2K\u001b[1A\u001b[2K\u001b[2;36mSuccessfully registered experiment_tracker `mlflow`.\u001b[0m\n",
      "\u001b[2;32m⠦\u001b[0m\u001b[2;36m Registering experiment tracker 'mlflow'...\u001b[0m\n",
      "\u001b[2K\u001b[1A\u001b[2K\u001b[33mYou can display various ZenML entities including pipelines, runs, stacks and \u001b[0m\n",
      "\u001b[33mmuch more on the ZenML Dashboard. You can try it locally, by running `zenml up`,\u001b[0m\n",
      "\u001b[33mor remotely, by deploying ZenML on the infrastructure of your choice.\u001b[0m\n",
      "\u001b[32m⠦\u001b[0m\u001b[33m Registering experiment tracker 'mlflow'...\u001b[0m\n",
      "\u001b[2K\u001b[1A\u001b[2K\u001b[32m⠦\u001b[0m Registering experiment tracker 'mlflow'...\n",
      "\n",
      "\u001b[1A\u001b[2K\u001b[1A\u001b[2K\u001b[?25l\u001b[32m⠋\u001b[0m Registering stack 'quickstart'...\n",
      "\u001b[2K\u001b[1A\u001b[2K\u001b[32m⠙\u001b[0m Registering stack 'quickstart'...\n",
      "\u001b[2K\u001b[1A\u001b[2K\u001b[32m⠹\u001b[0m Registering stack 'quickstart'...\n",
      "\u001b[2K\u001b[1A\u001b[2K\u001b[32m⠸\u001b[0m Registering stack 'quickstart'...\n",
      "\u001b[2K\u001b[1A\u001b[2K\u001b[32m⠼\u001b[0m Registering stack 'quickstart'...\n",
      "\u001b[2K\u001b[1A\u001b[2K\u001b[32m⠴\u001b[0m Registering stack 'quickstart'...\n",
      "\u001b[2K\u001b[1A\u001b[2K\u001b[32m⠦\u001b[0m Registering stack 'quickstart'...\n",
      "\u001b[2K\u001b[1A\u001b[2K\u001b[32m⠧\u001b[0m Registering stack 'quickstart'...\n",
      "\u001b[2K\u001b[1A\u001b[2K\u001b[2;36mStack \u001b[0m\u001b[2;32m'quickstart'\u001b[0m\u001b[2;36m successfully registered!\u001b[0m\n",
      "\u001b[2;32m⠧\u001b[0m\u001b[2;36m Registering stack 'quickstart'...\u001b[0m\n",
      "\u001b[2K\u001b[1A\u001b[2K\u001b[32m⠧\u001b[0m Registering stack 'quickstart'...\n",
      "\n",
      "\u001b[1A\u001b[2K\u001b[1A\u001b[2K\u001b[33mYou can display various ZenML entities including pipelines, runs, stacks and \u001b[0m\n",
      "\u001b[33mmuch more on the ZenML Dashboard. You can try it locally, by running `zenml up`,\u001b[0m\n",
      "\u001b[33mor remotely, by deploying ZenML on the infrastructure of your choice.\u001b[0m\n",
      "\u001b[?25l\u001b[2;36mActive repository stack set to: \u001b[0m\u001b[2;32m'quickstart'\u001b[0m\n",
      "\u001b[2K\u001b[32m⠋\u001b[0m Setting the repository active stack to 'quickstart'...t'...\u001b[0m\n",
      "\u001b[1A\u001b[2K"
     ]
    }
   ],
   "source": [
    "# Register the MLflow experiment tracker\n",
    "!zenml experiment-tracker register mlflow --flavor=mlflow\n",
    "\n",
    "# Register a new stack with our experiment tracker\n",
    "!zenml stack register quickstart -a default\\\n",
    "                                 -o default\\\n",
    "                                 -e mlflow\n",
    "\n",
    "!zenml stack set quickstart"
   ]
  },
  {
   "cell_type": "markdown",
   "metadata": {
    "id": "chfKVBNcGHJE"
   },
   "source": [
    "We can now write the steps where we'll\n",
    "train our models, making sure to specify the name of our experiment tracker in\n",
    "the `@step` decorator. We could specify this manually using a string, but\n",
    "instead we'll use the ZenML `Client` to access the name of our active stack's\n",
    "experiment tracker."
   ]
  },
  {
   "cell_type": "code",
   "execution_count": 3,
   "metadata": {
    "id": "G8xkqBCaGHJF"
   },
   "outputs": [],
   "source": [
    "import mlflow\n",
    "\n",
    "from sklearn.base import ClassifierMixin\n",
    "from sklearn.ensemble import RandomForestClassifier\n",
    "from sklearn.linear_model import SGDClassifier\n",
    "\n",
    "from zenml.client import Client\n",
    "\n",
    "experiment_tracker = Client().active_stack.experiment_tracker\n",
    "\n",
    "\n",
    "@step(experiment_tracker=experiment_tracker.name)\n",
    "def random_forest_trainer_mlflow(\n",
    "    X_train: pd.DataFrame,\n",
    "    y_train: pd.Series,\n",
    ") -> ClassifierMixin:\n",
    "    \"\"\"Train a sklearn Random Forest classifier and log to MLflow.\"\"\"\n",
    "    mlflow.sklearn.autolog()  # log all model hyperparams and metrics to MLflow\n",
    "    model = RandomForestClassifier()\n",
    "    model.fit(X_train.to_numpy(), y_train.to_numpy())\n",
    "    train_acc = model.score(X_train.to_numpy(), y_train.to_numpy())\n",
    "    print(f\"Train accuracy: {train_acc}\")\n",
    "    return model\n",
    "\n",
    "\n",
    "@step(experiment_tracker=experiment_tracker.name)\n",
    "def sgd_trainer_mlflow(\n",
    "    X_train: pd.DataFrame,\n",
    "    y_train: pd.Series,\n",
    ") -> ClassifierMixin:\n",
    "    \"\"\"Train a SGD classifier and log to MLflow.\"\"\"\n",
    "    mlflow.sklearn.autolog()  # log all model hyperparams and metrics to MLflow\n",
    "    model = SGDClassifier()\n",
    "    model.fit(X_train.to_numpy(), y_train.to_numpy())\n",
    "    train_acc = model.score(X_train.to_numpy(), y_train.to_numpy())\n",
    "    print(f\"Train accuracy: {train_acc}\")\n",
    "    return model"
   ]
  },
  {
   "cell_type": "markdown",
   "metadata": {
    "id": "-7RmrALAGHJF"
   },
   "source": [
    "Our two training steps both return different kinds of `sklearn` classifier\n",
    "models, so we use the generic `ClassifierMixin` type hint for the return type."
   ]
  },
  {
   "cell_type": "markdown",
   "metadata": {
    "id": "D_IAk2RhGHJF"
   },
   "source": [
    "The end goal of this quick baseline evaluation is to understand which of the two\n",
    "models performs better. We'll use the `evaluator` step to compare the two\n",
    "models. This step takes in the two models we trained above, and compares them on\n",
    "the test data we created earlier. It returns whichever model performs best along\n",
    "with the accuracy score for that model."
   ]
  },
  {
   "cell_type": "code",
   "execution_count": 4,
   "metadata": {
    "id": "gfNIhCp1GHJF"
   },
   "outputs": [],
   "source": [
    "from typing_extensions import Annotated\n",
    "\n",
    "\n",
    "@step\n",
    "def best_model_selector(\n",
    "    X_test: pd.DataFrame,\n",
    "    y_test: pd.Series,\n",
    "    model1: ClassifierMixin,\n",
    "    model2: ClassifierMixin,\n",
    ") -> Tuple[\n",
    "    Annotated[ClassifierMixin, \"best_model\"],\n",
    "    Annotated[float, \"best_model_test_acc\"],\n",
    "]:\n",
    "    \"\"\"Calculate the accuracy on the test set and return the best model and its accuracy.\"\"\"\n",
    "    test_acc1 = model1.score(X_test.to_numpy(), y_test.to_numpy())\n",
    "    test_acc2 = model2.score(X_test.to_numpy(), y_test.to_numpy())\n",
    "    print(f\"Test accuracy ({model1.__class__.__name__}): {test_acc1}\")\n",
    "    print(f\"Test accuracy ({model2.__class__.__name__}): {test_acc2}\")\n",
    "    if test_acc1 > test_acc2:\n",
    "        best_model = model1\n",
    "        best_model_test_acc = test_acc1\n",
    "    else:\n",
    "        best_model = model2\n",
    "        best_model_test_acc = test_acc2\n",
    "    return best_model, best_model_test_acc"
   ]
  },
  {
   "cell_type": "markdown",
   "metadata": {
    "id": "ppX7CtT3GHJF"
   },
   "source": [
    "Note the use of the `typing` module's `Annotated` type hint in the output of the\n",
    "step. We're using this to give a name to the output of the step, which will make\n",
    "it possible to access it via a keyword later on."
   ]
  },
  {
   "cell_type": "markdown",
   "metadata": {
    "id": "y_8MXGrEGHJF"
   },
   "source": [
    "We'll likely want to use our model in the future so instead of simply outputting\n",
    "the model we'll use the MLflow model registry to store it. This allows us to\n",
    "version the model for retrieval and use later on as well as to use other\n",
    "functionality made possible within the MLflow dashboard. This step is a bit\n",
    "different from the ones listed above in that we're using a pre-built ZenML step\n",
    "instead of just writing our own. You'll often come across these pre-built steps\n",
    "for common workflows."
   ]
  },
  {
   "cell_type": "code",
   "execution_count": 7,
   "metadata": {
    "id": "S3Bu0X8WGHJF"
   },
   "outputs": [],
   "source": [
    "from zenml.integrations.mlflow.steps.mlflow_registry import (\n",
    "    mlflow_register_model_step,\n",
    ")\n",
    "\n",
    "model_name = \"zenml-quickstart-model\"\n",
    "\n",
    "register_model = mlflow_register_model_step.with_options(\n",
    "    parameters=dict(\n",
    "        name=model_name,\n",
    "        description=\"The first run of the Quickstart pipeline.\",\n",
    "    )\n",
    ")"
   ]
  },
  {
   "cell_type": "markdown",
   "metadata": {
    "id": "_9NLKizsGHJF"
   },
   "source": [
    "We're now at the point where can bring all these steps together into a single\n",
    "pipeline, the top-level organising entity for code in ZenML. Creating such a pipeline is\n",
    "as simple as adding a `@pipeline` decorator to a function. This specific\n",
    "pipeline doesn't return a value, but that option is available to you if you need."
   ]
  },
  {
   "cell_type": "code",
   "execution_count": 8,
   "metadata": {
    "id": "6RMUcZeFGHJF"
   },
   "outputs": [],
   "source": [
    "from zenml import pipeline\n",
    "\n",
    "\n",
    "@pipeline(enable_cache=True)\n",
    "def train_and_register_model_pipeline() -> None:\n",
    "    \"\"\"Train a model.\"\"\"\n",
    "    X_train, X_test, y_train, y_test = training_data_loader()\n",
    "    model1 = random_forest_trainer_mlflow(X_train=X_train, y_train=y_train)\n",
    "    model2 = sgd_trainer_mlflow(X_train=X_train, y_train=y_train)\n",
    "    best_model, _ = best_model_selector(\n",
    "        X_test=X_test, y_test=y_test, model1=model1, model2=model2\n",
    "    )\n",
    "    register_model(best_model)"
   ]
  },
  {
   "cell_type": "markdown",
   "metadata": {
    "id": "1Md0frKFGHJF"
   },
   "source": [
    "We've used the built-in MLflow registry to store our model, but ZenML doesn't\n",
    "yet know that we want to use the MLflow flavor of the model registry stack\n",
    "component in our stack. Let's add that now and update our stack."
   ]
  },
  {
   "cell_type": "code",
   "execution_count": 3,
   "metadata": {
    "id": "1SQXCmAGGHJF"
   },
   "outputs": [
    {
     "name": "stdout",
     "output_type": "stream",
     "text": [
      "\u001b[?25l\u001b[32m⠋\u001b[0m Registering model registry 'mlflow'...\n",
      "\u001b[2K\u001b[1A\u001b[2K\u001b[32m⠙\u001b[0m Registering model registry 'mlflow'...\n",
      "\u001b[2K\u001b[1A\u001b[2K\u001b[32m⠹\u001b[0m Registering model registry 'mlflow'...\n",
      "\u001b[2K\u001b[1A\u001b[2K\u001b[32m⠸\u001b[0m Registering model registry 'mlflow'...\n",
      "\u001b[2K\u001b[1A\u001b[2K\u001b[32m⠼\u001b[0m Registering model registry 'mlflow'...\n",
      "\u001b[2K\u001b[1A\u001b[2K\u001b[32m⠴\u001b[0m Registering model registry 'mlflow'...\n",
      "\u001b[2K\u001b[1A\u001b[2K\u001b[32m⠦\u001b[0m Registering model registry 'mlflow'...\n",
      "\u001b[2K\u001b[1A\u001b[2K\u001b[32m⠧\u001b[0m Registering model registry 'mlflow'...\n",
      "\u001b[2K\u001b[1A\u001b[2K\u001b[2;36mSuccessfully registered model_registry `mlflow`.\u001b[0m\n",
      "\u001b[2;32m⠧\u001b[0m\u001b[2;36m Registering model registry 'mlflow'...\u001b[0m\n",
      "\u001b[2K\u001b[1A\u001b[2K\u001b[33mYou can display various ZenML entities including pipelines, runs, stacks and \u001b[0m\n",
      "\u001b[33mmuch more on the ZenML Dashboard. You can try it locally, by running `zenml up`,\u001b[0m\n",
      "\u001b[33mor remotely, by deploying ZenML on the infrastructure of your choice.\u001b[0m\n",
      "\u001b[32m⠧\u001b[0m\u001b[33m Registering model registry 'mlflow'...\u001b[0m\n",
      "\u001b[2K\u001b[1A\u001b[2K\u001b[32m⠧\u001b[0m Registering model registry 'mlflow'...\n",
      "\n",
      "\u001b[1A\u001b[2K\u001b[1A\u001b[2K\u001b[?25l\u001b[32m⠋\u001b[0m Updating stack...\n",
      "\u001b[2K\u001b[1A\u001b[2K\u001b[32m⠙\u001b[0m Updating stack...\n",
      "\u001b[2K\u001b[1A\u001b[2K\u001b[32m⠹\u001b[0m Updating stack...\n",
      "\u001b[2K\u001b[1A\u001b[2K\u001b[32m⠸\u001b[0m Updating stack...\n",
      "\u001b[2K\u001b[1A\u001b[2K\u001b[32m⠼\u001b[0m Updating stack...\n",
      "\u001b[2K\u001b[1A\u001b[2K\u001b[32m⠴\u001b[0m Updating stack...\n",
      "\u001b[2K\u001b[1A\u001b[2K\u001b[32m⠦\u001b[0m Updating stack...\n",
      "\u001b[2K\u001b[1A\u001b[2K\u001b[2;36mStack `quickstart` successfully updated!\u001b[0m\n",
      "\u001b[2;32m⠦\u001b[0m\u001b[2;36m Updating stack...\u001b[0m\n",
      "\u001b[2K\u001b[1A\u001b[2K\u001b[32m⠦\u001b[0m Updating stack...\n",
      "\n",
      "\u001b[1A\u001b[2K\u001b[1A\u001b[2K\u001b[33mYou can display various ZenML entities including pipelines, runs, stacks and \u001b[0m\n",
      "\u001b[33mmuch more on the ZenML Dashboard. You can try it locally, by running `zenml up`,\u001b[0m\n",
      "\u001b[33mor remotely, by deploying ZenML on the infrastructure of your choice.\u001b[0m\n"
     ]
    }
   ],
   "source": [
    "# Register the MLflow model registry\n",
    "!zenml model-registry register mlflow --flavor=mlflow\n",
    "\n",
    "# Update our stack to include the model registry\n",
    "!zenml stack update quickstart -r mlflow"
   ]
  },
  {
   "cell_type": "markdown",
   "metadata": {
    "id": "UF344d0jGHJF"
   },
   "source": [
    "![](https://github.com/zenml-io/zenml/blob/main/examples/quickstart/_assets/local_stack_with_local_mlflow_tracker_and_registry.png?raw=1)"
   ]
  },
  {
   "cell_type": "markdown",
   "metadata": {
    "id": "CZR07d1_GHJF"
   },
   "source": [
    "We're ready to run the pipeline now, which we can do just -- as with the step -- by calling the\n",
    "pipeline function itself."
   ]
  },
  {
   "cell_type": "code",
   "execution_count": 9,
   "metadata": {
    "id": "fW8r6LxNGHJG"
   },
   "outputs": [
    {
     "name": "stdout",
     "output_type": "stream",
     "text": [
      "\u001b[1;35mInitiating a new run for the pipeline: \u001b[0m\u001b[1;36mtrain_and_register_model_pipeline\u001b[1;35m.\u001b[0m\n",
      "\u001b[1;35mRegistered new version: \u001b[0m\u001b[1;36m(version 1)\u001b[1;35m.\u001b[0m\n",
      "\u001b[1;35mExecuting a new run.\u001b[0m\n",
      "\u001b[1;35mUsing user: \u001b[0m\u001b[1;36mdefault\u001b[1;35m\u001b[0m\n",
      "\u001b[1;35mUsing stack: \u001b[0m\u001b[1;36mquickstart\u001b[1;35m\u001b[0m\n",
      "\u001b[1;35m  orchestrator: \u001b[0m\u001b[1;36mdefault\u001b[1;35m\u001b[0m\n",
      "\u001b[1;35m  artifact_store: \u001b[0m\u001b[1;36mdefault\u001b[1;35m\u001b[0m\n",
      "\u001b[1;35m  experiment_tracker: \u001b[0m\u001b[1;36mmlflow\u001b[1;35m\u001b[0m\n",
      "\u001b[1;35m  model_registry: \u001b[0m\u001b[1;36mmlflow\u001b[1;35m\u001b[0m\n",
      "\u001b[1;35mStep \u001b[0m\u001b[1;36mtraining_data_loader\u001b[1;35m has started.\u001b[0m\n",
      "\u001b[1;35mStep \u001b[0m\u001b[1;36mtraining_data_loader\u001b[1;35m has finished in \u001b[0m\u001b[1;36m11.219s\u001b[1;35m.\u001b[0m\n",
      "\u001b[1;35mStep \u001b[0m\u001b[1;36mrandom_forest_trainer_mlflow\u001b[1;35m has started.\u001b[0m\n",
      "2023/12/18 16:56:39 INFO mlflow.tracking.fluent: Experiment with name 'train_and_register_model_pipeline' does not exist. Creating a new experiment.\n",
      "2023/12/18 16:56:45 WARNING mlflow.utils.autologging_utils: MLflow autologging encountered a warning: \"/opt/homebrew/Cellar/python@3.11/3.11.6_1/Frameworks/Python.framework/Versions/3.11/lib/python3.11/site-packages/_distutils_hack/__init__.py:33: UserWarning: Setuptools is replacing distutils.\"\n",
      "Train accuracy: 1.0\n",
      "/opt/homebrew/lib/python3.11/site-packages/zenml/integrations/mlflow/experiment_trackers/mlflow_experiment_tracker.py:242: FutureWarning: ``mlflow.gluon.autolog`` is deprecated since 2.5.0. This method will be removed in a future release.\n",
      "  gluon.autolog(disable=True)\n",
      "\u001b[1;35mStep \u001b[0m\u001b[1;36mrandom_forest_trainer_mlflow\u001b[1;35m has finished in \u001b[0m\u001b[1;36m6.503s\u001b[1;35m.\u001b[0m\n",
      "\u001b[1;35mStep \u001b[0m\u001b[1;36msgd_trainer_mlflow\u001b[1;35m has started.\u001b[0m\n",
      "/opt/homebrew/lib/python3.11/site-packages/sklearn/metrics/_classification.py:1344: UndefinedMetricWarning: Precision is ill-defined and being set to 0.0 in labels with no predicted samples. Use `zero_division` parameter to control this behavior.\n",
      "  _warn_prf(average, modifier, msg_start, len(result))\n",
      "Train accuracy: 0.24775166811720337\n",
      "/opt/homebrew/lib/python3.11/site-packages/zenml/integrations/mlflow/experiment_trackers/mlflow_experiment_tracker.py:242: FutureWarning: ``mlflow.gluon.autolog`` is deprecated since 2.5.0. This method will be removed in a future release.\n",
      "  gluon.autolog(disable=True)\n",
      "\u001b[1;35mStep \u001b[0m\u001b[1;36msgd_trainer_mlflow\u001b[1;35m has finished in \u001b[0m\u001b[1;36m2.826s\u001b[1;35m.\u001b[0m\n",
      "\u001b[1;35mStep \u001b[0m\u001b[1;36mbest_model_selector\u001b[1;35m has started.\u001b[0m\n",
      "Test accuracy (RandomForestClassifier): 0.8503232222774739\n",
      "Test accuracy (SGDClassifier): 0.2536051715564396\n",
      "\u001b[1;35mStep \u001b[0m\u001b[1;36mbest_model_selector\u001b[1;35m has finished in \u001b[0m\u001b[1;36m0.566s\u001b[1;35m.\u001b[0m\n",
      "\u001b[1;35mCaching \u001b[0m\u001b[1;36menabled\u001b[1;35m explicitly for \u001b[0m\u001b[1;36mmlflow_register_model_step\u001b[1;35m.\u001b[0m\n",
      "\u001b[1;35mStep \u001b[0m\u001b[1;36mmlflow_register_model_step\u001b[1;35m has started.\u001b[0m\n",
      "\u001b[1;35mNo registered model with name zenml-quickstart-model found. Creating a newregistered model.\u001b[0m\n",
      "\u001b[1;35mMLflow model registry does not take a version as an argument. Registering a new version for the model \u001b[0m\u001b[1;36m'zenml-quickstart-model'\u001b[1;35m a version will be assigned automatically.\u001b[0m\n",
      "2023/12/18 16:56:49 INFO mlflow.tracking._model_registry.client: Waiting up to 300 seconds for model version to finish creation. Model name: zenml-quickstart-model, version 1\n",
      "\u001b[1;35mRegistered model zenml-quickstart-model with version 1 from source file:///Users/m.alaudeen/Library/Application Support/zenml/local_stores/3a8e261b-aedd-4ba9-833d-04dd5bc2d096/mlruns/271176552918570554/7823ca21a4ae4f3cb48773a670197d9a/artifacts/model.\u001b[0m\n",
      "\u001b[1;35mStep \u001b[0m\u001b[1;36mmlflow_register_model_step\u001b[1;35m has finished in \u001b[0m\u001b[1;36m0.030s\u001b[1;35m.\u001b[0m\n",
      "\u001b[1;35mRun \u001b[0m\u001b[1;36mtrain_and_register_model_pipeline-2023_12_18-12_56_28_062768\u001b[1;35m has finished in \u001b[0m\u001b[1;36m21.286s\u001b[1;35m.\u001b[0m\n",
      "\u001b[1;35mYou can visualize your pipeline runs in the \u001b[0m\u001b[1;36mZenML Dashboard\u001b[1;35m. In order to try it locally, please run \u001b[0m\u001b[1;36mzenml up\u001b[1;35m.\u001b[0m\n"
     ]
    }
   ],
   "source": [
    "train_and_register_model_pipeline()"
   ]
  },
  {
   "cell_type": "markdown",
   "metadata": {
    "id": "hAJ5hZetGHJG"
   },
   "source": [
    "You can see from the logs already how our model training went: the\n",
    "`RandomForestClassifier` performed considerably better than the `SGDClassifier`,\n",
    "so that will have been the model that was returned from the evaluation step and\n",
    "then registered with the MLflow model registry."
   ]
  },
  {
   "cell_type": "markdown",
   "metadata": {
    "id": "OcRUo6eHGHJG"
   },
   "source": [
    "At this point you might be interested to view your pipeline in the ZenML\n",
    "Dashboard. You can spin this up by executing the next cell. This will start a\n",
    "server which you can access by clicking on the link that appears in the output\n",
    "of the cell.\n",
    "\n",
    "Log into the Dashboard using default credentials (username 'default' and\n",
    "password left blank). From there you can inspect the pipeline or the specific\n",
    "pipeline run. You can also examine the stack and components that we've\n",
    "registered to run everything.\n",
    "\n",
    "![](https://github.com/zenml-io/zenml/blob/main/examples/quickstart/llm_quickstart/_assets/zenml-up.gif?raw=1)"
   ]
  },
  {
   "cell_type": "code",
   "execution_count": null,
   "metadata": {
    "id": "h_A4KjiiGHJG"
   },
   "outputs": [],
   "source": [
    "from zenml.environment import Environment\n",
    "\n",
    "if Environment.in_google_colab():\n",
    "    # run ZenML through a cloudflare tunnel to get a public endpoint\n",
    "    !zenml up --port 8237 & cloudflared tunnel --url http://localhost:8237\n",
    "else:\n",
    "    !zenml up"
   ]
  },
  {
   "cell_type": "markdown",
   "metadata": {
    "id": "xgrkEZUAGHJG"
   },
   "source": [
    "We're using MLflow for our experiment tracking. If you'd like to inspect the\n",
    "MLflow dashboard to see your experiments and what's been logged so far, run the\n",
    "following cell. This cell will spin up a local server that you can access via\n",
    "the link mentioned after the \"Listening at:\" `INFO` log statement."
   ]
  },
  {
   "cell_type": "code",
   "execution_count": null,
   "metadata": {
    "id": "TAIx4mLeGHJG"
   },
   "outputs": [],
   "source": [
    "import os\n",
    "from zenml.integrations.mlflow.mlflow_utils import get_tracking_uri\n",
    "\n",
    "os.environ[\"MLFLOW_TRACKING_URI\"] = get_tracking_uri()\n",
    "\n",
    "if Environment.in_google_colab():\n",
    "    # run mlflow through a cloudflare tunnel to get a public endpoint\n",
    "    !mlflow ui --backend-store-uri $MLFLOW_TRACKING_URI & cloudflared tunnel --url http://localhost:5000\n",
    "else:\n",
    "    !mlflow ui --backend-store-uri $MLFLOW_TRACKING_URI"
   ]
  },
  {
   "cell_type": "markdown",
   "metadata": {
    "id": "gYSHh_x8GHJJ"
   },
   "source": [
    "Our pipeline above registered the best model with the MLflow model registry.\n",
    "Whenever you register a model it also versions the model since it's likely that\n",
    "you'll be iterating and improving your model over time.\n",
    "\n",
    "We'll now turn to actually deploying our model and serving some predictions, for\n",
    "which we'll need to specify the model version we want to use. You can specify\n",
    "the version number manually but below we'll use the ZenML `Client` to get the\n",
    "latest version number."
   ]
  },
  {
   "cell_type": "code",
   "execution_count": 10,
   "metadata": {
    "id": "F9Za_fJ5GHJJ"
   },
   "outputs": [
    {
     "data": {
      "text/plain": [
       "1"
      ]
     },
     "execution_count": 10,
     "metadata": {},
     "output_type": "execute_result"
    }
   ],
   "source": [
    "from zenml.client import Client\n",
    "\n",
    "most_recent_model_version_number = int(\n",
    "    Client()\n",
    "    .active_stack.model_registry.list_model_versions(metadata={})[0]\n",
    "    .version\n",
    ")\n",
    "most_recent_model_version_number"
   ]
  },
  {
   "cell_type": "markdown",
   "metadata": {
    "id": "dCuQfbz9GHJJ"
   },
   "source": [
    "Now we've trained our model, and we've found the best one, we want to deploy it\n",
    "and run some inference on the deployed model. We'll use the local MLflow model\n",
    "deployer which once again comes with some pre-built ZenML steps to save you reinventing the wheel."
   ]
  },
  {
   "cell_type": "code",
   "execution_count": 11,
   "metadata": {
    "id": "eilqfbnrGHJJ"
   },
   "outputs": [],
   "source": [
    "from zenml.integrations.mlflow.steps.mlflow_deployer import (\n",
    "    mlflow_model_registry_deployer_step,\n",
    ")\n",
    "\n",
    "model_deployer = mlflow_model_registry_deployer_step.with_options(\n",
    "    parameters=dict(\n",
    "        registry_model_name=model_name,\n",
    "        registry_model_version=most_recent_model_version_number,\n",
    "    )\n",
    ")"
   ]
  },
  {
   "cell_type": "markdown",
   "metadata": {
    "id": "S_0LsMbqGHJJ"
   },
   "source": [
    "When you deploy a model this is usually something you want to remain available\n",
    "and running for a long time, so ZenML automatically creates a background service\n",
    "for your deployed model. We load the service (already created by the\n",
    "`model_deployer` step) and then use it to make some predictions."
   ]
  },
  {
   "cell_type": "code",
   "execution_count": 12,
   "metadata": {
    "id": "ZYioZsDxGHJJ"
   },
   "outputs": [],
   "source": [
    "from zenml.services import BaseService\n",
    "from zenml.client import Client\n",
    "\n",
    "\n",
    "@step(enable_cache=False)\n",
    "def prediction_service_loader() -> BaseService:\n",
    "    \"\"\"Load the model service of our train_and_register_model_pipeline.\"\"\"\n",
    "    client = Client()\n",
    "    model_deployer = client.active_stack.model_deployer\n",
    "    services = model_deployer.find_model_server(\n",
    "        pipeline_name=\"train_and_register_model_pipeline\",\n",
    "        running=True,\n",
    "    )\n",
    "    return services[0]\n",
    "\n",
    "\n",
    "@step\n",
    "def predictor(\n",
    "    service: BaseService,\n",
    "    data: pd.DataFrame,\n",
    ") -> Annotated[list, \"predictions\"]:\n",
    "    \"\"\"Run a inference request against a prediction service.\"\"\"\n",
    "    service.start(timeout=10)  # should be a NOP if already started\n",
    "    print(f\"Running predictions on data (single individual): {data.to_numpy()[0]}\")\n",
    "    prediction = service.predict(data.to_numpy())\n",
    "    print(f\"Prediction (for single example slice) is: {bool(prediction.tolist()[0])}\")\n",
    "    return prediction.tolist()"
   ]
  },
  {
   "cell_type": "code",
   "execution_count": 13,
   "metadata": {
    "id": "JSKISKAZGHJJ"
   },
   "outputs": [
    {
     "name": "stdout",
     "output_type": "stream",
     "text": [
      "\u001b[?25l\u001b[32m⠋\u001b[0m Registering model deployer 'mlflow'...\n",
      "\u001b[2K\u001b[1A\u001b[2K\u001b[32m⠙\u001b[0m Registering model deployer 'mlflow'...\n",
      "\u001b[2K\u001b[1A\u001b[2K\u001b[32m⠹\u001b[0m Registering model deployer 'mlflow'...\n",
      "\u001b[2K\u001b[1A\u001b[2K\u001b[32m⠸\u001b[0m Registering model deployer 'mlflow'...\n",
      "\u001b[2K\u001b[1A\u001b[2K\u001b[32m⠼\u001b[0m Registering model deployer 'mlflow'...\n",
      "\u001b[2K\u001b[1A\u001b[2K\u001b[32m⠴\u001b[0m Registering model deployer 'mlflow'...\n",
      "\u001b[2K\u001b[1A\u001b[2K\u001b[2;36mSuccessfully registered model_deployer `mlflow`.\u001b[0m\n",
      "\u001b[2;32m⠦\u001b[0m\u001b[2;36m Registering model deployer 'mlflow'...\u001b[0m\n",
      "\u001b[2K\u001b[1A\u001b[2K\u001b[32m⠦\u001b[0m Registering model deployer 'mlflow'...\n",
      "\u001b[2K\u001b[1A\u001b[2K\u001b[33mYou can display various ZenML entities including pipelines, runs, stacks and \u001b[0m\n",
      "\u001b[33mmuch more on the ZenML Dashboard. You can try it locally, by running `zenml up`,\u001b[0m\n",
      "\u001b[33mor remotely, by deploying ZenML on the infrastructure of your choice.\u001b[0m\n",
      "\u001b[32m⠦\u001b[0m\u001b[33m Registering model deployer 'mlflow'...\u001b[0m\n",
      "\u001b[2K\u001b[1A\u001b[2K\u001b[32m⠦\u001b[0m Registering model deployer 'mlflow'...\n",
      "\n",
      "\u001b[1A\u001b[2K\u001b[1A\u001b[2K\u001b[?25l\u001b[32m⠋\u001b[0m Updating stack...\n",
      "\u001b[2K\u001b[1A\u001b[2K\u001b[32m⠙\u001b[0m Updating stack...\n",
      "\u001b[2K\u001b[1A\u001b[2K\u001b[32m⠹\u001b[0m Updating stack...\n",
      "\u001b[2K\u001b[1A\u001b[2K\u001b[32m⠸\u001b[0m Updating stack...\n",
      "\u001b[2K\u001b[1A\u001b[2K\u001b[32m⠼\u001b[0m Updating stack...\n",
      "\u001b[2K\u001b[1A\u001b[2K\u001b[32m⠴\u001b[0m Updating stack...\n",
      "\u001b[2K\u001b[1A\u001b[2K\u001b[32m⠦\u001b[0m Updating stack...\n",
      "\u001b[2K\u001b[1A\u001b[2K\u001b[32m⠧\u001b[0m Updating stack...\n",
      "\u001b[2K\u001b[1A\u001b[2K\u001b[32m⠇\u001b[0m Updating stack...\n",
      "\u001b[2K\u001b[1A\u001b[2K\u001b[32m⠏\u001b[0m Updating stack...\n",
      "\u001b[2K\u001b[1A\u001b[2K\u001b[32m⠋\u001b[0m Updating stack...\n",
      "\u001b[2K\u001b[1A\u001b[2K\u001b[32m⠙\u001b[0m Updating stack...\n",
      "\u001b[2K\u001b[1A\u001b[2K\u001b[32m⠹\u001b[0m Updating stack...\n",
      "\u001b[2K\u001b[1A\u001b[2K\u001b[32m⠸\u001b[0m Updating stack...\n",
      "\u001b[2K\u001b[1A\u001b[2K\u001b[2;36mStack `quickstart` successfully updated!\u001b[0m\n",
      "\u001b[2;32m⠸\u001b[0m\u001b[2;36m Updating stack...\u001b[0m\n",
      "\u001b[2K\u001b[1A\u001b[2K\u001b[32m⠸\u001b[0m Updating stack...\n",
      "\n",
      "\u001b[1A\u001b[2K\u001b[1A\u001b[2K\u001b[33mYou can display various ZenML entities including pipelines, runs, stacks and \u001b[0m\n",
      "\u001b[33mmuch more on the ZenML Dashboard. You can try it locally, by running `zenml up`,\u001b[0m\n",
      "\u001b[33mor remotely, by deploying ZenML on the infrastructure of your choice.\u001b[0m\n"
     ]
    }
   ],
   "source": [
    "# Register the MLflow model deployer\n",
    "!zenml model-deployer register mlflow --flavor=mlflow\n",
    "\n",
    "# Register a new stack with the new stack components\n",
    "!zenml stack update quickstart -d mlflow"
   ]
  },
  {
   "cell_type": "markdown",
   "metadata": {
    "id": "x_93qNe-GHJJ"
   },
   "source": [
    "Once again there is one dependency in terms of how the step needs to run, so\n",
    "we specify it upfront: the prediction service needs to be loaded\n",
    "before we try to make predictions with it."
   ]
  },
  {
   "cell_type": "code",
   "execution_count": 14,
   "metadata": {
    "id": "IHCMESAMGHJJ"
   },
   "outputs": [],
   "source": [
    "@pipeline\n",
    "def deploy_and_predict() -> None:\n",
    "    \"\"\"Deploy the best model and run some predictions.\"\"\"\n",
    "    prediction_service_loader.after(model_deployer)\n",
    "\n",
    "    model_deployer()\n",
    "    _, inference_data, _, _ = training_data_loader()\n",
    "    model_deployment_service = prediction_service_loader()\n",
    "    predictor(service=model_deployment_service, data=inference_data)"
   ]
  },
  {
   "cell_type": "markdown",
   "metadata": {
    "id": "_7vX57O7GHJJ"
   },
   "source": [
    "Notice how we specify that we want the `prediction_service_loader` step to run *after* the\n",
    "model_deployer step. This is because we won't have a model ready for prediction\n",
    "until the deployment has taken place. ZenML automatically tries to run steps in\n",
    "parallel, so sometimes if you have this kind of sequencing you need to do then\n",
    "you'll need to specify it explicitly."
   ]
  },
  {
   "cell_type": "markdown",
   "metadata": {
    "id": "q2ZvD2OTGHJJ"
   },
   "source": [
    "![](https://github.com/zenml-io/zenml/blob/main/examples/quickstart/_assets/local_stack_with_local_mlflow_tracker_and_registry_and_deployer.png?raw=1)\n",
    "\n",
    "Unlike in the previous case where we just ran the pipeline directly, we might\n",
    "not want to deploy the model every time. Consider the case where our models are\n",
    "returning values under 50% accuracy on the test data. In that case we might want\n",
    "to address the issues with accuracy and not spin up a deployment at all. We can\n",
    "access the artifacts associated with the previous pipeline run and check the\n",
    "test accuracy metric to see if it's above a certain threshold. Adding this to\n",
    "our workflow is as simple as adding a conditional step."
   ]
  },
  {
   "cell_type": "code",
   "execution_count": 15,
   "metadata": {
    "id": "DoBGSTSmGHJJ"
   },
   "outputs": [
    {
     "data": {
      "text/html": [
       "<pre style=\"white-space:pre;overflow-x:auto;line-height:normal;font-family:Menlo,'DejaVu Sans Mono',consolas,'Courier New',monospace\"><span style=\"color: #008000; text-decoration-color: #008000\">⠋</span> Starting service 'MLFlowDeploymentService[125608d1-2538-4ba7-829b-0841315468e2] (type: model-serving, flavor: \n",
       "mlflow)'.\n",
       "\n",
       "</pre>\n"
      ],
      "text/plain": [
       "\u001b[32m⠋\u001b[0m Starting service 'MLFlowDeploymentService[125608d1-2538-4ba7-829b-0841315468e2] (type: model-serving, flavor: \n",
       "mlflow)'.\n",
       "\n"
      ]
     },
     "metadata": {},
     "output_type": "display_data"
    },
    {
     "data": {
      "text/html": [
       "<pre style=\"white-space:pre;overflow-x:auto;line-height:normal;font-family:Menlo,'DejaVu Sans Mono',consolas,'Courier New',monospace\"></pre>\n"
      ],
      "text/plain": []
     },
     "metadata": {},
     "output_type": "display_data"
    },
    {
     "name": "stdout",
     "output_type": "stream",
     "text": [
      "\u001b[1;35mCreated a new MLflow deployment service: MLFlowDeploymentService[125608d1-2538-4ba7-829b-0841315468e2] (type: model-serving, flavor: mlflow)\u001b[0m\n",
      "\u001b[1;35mMLflow deployment service started and reachable at:\n",
      "    http://127.0.0.1:8000/invocations\n",
      "\u001b[0m\n",
      "\u001b[1;35mStep \u001b[0m\u001b[1;36mmlflow_model_registry_deployer_step\u001b[1;35m has finished in \u001b[0m\u001b[1;36m3.434s\u001b[1;35m.\u001b[0m\n",
      "\u001b[1;35mUsing cached version of \u001b[0m\u001b[1;36mtraining_data_loader\u001b[1;35m.\u001b[0m\n",
      "\u001b[1;35mLinking artifact \u001b[0m\u001b[1;36moutput_3\u001b[1;35m to model \u001b[0m\u001b[1;36mNone\u001b[1;35m version \u001b[0m\u001b[1;36mNone\u001b[1;35m implicitly.\u001b[0m\n",
      "\u001b[1;35mLinking artifact \u001b[0m\u001b[1;36moutput_2\u001b[1;35m to model \u001b[0m\u001b[1;36mNone\u001b[1;35m version \u001b[0m\u001b[1;36mNone\u001b[1;35m implicitly.\u001b[0m\n",
      "\u001b[1;35mLinking artifact \u001b[0m\u001b[1;36moutput_1\u001b[1;35m to model \u001b[0m\u001b[1;36mNone\u001b[1;35m version \u001b[0m\u001b[1;36mNone\u001b[1;35m implicitly.\u001b[0m\n",
      "\u001b[1;35mLinking artifact \u001b[0m\u001b[1;36moutput_0\u001b[1;35m to model \u001b[0m\u001b[1;36mNone\u001b[1;35m version \u001b[0m\u001b[1;36mNone\u001b[1;35m implicitly.\u001b[0m\n",
      "\u001b[1;35mStep \u001b[0m\u001b[1;36mtraining_data_loader\u001b[1;35m has started.\u001b[0m\n",
      "\u001b[1;35mCaching \u001b[0m\u001b[1;36mdisabled\u001b[1;35m explicitly for \u001b[0m\u001b[1;36mprediction_service_loader\u001b[1;35m.\u001b[0m\n",
      "\u001b[1;35mStep \u001b[0m\u001b[1;36mprediction_service_loader\u001b[1;35m has started.\u001b[0m\n",
      "\u001b[1;35mStep \u001b[0m\u001b[1;36mprediction_service_loader\u001b[1;35m has finished in \u001b[0m\u001b[1;36m0.027s\u001b[1;35m.\u001b[0m\n",
      "\u001b[1;35mStep \u001b[0m\u001b[1;36mpredictor\u001b[1;35m has started.\u001b[0m\n"
     ]
    },
    {
     "data": {
      "text/html": [
       "<pre style=\"white-space:pre;overflow-x:auto;line-height:normal;font-family:Menlo,'DejaVu Sans Mono',consolas,'Courier New',monospace\"></pre>\n"
      ],
      "text/plain": []
     },
     "metadata": {},
     "output_type": "display_data"
    },
    {
     "name": "stdout",
     "output_type": "stream",
     "text": [
      "Running predictions on data (single individual): [28 76714 15 0 0 55 False True False False False False False False False\n",
      " False False False False False False False False False False True False\n",
      " False False False True False False False False False False False False\n",
      " False False True False False False False True False False False False\n",
      " False False False True True False False False False False False False\n",
      " False False False False False False False False False False False False\n",
      " False False False False False False False False False False False False\n",
      " False False False False False False True False False]\n",
      "Prediction (for single example slice) is: True\n",
      "\u001b[1;35mStep \u001b[0m\u001b[1;36mpredictor\u001b[1;35m has finished in \u001b[0m\u001b[1;36m0.135s\u001b[1;35m.\u001b[0m\n",
      "\u001b[1;35mRun \u001b[0m\u001b[1;36mdeploy_and_predict-2023_12_18-12_57_14_038005\u001b[1;35m has finished in \u001b[0m\u001b[1;36m3.698s\u001b[1;35m.\u001b[0m\n",
      "\u001b[1;35mYou can visualize your pipeline runs in the \u001b[0m\u001b[1;36mZenML Dashboard\u001b[1;35m. In order to try it locally, please run \u001b[0m\u001b[1;36mzenml up\u001b[1;35m.\u001b[0m\n"
     ]
    }
   ],
   "source": [
    "best_model_test_accuracy = (\n",
    "    Client().get_pipeline(\"train_and_register_model_pipeline\")\n",
    "    .last_successful_run.steps[\"best_model_selector\"]\n",
    "    .outputs[\"best_model_test_acc\"].load()\n",
    ")\n",
    "\n",
    "if best_model_test_accuracy > 0.7:\n",
    "    deploy_and_predict()"
   ]
  },
  {
   "cell_type": "markdown",
   "metadata": {
    "id": "4h7ab_yWGHJJ"
   },
   "source": [
    "If you recall, the purpose of this model was to predict whether or not someone\n",
    "earns more than \\$50,000 USD per year. You can see a single example in the output above.\n",
    "Given the features of a particular individual, the model predicts that they do\n",
    "not earn more than $50k per year.\n",
    "\n",
    "If we were interested in learning more about the model's predictions, we could\n",
    "separately load the predictor service and use it to pass in some other data or\n",
    "try things out. To load the predictor we can run:"
   ]
  },
  {
   "cell_type": "code",
   "execution_count": 16,
   "metadata": {
    "id": "oxH6iYccGHJJ"
   },
   "outputs": [
    {
     "data": {
      "text/plain": [
       "MLFlowDeploymentService[125608d1-2538-4ba7-829b-0841315468e2] (type: model-serving, flavor: mlflow)"
      ]
     },
     "execution_count": 16,
     "metadata": {},
     "output_type": "execute_result"
    }
   ],
   "source": [
    "predictor_service = deploy_and_predict.model.last_successful_run.steps[\n",
    "    \"prediction_service_loader\"\n",
    "].output.load()\n",
    "\n",
    "predictor_service"
   ]
  },
  {
   "cell_type": "markdown",
   "metadata": {
    "id": "HL7rXIXlGHJJ"
   },
   "source": [
    "At this point, passing in some data is as simple as calling the `predict` method\n",
    "on the predictor service. We can try this here:"
   ]
  },
  {
   "cell_type": "code",
   "execution_count": 17,
   "metadata": {
    "id": "CW-JbxMXGHJJ"
   },
   "outputs": [
    {
     "name": "stdout",
     "output_type": "stream",
     "text": [
      "Model predictions: [1 1 1 1 1 1 1 1 1 1]\n",
      "Ground truth:      [1 1 1 0 0 1 0 1 0 0]\n"
     ]
    }
   ],
   "source": [
    "print(\n",
    "    f\"Model predictions: {predictor_service.predict(X_test.to_numpy()[25:35])}\"\n",
    ")\n",
    "print(f\"Ground truth:      {y_test.to_numpy()[25:35]}\")"
   ]
  },
  {
   "cell_type": "markdown",
   "metadata": {
    "id": "mrLD9BXPGHJJ"
   },
   "source": [
    "We're passing in some of our test data into the model and getting back the\n",
    "predictions. You can already start to see some of the places where our\n",
    "predictions are not matching the ground truth labels. This is to be expected but\n",
    "we could potentially use this to now iterate on our models by adding more steps.\n",
    "\n",
    "To get an overview of the models and model versions that we have registered and\n",
    "deployed so\n",
    "far, we can use the CLI to list these out."
   ]
  },
  {
   "cell_type": "code",
   "execution_count": 18,
   "metadata": {
    "id": "0LedgSE8GHJJ"
   },
   "outputs": [
    {
     "name": "stdout",
     "output_type": "stream",
     "text": [
      "┏━━━━━━━━━━━━━━━━━━━━━━━━┯━━━━━━━━━━━━━┯━━━━━━━━━━┓\n",
      "┃\u001b[1m \u001b[0m\u001b[1m         NAME         \u001b[0m\u001b[1m \u001b[0m│\u001b[1m \u001b[0m\u001b[1mDESCRIPTION\u001b[0m\u001b[1m \u001b[0m│\u001b[1m \u001b[0m\u001b[1mMETADATA\u001b[0m\u001b[1m \u001b[0m┃\n",
      "┠────────────────────────┼─────────────┼──────────┨\n",
      "┃ zenml-quickstart-model │             │          ┃\n",
      "┗━━━━━━━━━━━━━━━━━━━━━━━━┷━━━━━━━━━━━━━┷━━━━━━━━━━┛\n"
     ]
    }
   ],
   "source": [
    "!zenml model-registry models list"
   ]
  },
  {
   "cell_type": "code",
   "execution_count": 19,
   "metadata": {
    "id": "MarGEBTiGHJJ"
   },
   "outputs": [
    {
     "name": "stdout",
     "output_type": "stream",
     "text": [
      "┏━━━━━━━━━━━━━━━━━━━━┯━━━━━━━━━━━━━━━┯━━━━━━━━━━━━━━━━━━━━┯━━━━━━━━━━━━━━━━━━━━┓\n",
      "┃\u001b[1m                    \u001b[0m│\u001b[1m               \u001b[0m│\u001b[1m \u001b[0m\u001b[1mVERSION_DESCRIPTIO\u001b[0m\u001b[1m \u001b[0m│\u001b[1m                    \u001b[0m┃\n",
      "┃\u001b[1m \u001b[0m\u001b[1m       NAME       \u001b[0m\u001b[1m \u001b[0m│\u001b[1m \u001b[0m\u001b[1mMODEL_VERSION\u001b[0m\u001b[1m \u001b[0m│\u001b[1m \u001b[0m\u001b[1mN                 \u001b[0m\u001b[1m \u001b[0m│\u001b[1m \u001b[0m\u001b[1mMETADATA          \u001b[0m\u001b[1m \u001b[0m┃\n",
      "┠────────────────────┼───────────────┼────────────────────┼────────────────────┨\n",
      "┃ zenml-quickstart-m │ 1             │ The first run of   │ {'zenml_version':  ┃\n",
      "┃        odel        │               │ the Quickstart     │ '0.52.0',          ┃\n",
      "┃                    │               │ pipeline.          │ 'zenml_pipeline_na ┃\n",
      "┃                    │               │                    │ me':               ┃\n",
      "┃                    │               │                    │ 'train_and_registe ┃\n",
      "┃                    │               │                    │ r_model_pipeline', ┃\n",
      "┃                    │               │                    │                    ┃\n",
      "┃                    │               │                    │ 'zenml_pipeline_ru ┃\n",
      "┃                    │               │                    │ n_uuid':           ┃\n",
      "┃                    │               │                    │ '794d0a0c-b579-4ad ┃\n",
      "┃                    │               │                    │ c-a149-d42485dc4c6 ┃\n",
      "┃                    │               │                    │ 3',                ┃\n",
      "┃                    │               │                    │ 'zenml_workspace': ┃\n",
      "┃                    │               │                    │ '96fb809e-0171-4ba ┃\n",
      "┃                    │               │                    │ c-913e-e2595b50141 ┃\n",
      "┃                    │               │                    │ d'}                ┃\n",
      "┗━━━━━━━━━━━━━━━━━━━━┷━━━━━━━━━━━━━━━┷━━━━━━━━━━━━━━━━━━━━┷━━━━━━━━━━━━━━━━━━━━┛\n"
     ]
    }
   ],
   "source": [
    "!zenml model-registry models list-versions zenml-quickstart-model"
   ]
  },
  {
   "cell_type": "code",
   "execution_count": 20,
   "metadata": {
    "id": "pfEFeDfZGHJJ"
   },
   "outputs": [
    {
     "name": "stdout",
     "output_type": "stream",
     "text": [
      "┏━━━━━━━━┯━━━━━━━━━━━━━━━━━━┯━━━━━━━━━━━━━━━━━━┯━━━━━━━━━━━━━━━━━━┯━━━━━━━━━━━━┓\n",
      "┃\u001b[1m        \u001b[0m│\u001b[1m                  \u001b[0m│\u001b[1m                  \u001b[0m│\u001b[1m \u001b[0m\u001b[1mPIPELINE_STEP_NA\u001b[0m\u001b[1m \u001b[0m│\u001b[1m            \u001b[0m┃\n",
      "┃\u001b[1m \u001b[0m\u001b[1mSTATUS\u001b[0m\u001b[1m \u001b[0m│\u001b[1m \u001b[0m\u001b[1mUUID            \u001b[0m\u001b[1m \u001b[0m│\u001b[1m \u001b[0m\u001b[1mPIPELINE_NAME   \u001b[0m\u001b[1m \u001b[0m│\u001b[1m \u001b[0m\u001b[1mME              \u001b[0m\u001b[1m \u001b[0m│\u001b[1m \u001b[0m\u001b[1mMODEL_NAME\u001b[0m\u001b[1m \u001b[0m┃\n",
      "┠────────┼──────────────────┼──────────────────┼──────────────────┼────────────┨\n",
      "┃   ✅   │ 125608d1-2538-4b │ train_and_regist │                  │ model      ┃\n",
      "┃        │ a7-829b-08413154 │ er_model_pipelin │                  │            ┃\n",
      "┃        │ 68e2             │ e                │                  │            ┃\n",
      "┗━━━━━━━━┷━━━━━━━━━━━━━━━━━━┷━━━━━━━━━━━━━━━━━━┷━━━━━━━━━━━━━━━━━━┷━━━━━━━━━━━━┛\n"
     ]
    }
   ],
   "source": [
    "!zenml model-deployer models list"
   ]
  },
  {
   "cell_type": "markdown",
   "metadata": {
    "id": "2DxLAZ-mGHJJ"
   },
   "source": [
    "To view all this on the ZenML Dashboard, simply spin up the server again and\n",
    "view the steps via the DAG visualiser and also browse the artifacts."
   ]
  },
  {
   "cell_type": "code",
   "execution_count": null,
   "metadata": {
    "id": "rIurXlrSGHJJ"
   },
   "outputs": [],
   "source": [
    "if Environment.in_google_colab():\n",
    "    !zenml down # server needs restarting due to colab bug.\n",
    "    # run ZenML through a cloudflare tunnel to get a public endpoint\n",
    "    !zenml up --port 8237 & cloudflared tunnel --url http://localhost:8237\n",
    "else:\n",
    "    !zenml up"
   ]
  },
  {
   "cell_type": "markdown",
   "metadata": {
    "id": "ipnMKhZ6GHJJ"
   },
   "source": [
    "## Congratulations!\n",
    "\n",
    "You just built two ML pipelines! You trained two models, evaluated them against\n",
    "a test set, registered the best one with the MLflow model registry, deployed it\n",
    "and served some predictions. You also learned how to iterate on your models and\n",
    "data by using some of the ZenML utility abstractions. You saw how to view your\n",
    "artifacts and stacks via the CLI as well as the ZenML Dashboard.\n",
    "\n",
    "And that is just the tip of the iceberg of what ZenML can do; check out the [**Integrations**](https://zenml.io/integrations) page for a list of all the cool MLOps tools that ZenML supports!\n",
    "\n",
    "## What to do now\n",
    "\n",
    "* If you have questions or feedback... join our [**Slack Community**](https://zenml.io/slack-invite) and become part of the ZenML family!\n",
    "* If you want to try ZenML in a real-world setting... check out the [ZenML Cloud](https://cloud.zenml.io/), a free trial of\n",
    "    ZenML's managed offering that runs on your Cloud platform. [**Sign up here**](https://sandbox.zenml.io/)."
   ]
  },
  {
   "cell_type": "markdown",
   "metadata": {
    "id": "2806Dhj3GHJK"
   },
   "source": []
  },
  {
   "cell_type": "code",
   "execution_count": null,
   "metadata": {},
   "outputs": [],
   "source": []
  }
 ],
 "metadata": {
  "colab": {
   "provenance": []
  },
  "kernelspec": {
   "display_name": "Python 3 (ipykernel)",
   "language": "python",
   "name": "python3"
  },
  "language_info": {
   "codemirror_mode": {
    "name": "ipython",
    "version": 3
   },
   "file_extension": ".py",
   "mimetype": "text/x-python",
   "name": "python",
   "nbconvert_exporter": "python",
   "pygments_lexer": "ipython3",
   "version": "3.11.6"
  }
 },
 "nbformat": 4,
 "nbformat_minor": 4
}
